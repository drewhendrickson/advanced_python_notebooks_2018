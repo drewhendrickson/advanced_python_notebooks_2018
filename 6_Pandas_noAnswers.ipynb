{
 "cells": [
  {
   "cell_type": "markdown",
   "metadata": {},
   "source": [
    "# Lecture 6: Pandas\n",
    "\n",
    "Pandas is a python library designed to make many common types of data analysis straightforward. It borrows heavily from R. \n",
    "\n",
    "### Memory structure\n",
    "\n",
    "The basic datastructure in Pandas is a DataFrame. These data frames are very similar to Numpy Structured Arrays, except how they are stored in memory is completely different. \n",
    "\n",
    "Structured arrays consist of a Numpy array with an entry for each row in the structured array, and each entry is a tuple. \n",
    "\n",
    "Pandas data frames consist of a dictionary-like object (with keys indicating rows or indexes) containing a set of columns. Each column is stored as a Numpy 1D array (actually, Pandas has a wapper for the 1D array called a Series that shows up here and there) that consists of that array plus an additional array that contains indexes.\n",
    "\n",
    "This hybrid representation makes computations within a column very fast, and computations across columns not particularly ineffient because of the extra index array stored with each column. The sacrifice in this case is storage space, Pandas dataframes take up more memory than Numpy or Scipy arrays.\n",
    "\n",
    "### Advantages\n",
    "\n",
    "Pandas is designed to a few things very well. It is incredibly useful for grouping data, aggregating and processing these groups, and reshaping data. Support for time-series analyses in Pandas is also strong with built-in date and time representations."
   ]
  },
  {
   "cell_type": "code",
   "execution_count": 3,
   "metadata": {
    "collapsed": false
   },
   "outputs": [],
   "source": [
    "import numpy\n",
    "import pandas"
   ]
  },
  {
   "cell_type": "markdown",
   "metadata": {},
   "source": [
    "## 6.1 Reading and writing Pandas data frames"
   ]
  },
  {
   "cell_type": "code",
   "execution_count": 4,
   "metadata": {
    "collapsed": false
   },
   "outputs": [],
   "source": [
    "# read a data file into pandas\n",
    "data = pandas.read_csv(\"iris.txt\", delim_whitespace=True, header=None)"
   ]
  },
  {
   "cell_type": "code",
   "execution_count": 5,
   "metadata": {
    "collapsed": false
   },
   "outputs": [],
   "source": [
    "# save the datafile as a csv\n",
    "data.to_csv(\"tmp.csv\", sep=\",\")"
   ]
  },
  {
   "cell_type": "markdown",
   "metadata": {},
   "source": [
    "## 6.2 Getting some simple information"
   ]
  },
  {
   "cell_type": "code",
   "execution_count": 6,
   "metadata": {
    "collapsed": false
   },
   "outputs": [
    {
     "name": "stdout",
     "output_type": "stream",
     "text": [
      "     0    1    2    3       4\n",
      "0  5.1  3.5  1.4  0.2  setosa\n",
      "1  4.9  3.0  1.4  0.2  setosa\n",
      "2  4.7  3.2  1.3  0.2  setosa\n",
      "3  4.6  3.1  1.5  0.2  setosa\n",
      "4  5.0  3.6  1.4  0.2  setosa\n",
      "       0    1    2    3          4\n",
      "145  6.7  3.0  5.2  2.3  virginica\n",
      "146  6.3  2.5  5.0  1.9  virginica\n",
      "147  6.5  3.0  5.2  2.0  virginica\n",
      "148  6.2  3.4  5.4  2.3  virginica\n",
      "149  5.9  3.0  5.1  1.8  virginica\n"
     ]
    }
   ],
   "source": [
    "# first 5 rows\n",
    "print(data.head())\n",
    "# last 5 rows\n",
    "print(data.tail())"
   ]
  },
  {
   "cell_type": "code",
   "execution_count": 7,
   "metadata": {
    "collapsed": false
   },
   "outputs": [
    {
     "name": "stdout",
     "output_type": "stream",
     "text": [
      "   sepal_length  sepal_width  petal_length  petal_width    type\n",
      "0           5.1          3.5           1.4          0.2  setosa\n",
      "1           4.9          3.0           1.4          0.2  setosa\n",
      "2           4.7          3.2           1.3          0.2  setosa\n",
      "3           4.6          3.1           1.5          0.2  setosa\n",
      "4           5.0          3.6           1.4          0.2  setosa\n",
      "5           5.4          3.9           1.7          0.4  setosa\n",
      "6           4.6          3.4           1.4          0.3  setosa\n",
      "7           5.0          3.4           1.5          0.2  setosa\n",
      "8           4.4          2.9           1.4          0.2  setosa\n",
      "9           4.9          3.1           1.5          0.1  setosa\n"
     ]
    }
   ],
   "source": [
    "data.columns = [\"sepal_length\", \"sepal_width\", \"petal_length\", \"petal_width\", \"type\"]\n",
    "print(data.head(10))"
   ]
  },
  {
   "cell_type": "code",
   "execution_count": 8,
   "metadata": {
    "collapsed": false
   },
   "outputs": [
    {
     "name": "stdout",
     "output_type": "stream",
     "text": [
      "<class 'pandas.core.frame.DataFrame'>\n",
      "RangeIndex: 150 entries, 0 to 149\n",
      "Data columns (total 5 columns):\n",
      "sepal_length    150 non-null float64\n",
      "sepal_width     150 non-null float64\n",
      "petal_length    150 non-null float64\n",
      "petal_width     150 non-null float64\n",
      "type            150 non-null object\n",
      "dtypes: float64(4), object(1)\n",
      "memory usage: 5.9+ KB\n",
      "None\n"
     ]
    }
   ],
   "source": [
    "print(data.info())"
   ]
  },
  {
   "cell_type": "code",
   "execution_count": 9,
   "metadata": {
    "collapsed": false
   },
   "outputs": [
    {
     "name": "stdout",
     "output_type": "stream",
     "text": [
      "       sepal_length  sepal_width  petal_length  petal_width\n",
      "count    150.000000   150.000000    150.000000   150.000000\n",
      "mean       5.843333     3.057333      3.758000     1.199333\n",
      "std        0.828066     0.435866      1.765298     0.762238\n",
      "min        4.300000     2.000000      1.000000     0.100000\n",
      "25%        5.100000     2.800000      1.600000     0.300000\n",
      "50%        5.800000     3.000000      4.350000     1.300000\n",
      "75%        6.400000     3.300000      5.100000     1.800000\n",
      "max        7.900000     4.400000      6.900000     2.500000\n"
     ]
    }
   ],
   "source": [
    "print(data.describe())"
   ]
  },
  {
   "cell_type": "code",
   "execution_count": 10,
   "metadata": {
    "collapsed": false
   },
   "outputs": [
    {
     "data": {
      "text/html": [
       "<div>\n",
       "<table border=\"1\" class=\"dataframe\">\n",
       "  <thead>\n",
       "    <tr style=\"text-align: right;\">\n",
       "      <th></th>\n",
       "      <th>sepal_length</th>\n",
       "      <th>sepal_width</th>\n",
       "      <th>petal_length</th>\n",
       "      <th>petal_width</th>\n",
       "      <th>type</th>\n",
       "    </tr>\n",
       "  </thead>\n",
       "  <tbody>\n",
       "    <tr>\n",
       "      <th>0</th>\n",
       "      <td>5.1</td>\n",
       "      <td>3.5</td>\n",
       "      <td>1.4</td>\n",
       "      <td>0.2</td>\n",
       "      <td>setosa</td>\n",
       "    </tr>\n",
       "    <tr>\n",
       "      <th>1</th>\n",
       "      <td>4.9</td>\n",
       "      <td>3.0</td>\n",
       "      <td>1.4</td>\n",
       "      <td>0.2</td>\n",
       "      <td>setosa</td>\n",
       "    </tr>\n",
       "    <tr>\n",
       "      <th>2</th>\n",
       "      <td>4.7</td>\n",
       "      <td>3.2</td>\n",
       "      <td>1.3</td>\n",
       "      <td>0.2</td>\n",
       "      <td>setosa</td>\n",
       "    </tr>\n",
       "    <tr>\n",
       "      <th>3</th>\n",
       "      <td>4.6</td>\n",
       "      <td>3.1</td>\n",
       "      <td>1.5</td>\n",
       "      <td>0.2</td>\n",
       "      <td>setosa</td>\n",
       "    </tr>\n",
       "    <tr>\n",
       "      <th>4</th>\n",
       "      <td>5.0</td>\n",
       "      <td>3.6</td>\n",
       "      <td>1.4</td>\n",
       "      <td>0.2</td>\n",
       "      <td>setosa</td>\n",
       "    </tr>\n",
       "  </tbody>\n",
       "</table>\n",
       "</div>"
      ],
      "text/plain": [
       "   sepal_length  sepal_width  petal_length  petal_width    type\n",
       "0           5.1          3.5           1.4          0.2  setosa\n",
       "1           4.9          3.0           1.4          0.2  setosa\n",
       "2           4.7          3.2           1.3          0.2  setosa\n",
       "3           4.6          3.1           1.5          0.2  setosa\n",
       "4           5.0          3.6           1.4          0.2  setosa"
      ]
     },
     "execution_count": 10,
     "metadata": {},
     "output_type": "execute_result"
    }
   ],
   "source": [
    "# pandas has some nice default printing options when not passed through print\n",
    "data.head()"
   ]
  },
  {
   "cell_type": "markdown",
   "metadata": {},
   "source": [
    "## 6.3 Indexing data frames\n",
    "\n",
    "As with any data structure, it is important to be able to access subsets of the dataframe. Pandas has tools for accessing both rows and columns in a number of ways."
   ]
  },
  {
   "cell_type": "code",
   "execution_count": 11,
   "metadata": {
    "collapsed": false
   },
   "outputs": [
    {
     "name": "stdout",
     "output_type": "stream",
     "text": [
      "   sepal_length  sepal_width  petal_length  petal_width    type\n",
      "0           5.1          3.5           1.4          0.2  setosa\n",
      "1           4.9          3.0           1.4          0.2  setosa\n",
      "2           4.7          3.2           1.3          0.2  setosa\n",
      "3           4.6          3.1           1.5          0.2  setosa\n",
      "4           5.0          3.6           1.4          0.2  setosa\n"
     ]
    }
   ],
   "source": [
    "# index rows with just a set of indices (no comma)\n",
    "print(data[:5])\n",
    "# data[:5,] # causes an error!"
   ]
  },
  {
   "cell_type": "code",
   "execution_count": 12,
   "metadata": {
    "collapsed": false
   },
   "outputs": [
    {
     "name": "stdout",
     "output_type": "stream",
     "text": [
      "Index(['sepal_length', 'sepal_width', 'petal_length', 'petal_width', 'type'], dtype='object')\n",
      "['sepal_length', 'sepal_width', 'petal_length', 'petal_width', 'type']\n"
     ]
    }
   ],
   "source": [
    "# print the names of the columns\n",
    "print(data.columns)\n",
    "print(list(data))"
   ]
  },
  {
   "cell_type": "code",
   "execution_count": 13,
   "metadata": {
    "collapsed": false
   },
   "outputs": [
    {
     "name": "stdout",
     "output_type": "stream",
     "text": [
      "0    3.5\n",
      "1    3.0\n",
      "2    3.2\n",
      "3    3.1\n",
      "4    3.6\n",
      "Name: sepal_width, dtype: float64\n"
     ]
    }
   ],
   "source": [
    "# single column (note that only the first 5 rows are selected):\n",
    "print(data['sepal_width'][:5])"
   ]
  },
  {
   "cell_type": "code",
   "execution_count": 14,
   "metadata": {
    "collapsed": false
   },
   "outputs": [
    {
     "name": "stdout",
     "output_type": "stream",
     "text": [
      "   sepal_width  petal_width\n",
      "0          3.5          0.2\n",
      "1          3.0          0.2\n",
      "2          3.2          0.2\n",
      "3          3.1          0.2\n",
      "4          3.6          0.2\n"
     ]
    }
   ],
   "source": [
    "# more than one column:\n",
    "print(data[['sepal_width', 'petal_width']][:5])"
   ]
  },
  {
   "cell_type": "code",
   "execution_count": 15,
   "metadata": {
    "collapsed": false
   },
   "outputs": [
    {
     "name": "stdout",
     "output_type": "stream",
     "text": [
      "     sepal_length  sepal_width  petal_length  petal_width       type\n",
      "106           4.9          2.5           4.5          1.7  virginica\n",
      "121           5.6          2.8           4.9          2.0  virginica\n",
      "123           6.3          2.7           4.9          1.8  virginica\n",
      "126           6.2          2.8           4.8          1.8  virginica\n",
      "127           6.1          3.0           4.9          1.8  virginica\n",
      "138           6.0          3.0           4.8          1.8  virginica\n"
     ]
    }
   ],
   "source": [
    "# boolean indexing works\n",
    "print(data[(data['type'] == \"virginica\") & (data['petal_length'] < 5)])"
   ]
  },
  {
   "cell_type": "code",
   "execution_count": 16,
   "metadata": {
    "collapsed": false
   },
   "outputs": [
    {
     "data": {
      "text/html": [
       "<div>\n",
       "<table border=\"1\" class=\"dataframe\">\n",
       "  <thead>\n",
       "    <tr style=\"text-align: right;\">\n",
       "      <th></th>\n",
       "      <th>sepal_length</th>\n",
       "      <th>sepal_width</th>\n",
       "      <th>petal_length</th>\n",
       "      <th>petal_width</th>\n",
       "    </tr>\n",
       "  </thead>\n",
       "  <tbody>\n",
       "    <tr>\n",
       "      <th>count</th>\n",
       "      <td>150.000000</td>\n",
       "      <td>150.000000</td>\n",
       "      <td>150.000000</td>\n",
       "      <td>150.000000</td>\n",
       "    </tr>\n",
       "    <tr>\n",
       "      <th>mean</th>\n",
       "      <td>5.843333</td>\n",
       "      <td>3.057333</td>\n",
       "      <td>3.758000</td>\n",
       "      <td>1.199333</td>\n",
       "    </tr>\n",
       "    <tr>\n",
       "      <th>std</th>\n",
       "      <td>0.828066</td>\n",
       "      <td>0.435866</td>\n",
       "      <td>1.765298</td>\n",
       "      <td>0.762238</td>\n",
       "    </tr>\n",
       "    <tr>\n",
       "      <th>min</th>\n",
       "      <td>4.300000</td>\n",
       "      <td>2.000000</td>\n",
       "      <td>1.000000</td>\n",
       "      <td>0.100000</td>\n",
       "    </tr>\n",
       "    <tr>\n",
       "      <th>25%</th>\n",
       "      <td>5.100000</td>\n",
       "      <td>2.800000</td>\n",
       "      <td>1.600000</td>\n",
       "      <td>0.300000</td>\n",
       "    </tr>\n",
       "    <tr>\n",
       "      <th>50%</th>\n",
       "      <td>5.800000</td>\n",
       "      <td>3.000000</td>\n",
       "      <td>4.350000</td>\n",
       "      <td>1.300000</td>\n",
       "    </tr>\n",
       "    <tr>\n",
       "      <th>75%</th>\n",
       "      <td>6.400000</td>\n",
       "      <td>3.300000</td>\n",
       "      <td>5.100000</td>\n",
       "      <td>1.800000</td>\n",
       "    </tr>\n",
       "    <tr>\n",
       "      <th>max</th>\n",
       "      <td>7.900000</td>\n",
       "      <td>4.400000</td>\n",
       "      <td>6.900000</td>\n",
       "      <td>2.500000</td>\n",
       "    </tr>\n",
       "  </tbody>\n",
       "</table>\n",
       "</div>"
      ],
      "text/plain": [
       "       sepal_length  sepal_width  petal_length  petal_width\n",
       "count    150.000000   150.000000    150.000000   150.000000\n",
       "mean       5.843333     3.057333      3.758000     1.199333\n",
       "std        0.828066     0.435866      1.765298     0.762238\n",
       "min        4.300000     2.000000      1.000000     0.100000\n",
       "25%        5.100000     2.800000      1.600000     0.300000\n",
       "50%        5.800000     3.000000      4.350000     1.300000\n",
       "75%        6.400000     3.300000      5.100000     1.800000\n",
       "max        7.900000     4.400000      6.900000     2.500000"
      ]
     },
     "execution_count": 16,
     "metadata": {},
     "output_type": "execute_result"
    }
   ],
   "source": [
    "# rows can also have names:\n",
    "summary = data.describe()\n",
    "summary"
   ]
  },
  {
   "cell_type": "code",
   "execution_count": 17,
   "metadata": {
    "collapsed": false
   },
   "outputs": [
    {
     "name": "stdout",
     "output_type": "stream",
     "text": [
      "sepal_length    5.843333\n",
      "sepal_width     3.057333\n",
      "petal_length    3.758000\n",
      "petal_width     1.199333\n",
      "Name: mean, dtype: float64\n",
      "\n",
      "      sepal_length  sepal_width  petal_length  petal_width\n",
      "mean      5.843333     3.057333         3.758     1.199333\n",
      "50%       5.800000     3.000000         4.350     1.300000\n",
      "\n",
      "     sepal_length  sepal_width  petal_length  petal_width\n",
      "25%           5.1          2.8          1.60          0.3\n",
      "50%           5.8          3.0          4.35          1.3\n",
      "75%           6.4          3.3          5.10          1.8\n"
     ]
    }
   ],
   "source": [
    "# and we can index rows using the loc property:\n",
    "print(summary.loc['mean'])\n",
    "print()\n",
    "print(summary.loc[['mean', '50%']])\n",
    "print()\n",
    "print(summary.loc['25%':'75%'])"
   ]
  },
  {
   "cell_type": "code",
   "execution_count": 18,
   "metadata": {
    "collapsed": false
   },
   "outputs": [
    {
     "name": "stdout",
     "output_type": "stream",
     "text": [
      "      sepal_length  sepal_width  petal_length  petal_width\n",
      "mean      5.843333     3.057333      3.758000     1.199333\n",
      "std       0.828066     0.435866      1.765298     0.762238\n"
     ]
    }
   ],
   "source": [
    "# or by row index number using iloc:\n",
    "print(summary.iloc[1:3])"
   ]
  },
  {
   "cell_type": "markdown",
   "metadata": {},
   "source": [
    "## Exercise 6.3\n",
    "\n",
    "Write a function wine_quality_split() that takes as input a column name (stored as a string) from the wine quality dataset (winequality-red.csv) and returns a tuple containing two values: the mean value of the named column for the higher quality wines and the lower quality wines (use above and below the median quality score to group the wines).\n"
   ]
  },
  {
   "cell_type": "code",
   "execution_count": null,
   "metadata": {
    "collapsed": true
   },
   "outputs": [],
   "source": [
    "def wine_quality_split(name):\n",
    "    return ..."
   ]
  },
  {
   "cell_type": "code",
   "execution_count": null,
   "metadata": {
    "collapsed": true
   },
   "outputs": [],
   "source": [
    "# testing\n",
    "name = 'fixed acidity'\n",
    "print( wine_quality_split(name) )\n",
    "\n",
    "name = 'chlorides'\n",
    "print( wine_quality_split(name) )"
   ]
  },
  {
   "cell_type": "markdown",
   "metadata": {},
   "source": [
    "## 6.4 Reshaping and pivot tables\n",
    "\n",
    "### 6.4.1 Summarizing data\n",
    "\n",
    "Perhaps one of the most useful way to summarize data and understand it is to simply count entries. Here we show a few exaples of recoding continuous values into a binary value and then calcuating table counts."
   ]
  },
  {
   "cell_type": "code",
   "execution_count": 19,
   "metadata": {
    "collapsed": false
   },
   "outputs": [
    {
     "data": {
      "text/html": [
       "<div>\n",
       "<table border=\"1\" class=\"dataframe\">\n",
       "  <thead>\n",
       "    <tr style=\"text-align: right;\">\n",
       "      <th>type</th>\n",
       "      <th>setosa</th>\n",
       "      <th>versicolor</th>\n",
       "      <th>virginica</th>\n",
       "    </tr>\n",
       "    <tr>\n",
       "      <th>petal_width</th>\n",
       "      <th></th>\n",
       "      <th></th>\n",
       "      <th></th>\n",
       "    </tr>\n",
       "  </thead>\n",
       "  <tbody>\n",
       "    <tr>\n",
       "      <th>False</th>\n",
       "      <td>50</td>\n",
       "      <td>50</td>\n",
       "      <td>27</td>\n",
       "    </tr>\n",
       "    <tr>\n",
       "      <th>True</th>\n",
       "      <td>0</td>\n",
       "      <td>0</td>\n",
       "      <td>23</td>\n",
       "    </tr>\n",
       "  </tbody>\n",
       "</table>\n",
       "</div>"
      ],
      "text/plain": [
       "type         setosa  versicolor  virginica\n",
       "petal_width                               \n",
       "False            50          50         27\n",
       "True              0           0         23"
      ]
     },
     "execution_count": 19,
     "metadata": {},
     "output_type": "execute_result"
    }
   ],
   "source": [
    "# some summary functions like crosstab work with selected columns\n",
    "pandas.crosstab(data['petal_width'] > 2, columns=data['type'])"
   ]
  },
  {
   "cell_type": "code",
   "execution_count": 20,
   "metadata": {
    "collapsed": false
   },
   "outputs": [
    {
     "data": {
      "text/html": [
       "<div>\n",
       "<table border=\"1\" class=\"dataframe\">\n",
       "  <thead>\n",
       "    <tr style=\"text-align: right;\">\n",
       "      <th></th>\n",
       "      <th>type</th>\n",
       "      <th>setosa</th>\n",
       "      <th>versicolor</th>\n",
       "      <th>virginica</th>\n",
       "    </tr>\n",
       "    <tr>\n",
       "      <th>petal_width</th>\n",
       "      <th>petal_length</th>\n",
       "      <th></th>\n",
       "      <th></th>\n",
       "      <th></th>\n",
       "    </tr>\n",
       "  </thead>\n",
       "  <tbody>\n",
       "    <tr>\n",
       "      <th rowspan=\"2\" valign=\"top\">False</th>\n",
       "      <th>False</th>\n",
       "      <td>50</td>\n",
       "      <td>0</td>\n",
       "      <td>0</td>\n",
       "    </tr>\n",
       "    <tr>\n",
       "      <th>True</th>\n",
       "      <td>0</td>\n",
       "      <td>50</td>\n",
       "      <td>27</td>\n",
       "    </tr>\n",
       "    <tr>\n",
       "      <th>True</th>\n",
       "      <th>True</th>\n",
       "      <td>0</td>\n",
       "      <td>0</td>\n",
       "      <td>23</td>\n",
       "    </tr>\n",
       "  </tbody>\n",
       "</table>\n",
       "</div>"
      ],
      "text/plain": [
       "type                      setosa  versicolor  virginica\n",
       "petal_width petal_length                               \n",
       "False       False             50           0          0\n",
       "            True               0          50         27\n",
       "True        True               0           0         23"
      ]
     },
     "execution_count": 20,
     "metadata": {},
     "output_type": "execute_result"
    }
   ],
   "source": [
    "# rows can be nested hierarchically\n",
    "p_w_2 = data['petal_width'] > 2\n",
    "p_l_2 = data['petal_length'] > 2\n",
    "pandas.crosstab([p_w_2, p_l_2], columns=data['type'])"
   ]
  },
  {
   "cell_type": "code",
   "execution_count": 21,
   "metadata": {
    "collapsed": false,
    "scrolled": true
   },
   "outputs": [
    {
     "data": {
      "text/html": [
       "<div>\n",
       "<table border=\"1\" class=\"dataframe\">\n",
       "  <thead>\n",
       "    <tr>\n",
       "      <th>Width &gt; 2</th>\n",
       "      <th colspan=\"2\" halign=\"left\">False</th>\n",
       "      <th>True</th>\n",
       "    </tr>\n",
       "    <tr>\n",
       "      <th>Lenght &gt; 2</th>\n",
       "      <th>False</th>\n",
       "      <th>True</th>\n",
       "      <th>True</th>\n",
       "    </tr>\n",
       "    <tr>\n",
       "      <th>Flower Type</th>\n",
       "      <th></th>\n",
       "      <th></th>\n",
       "      <th></th>\n",
       "    </tr>\n",
       "  </thead>\n",
       "  <tbody>\n",
       "    <tr>\n",
       "      <th>setosa</th>\n",
       "      <td>50</td>\n",
       "      <td>0</td>\n",
       "      <td>0</td>\n",
       "    </tr>\n",
       "    <tr>\n",
       "      <th>versicolor</th>\n",
       "      <td>0</td>\n",
       "      <td>50</td>\n",
       "      <td>0</td>\n",
       "    </tr>\n",
       "    <tr>\n",
       "      <th>virginica</th>\n",
       "      <td>0</td>\n",
       "      <td>27</td>\n",
       "      <td>23</td>\n",
       "    </tr>\n",
       "  </tbody>\n",
       "</table>\n",
       "</div>"
      ],
      "text/plain": [
       "Width > 2   False       True \n",
       "Lenght > 2  False True  True \n",
       "Flower Type                  \n",
       "setosa         50     0     0\n",
       "versicolor      0    50     0\n",
       "virginica       0    27    23"
      ]
     },
     "execution_count": 21,
     "metadata": {},
     "output_type": "execute_result"
    }
   ],
   "source": [
    "# columns can be nested hierarchically\n",
    "pandas.crosstab(data['type'], [p_w_2, p_l_2], \n",
    "                colnames=[\"Width > 2\", \"Lenght > 2\"], \n",
    "                rownames=[\"Flower Type\"])"
   ]
  },
  {
   "cell_type": "code",
   "execution_count": 22,
   "metadata": {
    "collapsed": false
   },
   "outputs": [
    {
     "data": {
      "text/plain": [
       "virginica     50\n",
       "setosa        50\n",
       "versicolor    50\n",
       "Name: type, dtype: int64"
      ]
     },
     "execution_count": 22,
     "metadata": {},
     "output_type": "execute_result"
    }
   ],
   "source": [
    "# count up the values\n",
    "data['type'].value_counts()"
   ]
  },
  {
   "cell_type": "markdown",
   "metadata": {},
   "source": [
    "### 6.4.2 Pivot tables\n",
    "\n",
    "Pivot tables are a useful tool for summarizing data along different groupings. Pandas provides a wapper function called pivot_table for constructing these tables."
   ]
  },
  {
   "cell_type": "code",
   "execution_count": 23,
   "metadata": {
    "collapsed": false
   },
   "outputs": [
    {
     "data": {
      "text/html": [
       "<div>\n",
       "<table border=\"1\" class=\"dataframe\">\n",
       "  <thead>\n",
       "    <tr style=\"text-align: right;\">\n",
       "      <th></th>\n",
       "      <th>A</th>\n",
       "      <th>B</th>\n",
       "      <th>C</th>\n",
       "      <th>D</th>\n",
       "      <th>E</th>\n",
       "    </tr>\n",
       "  </thead>\n",
       "  <tbody>\n",
       "    <tr>\n",
       "      <th>0</th>\n",
       "      <td>one</td>\n",
       "      <td>X</td>\n",
       "      <td>foo</td>\n",
       "      <td>-0.179317</td>\n",
       "      <td>0.104595</td>\n",
       "    </tr>\n",
       "    <tr>\n",
       "      <th>1</th>\n",
       "      <td>one</td>\n",
       "      <td>Y</td>\n",
       "      <td>foo</td>\n",
       "      <td>0.686019</td>\n",
       "      <td>0.033038</td>\n",
       "    </tr>\n",
       "    <tr>\n",
       "      <th>2</th>\n",
       "      <td>two</td>\n",
       "      <td>Z</td>\n",
       "      <td>foo</td>\n",
       "      <td>-0.266102</td>\n",
       "      <td>-0.479318</td>\n",
       "    </tr>\n",
       "    <tr>\n",
       "      <th>3</th>\n",
       "      <td>three</td>\n",
       "      <td>X</td>\n",
       "      <td>bar</td>\n",
       "      <td>-0.663044</td>\n",
       "      <td>-0.923719</td>\n",
       "    </tr>\n",
       "    <tr>\n",
       "      <th>4</th>\n",
       "      <td>one</td>\n",
       "      <td>Y</td>\n",
       "      <td>bar</td>\n",
       "      <td>0.633710</td>\n",
       "      <td>1.017073</td>\n",
       "    </tr>\n",
       "    <tr>\n",
       "      <th>5</th>\n",
       "      <td>one</td>\n",
       "      <td>Z</td>\n",
       "      <td>bar</td>\n",
       "      <td>-0.148903</td>\n",
       "      <td>1.522990</td>\n",
       "    </tr>\n",
       "    <tr>\n",
       "      <th>6</th>\n",
       "      <td>two</td>\n",
       "      <td>X</td>\n",
       "      <td>foo</td>\n",
       "      <td>-0.198429</td>\n",
       "      <td>0.809415</td>\n",
       "    </tr>\n",
       "    <tr>\n",
       "      <th>7</th>\n",
       "      <td>three</td>\n",
       "      <td>Y</td>\n",
       "      <td>foo</td>\n",
       "      <td>1.144233</td>\n",
       "      <td>-0.659778</td>\n",
       "    </tr>\n",
       "    <tr>\n",
       "      <th>8</th>\n",
       "      <td>one</td>\n",
       "      <td>Z</td>\n",
       "      <td>foo</td>\n",
       "      <td>-1.649386</td>\n",
       "      <td>-0.396220</td>\n",
       "    </tr>\n",
       "    <tr>\n",
       "      <th>9</th>\n",
       "      <td>one</td>\n",
       "      <td>X</td>\n",
       "      <td>bar</td>\n",
       "      <td>-0.221616</td>\n",
       "      <td>-1.191335</td>\n",
       "    </tr>\n",
       "  </tbody>\n",
       "</table>\n",
       "</div>"
      ],
      "text/plain": [
       "       A  B    C         D         E\n",
       "0    one  X  foo -0.179317  0.104595\n",
       "1    one  Y  foo  0.686019  0.033038\n",
       "2    two  Z  foo -0.266102 -0.479318\n",
       "3  three  X  bar -0.663044 -0.923719\n",
       "4    one  Y  bar  0.633710  1.017073\n",
       "5    one  Z  bar -0.148903  1.522990\n",
       "6    two  X  foo -0.198429  0.809415\n",
       "7  three  Y  foo  1.144233 -0.659778\n",
       "8    one  Z  foo -1.649386 -0.396220\n",
       "9    one  X  bar -0.221616 -1.191335"
      ]
     },
     "execution_count": 23,
     "metadata": {},
     "output_type": "execute_result"
    }
   ],
   "source": [
    "example = pandas.DataFrame({'A': ['one', 'one', 'two', 'three'] * 6,\n",
    "                       'B': ['X', 'Y', 'Z'] * 8,\n",
    "                       'C': ['foo', 'foo', 'foo', 'bar', 'bar', 'bar'] * 4,\n",
    "                       'D': numpy.random.randn(24),\n",
    "                       'E': numpy.random.randn(24)})\n",
    "example.head(10)"
   ]
  },
  {
   "cell_type": "code",
   "execution_count": 24,
   "metadata": {
    "collapsed": false
   },
   "outputs": [
    {
     "data": {
      "text/html": [
       "<div>\n",
       "<table border=\"1\" class=\"dataframe\">\n",
       "  <thead>\n",
       "    <tr style=\"text-align: right;\">\n",
       "      <th></th>\n",
       "      <th>C</th>\n",
       "      <th>bar</th>\n",
       "      <th>foo</th>\n",
       "    </tr>\n",
       "    <tr>\n",
       "      <th>A</th>\n",
       "      <th>B</th>\n",
       "      <th></th>\n",
       "      <th></th>\n",
       "    </tr>\n",
       "  </thead>\n",
       "  <tbody>\n",
       "    <tr>\n",
       "      <th rowspan=\"3\" valign=\"top\">one</th>\n",
       "      <th>X</th>\n",
       "      <td>0.318162</td>\n",
       "      <td>-0.521300</td>\n",
       "    </tr>\n",
       "    <tr>\n",
       "      <th>Y</th>\n",
       "      <td>0.227359</td>\n",
       "      <td>0.880656</td>\n",
       "    </tr>\n",
       "    <tr>\n",
       "      <th>Z</th>\n",
       "      <td>-0.296988</td>\n",
       "      <td>-0.578460</td>\n",
       "    </tr>\n",
       "    <tr>\n",
       "      <th rowspan=\"3\" valign=\"top\">three</th>\n",
       "      <th>X</th>\n",
       "      <td>-0.880656</td>\n",
       "      <td>NaN</td>\n",
       "    </tr>\n",
       "    <tr>\n",
       "      <th>Y</th>\n",
       "      <td>NaN</td>\n",
       "      <td>0.417582</td>\n",
       "    </tr>\n",
       "    <tr>\n",
       "      <th>Z</th>\n",
       "      <td>-0.373275</td>\n",
       "      <td>NaN</td>\n",
       "    </tr>\n",
       "    <tr>\n",
       "      <th rowspan=\"3\" valign=\"top\">two</th>\n",
       "      <th>X</th>\n",
       "      <td>NaN</td>\n",
       "      <td>-0.183381</td>\n",
       "    </tr>\n",
       "    <tr>\n",
       "      <th>Y</th>\n",
       "      <td>-0.176899</td>\n",
       "      <td>NaN</td>\n",
       "    </tr>\n",
       "    <tr>\n",
       "      <th>Z</th>\n",
       "      <td>NaN</td>\n",
       "      <td>-0.481973</td>\n",
       "    </tr>\n",
       "  </tbody>\n",
       "</table>\n",
       "</div>"
      ],
      "text/plain": [
       "C             bar       foo\n",
       "A     B                    \n",
       "one   X  0.318162 -0.521300\n",
       "      Y  0.227359  0.880656\n",
       "      Z -0.296988 -0.578460\n",
       "three X -0.880656       NaN\n",
       "      Y       NaN  0.417582\n",
       "      Z -0.373275       NaN\n",
       "two   X       NaN -0.183381\n",
       "      Y -0.176899       NaN\n",
       "      Z       NaN -0.481973"
      ]
     },
     "execution_count": 24,
     "metadata": {},
     "output_type": "execute_result"
    }
   ],
   "source": [
    "# build a pivot table:\n",
    "# columns parameter specifies the column types, index specifies the rows\n",
    "pandas.pivot_table(example, values='D', index=['A', 'B'], columns=['C'])"
   ]
  },
  {
   "cell_type": "code",
   "execution_count": 25,
   "metadata": {
    "collapsed": false
   },
   "outputs": [
    {
     "data": {
      "text/html": [
       "<div>\n",
       "<table border=\"1\" class=\"dataframe\">\n",
       "  <thead>\n",
       "    <tr>\n",
       "      <th></th>\n",
       "      <th></th>\n",
       "      <th colspan=\"2\" halign=\"left\">D</th>\n",
       "      <th colspan=\"2\" halign=\"left\">E</th>\n",
       "    </tr>\n",
       "    <tr>\n",
       "      <th></th>\n",
       "      <th>C</th>\n",
       "      <th>bar</th>\n",
       "      <th>foo</th>\n",
       "      <th>bar</th>\n",
       "      <th>foo</th>\n",
       "    </tr>\n",
       "    <tr>\n",
       "      <th>A</th>\n",
       "      <th>B</th>\n",
       "      <th></th>\n",
       "      <th></th>\n",
       "      <th></th>\n",
       "      <th></th>\n",
       "    </tr>\n",
       "  </thead>\n",
       "  <tbody>\n",
       "    <tr>\n",
       "      <th rowspan=\"3\" valign=\"top\">one</th>\n",
       "      <th>X</th>\n",
       "      <td>0.318162</td>\n",
       "      <td>-0.521300</td>\n",
       "      <td>-0.362185</td>\n",
       "      <td>0.223298</td>\n",
       "    </tr>\n",
       "    <tr>\n",
       "      <th>Y</th>\n",
       "      <td>0.227359</td>\n",
       "      <td>0.880656</td>\n",
       "      <td>-0.175077</td>\n",
       "      <td>-0.151705</td>\n",
       "    </tr>\n",
       "    <tr>\n",
       "      <th>Z</th>\n",
       "      <td>-0.296988</td>\n",
       "      <td>-0.578460</td>\n",
       "      <td>1.106667</td>\n",
       "      <td>-0.347351</td>\n",
       "    </tr>\n",
       "    <tr>\n",
       "      <th rowspan=\"3\" valign=\"top\">three</th>\n",
       "      <th>X</th>\n",
       "      <td>-0.880656</td>\n",
       "      <td>NaN</td>\n",
       "      <td>-0.575937</td>\n",
       "      <td>NaN</td>\n",
       "    </tr>\n",
       "    <tr>\n",
       "      <th>Y</th>\n",
       "      <td>NaN</td>\n",
       "      <td>0.417582</td>\n",
       "      <td>NaN</td>\n",
       "      <td>-0.491877</td>\n",
       "    </tr>\n",
       "    <tr>\n",
       "      <th>Z</th>\n",
       "      <td>-0.373275</td>\n",
       "      <td>NaN</td>\n",
       "      <td>-0.931858</td>\n",
       "      <td>NaN</td>\n",
       "    </tr>\n",
       "    <tr>\n",
       "      <th rowspan=\"3\" valign=\"top\">two</th>\n",
       "      <th>X</th>\n",
       "      <td>NaN</td>\n",
       "      <td>-0.183381</td>\n",
       "      <td>NaN</td>\n",
       "      <td>0.966485</td>\n",
       "    </tr>\n",
       "    <tr>\n",
       "      <th>Y</th>\n",
       "      <td>-0.176899</td>\n",
       "      <td>NaN</td>\n",
       "      <td>-0.365261</td>\n",
       "      <td>NaN</td>\n",
       "    </tr>\n",
       "    <tr>\n",
       "      <th>Z</th>\n",
       "      <td>NaN</td>\n",
       "      <td>-0.481973</td>\n",
       "      <td>NaN</td>\n",
       "      <td>-0.677411</td>\n",
       "    </tr>\n",
       "  </tbody>\n",
       "</table>\n",
       "</div>"
      ],
      "text/plain": [
       "                D                   E          \n",
       "C             bar       foo       bar       foo\n",
       "A     B                                        \n",
       "one   X  0.318162 -0.521300 -0.362185  0.223298\n",
       "      Y  0.227359  0.880656 -0.175077 -0.151705\n",
       "      Z -0.296988 -0.578460  1.106667 -0.347351\n",
       "three X -0.880656       NaN -0.575937       NaN\n",
       "      Y       NaN  0.417582       NaN -0.491877\n",
       "      Z -0.373275       NaN -0.931858       NaN\n",
       "two   X       NaN -0.183381       NaN  0.966485\n",
       "      Y -0.176899       NaN -0.365261       NaN\n",
       "      Z       NaN -0.481973       NaN -0.677411"
      ]
     },
     "execution_count": 25,
     "metadata": {},
     "output_type": "execute_result"
    }
   ],
   "source": [
    "# more than one column in the dataframe can be used for a value\n",
    "# and pandas will automatically guess which columns to use\n",
    "pandas.pivot_table(example, index=['A', 'B'], columns=['C'])"
   ]
  },
  {
   "cell_type": "code",
   "execution_count": 26,
   "metadata": {
    "collapsed": false
   },
   "outputs": [
    {
     "data": {
      "text/html": [
       "<div>\n",
       "<table border=\"1\" class=\"dataframe\">\n",
       "  <thead>\n",
       "    <tr>\n",
       "      <th></th>\n",
       "      <th colspan=\"6\" halign=\"left\">D</th>\n",
       "      <th colspan=\"6\" halign=\"left\">E</th>\n",
       "    </tr>\n",
       "    <tr>\n",
       "      <th>A</th>\n",
       "      <th colspan=\"2\" halign=\"left\">one</th>\n",
       "      <th colspan=\"2\" halign=\"left\">three</th>\n",
       "      <th colspan=\"2\" halign=\"left\">two</th>\n",
       "      <th colspan=\"2\" halign=\"left\">one</th>\n",
       "      <th colspan=\"2\" halign=\"left\">three</th>\n",
       "      <th colspan=\"2\" halign=\"left\">two</th>\n",
       "    </tr>\n",
       "    <tr>\n",
       "      <th>C</th>\n",
       "      <th>bar</th>\n",
       "      <th>foo</th>\n",
       "      <th>bar</th>\n",
       "      <th>foo</th>\n",
       "      <th>bar</th>\n",
       "      <th>foo</th>\n",
       "      <th>bar</th>\n",
       "      <th>foo</th>\n",
       "      <th>bar</th>\n",
       "      <th>foo</th>\n",
       "      <th>bar</th>\n",
       "      <th>foo</th>\n",
       "    </tr>\n",
       "    <tr>\n",
       "      <th>B</th>\n",
       "      <th></th>\n",
       "      <th></th>\n",
       "      <th></th>\n",
       "      <th></th>\n",
       "      <th></th>\n",
       "      <th></th>\n",
       "      <th></th>\n",
       "      <th></th>\n",
       "      <th></th>\n",
       "      <th></th>\n",
       "      <th></th>\n",
       "      <th></th>\n",
       "    </tr>\n",
       "  </thead>\n",
       "  <tbody>\n",
       "    <tr>\n",
       "      <th>X</th>\n",
       "      <td>0.318162</td>\n",
       "      <td>-0.521300</td>\n",
       "      <td>-0.880656</td>\n",
       "      <td>NaN</td>\n",
       "      <td>NaN</td>\n",
       "      <td>-0.183381</td>\n",
       "      <td>-0.362185</td>\n",
       "      <td>0.223298</td>\n",
       "      <td>-0.575937</td>\n",
       "      <td>NaN</td>\n",
       "      <td>NaN</td>\n",
       "      <td>0.966485</td>\n",
       "    </tr>\n",
       "    <tr>\n",
       "      <th>Y</th>\n",
       "      <td>0.227359</td>\n",
       "      <td>0.880656</td>\n",
       "      <td>NaN</td>\n",
       "      <td>0.417582</td>\n",
       "      <td>-0.176899</td>\n",
       "      <td>NaN</td>\n",
       "      <td>-0.175077</td>\n",
       "      <td>-0.151705</td>\n",
       "      <td>NaN</td>\n",
       "      <td>-0.491877</td>\n",
       "      <td>-0.365261</td>\n",
       "      <td>NaN</td>\n",
       "    </tr>\n",
       "    <tr>\n",
       "      <th>Z</th>\n",
       "      <td>-0.296988</td>\n",
       "      <td>-0.578460</td>\n",
       "      <td>-0.373275</td>\n",
       "      <td>NaN</td>\n",
       "      <td>NaN</td>\n",
       "      <td>-0.481973</td>\n",
       "      <td>1.106667</td>\n",
       "      <td>-0.347351</td>\n",
       "      <td>-0.931858</td>\n",
       "      <td>NaN</td>\n",
       "      <td>NaN</td>\n",
       "      <td>-0.677411</td>\n",
       "    </tr>\n",
       "  </tbody>\n",
       "</table>\n",
       "</div>"
      ],
      "text/plain": [
       "          D                                                           E  \\\n",
       "A       one               three                 two                 one   \n",
       "C       bar       foo       bar       foo       bar       foo       bar   \n",
       "B                                                                         \n",
       "X  0.318162 -0.521300 -0.880656       NaN       NaN -0.183381 -0.362185   \n",
       "Y  0.227359  0.880656       NaN  0.417582 -0.176899       NaN -0.175077   \n",
       "Z -0.296988 -0.578460 -0.373275       NaN       NaN -0.481973  1.106667   \n",
       "\n",
       "                                                     \n",
       "A               three                 two            \n",
       "C       foo       bar       foo       bar       foo  \n",
       "B                                                    \n",
       "X  0.223298 -0.575937       NaN       NaN  0.966485  \n",
       "Y -0.151705       NaN -0.491877 -0.365261       NaN  \n",
       "Z -0.347351 -0.931858       NaN       NaN -0.677411  "
      ]
     },
     "execution_count": 26,
     "metadata": {},
     "output_type": "execute_result"
    }
   ],
   "source": [
    "# more than one column can be specified\n",
    "pandas.pivot_table(example, values=['D','E'], index=['B'], columns=['A', 'C'])"
   ]
  },
  {
   "cell_type": "code",
   "execution_count": 27,
   "metadata": {
    "collapsed": false
   },
   "outputs": [
    {
     "data": {
      "text/html": [
       "<div>\n",
       "<table border=\"1\" class=\"dataframe\">\n",
       "  <thead>\n",
       "    <tr>\n",
       "      <th>A</th>\n",
       "      <th colspan=\"2\" halign=\"left\">one</th>\n",
       "      <th colspan=\"2\" halign=\"left\">three</th>\n",
       "      <th colspan=\"2\" halign=\"left\">two</th>\n",
       "    </tr>\n",
       "    <tr>\n",
       "      <th>C</th>\n",
       "      <th>bar</th>\n",
       "      <th>foo</th>\n",
       "      <th>bar</th>\n",
       "      <th>foo</th>\n",
       "      <th>bar</th>\n",
       "      <th>foo</th>\n",
       "    </tr>\n",
       "    <tr>\n",
       "      <th>B</th>\n",
       "      <th></th>\n",
       "      <th></th>\n",
       "      <th></th>\n",
       "      <th></th>\n",
       "      <th></th>\n",
       "      <th></th>\n",
       "    </tr>\n",
       "  </thead>\n",
       "  <tbody>\n",
       "    <tr>\n",
       "      <th>X</th>\n",
       "      <td>0.636324</td>\n",
       "      <td>-1.042599</td>\n",
       "      <td>-1.761312</td>\n",
       "      <td>NaN</td>\n",
       "      <td>NaN</td>\n",
       "      <td>-0.366763</td>\n",
       "    </tr>\n",
       "    <tr>\n",
       "      <th>Y</th>\n",
       "      <td>0.454718</td>\n",
       "      <td>1.761313</td>\n",
       "      <td>NaN</td>\n",
       "      <td>0.835164</td>\n",
       "      <td>-0.353799</td>\n",
       "      <td>NaN</td>\n",
       "    </tr>\n",
       "    <tr>\n",
       "      <th>Z</th>\n",
       "      <td>-0.593975</td>\n",
       "      <td>-1.156920</td>\n",
       "      <td>-0.746550</td>\n",
       "      <td>NaN</td>\n",
       "      <td>NaN</td>\n",
       "      <td>-0.963946</td>\n",
       "    </tr>\n",
       "  </tbody>\n",
       "</table>\n",
       "</div>"
      ],
      "text/plain": [
       "A       one               three                 two          \n",
       "C       bar       foo       bar       foo       bar       foo\n",
       "B                                                            \n",
       "X  0.636324 -1.042599 -1.761312       NaN       NaN -0.366763\n",
       "Y  0.454718  1.761313       NaN  0.835164 -0.353799       NaN\n",
       "Z -0.593975 -1.156920 -0.746550       NaN       NaN -0.963946"
      ]
     },
     "execution_count": 27,
     "metadata": {},
     "output_type": "execute_result"
    }
   ],
   "source": [
    "# default aggregation is mean\n",
    "# but we can specify other aggreation functions:\n",
    "pandas.pivot_table(example, values='D', index=['B'], \n",
    "                   columns=['A', 'C'], aggfunc=numpy.sum)"
   ]
  },
  {
   "cell_type": "code",
   "execution_count": 28,
   "metadata": {
    "collapsed": false
   },
   "outputs": [
    {
     "data": {
      "text/html": [
       "<div>\n",
       "<table border=\"1\" class=\"dataframe\">\n",
       "  <thead>\n",
       "    <tr>\n",
       "      <th></th>\n",
       "      <th></th>\n",
       "      <th colspan=\"3\" halign=\"left\">D</th>\n",
       "      <th colspan=\"3\" halign=\"left\">E</th>\n",
       "    </tr>\n",
       "    <tr>\n",
       "      <th></th>\n",
       "      <th>C</th>\n",
       "      <th>bar</th>\n",
       "      <th>foo</th>\n",
       "      <th>All</th>\n",
       "      <th>bar</th>\n",
       "      <th>foo</th>\n",
       "      <th>All</th>\n",
       "    </tr>\n",
       "    <tr>\n",
       "      <th>A</th>\n",
       "      <th>B</th>\n",
       "      <th></th>\n",
       "      <th></th>\n",
       "      <th></th>\n",
       "      <th></th>\n",
       "      <th></th>\n",
       "      <th></th>\n",
       "    </tr>\n",
       "  </thead>\n",
       "  <tbody>\n",
       "    <tr>\n",
       "      <th rowspan=\"3\" valign=\"top\">one</th>\n",
       "      <th>X</th>\n",
       "      <td>0.318162</td>\n",
       "      <td>-0.521300</td>\n",
       "      <td>-0.200466</td>\n",
       "      <td>-0.362185</td>\n",
       "      <td>0.223298</td>\n",
       "      <td>0.223298</td>\n",
       "    </tr>\n",
       "    <tr>\n",
       "      <th>Y</th>\n",
       "      <td>0.227359</td>\n",
       "      <td>0.880656</td>\n",
       "      <td>0.659864</td>\n",
       "      <td>-0.175077</td>\n",
       "      <td>-0.151705</td>\n",
       "      <td>-0.151705</td>\n",
       "    </tr>\n",
       "    <tr>\n",
       "      <th>Z</th>\n",
       "      <td>-0.296988</td>\n",
       "      <td>-0.578460</td>\n",
       "      <td>-0.296988</td>\n",
       "      <td>1.106667</td>\n",
       "      <td>-0.347351</td>\n",
       "      <td>0.195931</td>\n",
       "    </tr>\n",
       "    <tr>\n",
       "      <th rowspan=\"3\" valign=\"top\">three</th>\n",
       "      <th>X</th>\n",
       "      <td>-0.880656</td>\n",
       "      <td>NaN</td>\n",
       "      <td>-0.880656</td>\n",
       "      <td>-0.575937</td>\n",
       "      <td>NaN</td>\n",
       "      <td>-0.575937</td>\n",
       "    </tr>\n",
       "    <tr>\n",
       "      <th>Y</th>\n",
       "      <td>NaN</td>\n",
       "      <td>0.417582</td>\n",
       "      <td>0.417582</td>\n",
       "      <td>NaN</td>\n",
       "      <td>-0.491877</td>\n",
       "      <td>-0.491877</td>\n",
       "    </tr>\n",
       "    <tr>\n",
       "      <th>Z</th>\n",
       "      <td>-0.373275</td>\n",
       "      <td>NaN</td>\n",
       "      <td>-0.373275</td>\n",
       "      <td>-0.931858</td>\n",
       "      <td>NaN</td>\n",
       "      <td>-0.931858</td>\n",
       "    </tr>\n",
       "    <tr>\n",
       "      <th rowspan=\"3\" valign=\"top\">two</th>\n",
       "      <th>X</th>\n",
       "      <td>NaN</td>\n",
       "      <td>-0.183381</td>\n",
       "      <td>-0.183381</td>\n",
       "      <td>NaN</td>\n",
       "      <td>0.966485</td>\n",
       "      <td>0.966485</td>\n",
       "    </tr>\n",
       "    <tr>\n",
       "      <th>Y</th>\n",
       "      <td>-0.176899</td>\n",
       "      <td>NaN</td>\n",
       "      <td>-0.176899</td>\n",
       "      <td>-0.365261</td>\n",
       "      <td>NaN</td>\n",
       "      <td>-0.365261</td>\n",
       "    </tr>\n",
       "    <tr>\n",
       "      <th>Z</th>\n",
       "      <td>NaN</td>\n",
       "      <td>-0.481973</td>\n",
       "      <td>-0.481973</td>\n",
       "      <td>NaN</td>\n",
       "      <td>-0.677411</td>\n",
       "      <td>-0.677411</td>\n",
       "    </tr>\n",
       "    <tr>\n",
       "      <th>All</th>\n",
       "      <th></th>\n",
       "      <td>-0.200304</td>\n",
       "      <td>-0.188873</td>\n",
       "      <td>-0.188873</td>\n",
       "      <td>-0.534335</td>\n",
       "      <td>-0.311230</td>\n",
       "      <td>-0.311230</td>\n",
       "    </tr>\n",
       "  </tbody>\n",
       "</table>\n",
       "</div>"
      ],
      "text/plain": [
       "                D                             E                    \n",
       "C             bar       foo       All       bar       foo       All\n",
       "A     B                                                            \n",
       "one   X  0.318162 -0.521300 -0.200466 -0.362185  0.223298  0.223298\n",
       "      Y  0.227359  0.880656  0.659864 -0.175077 -0.151705 -0.151705\n",
       "      Z -0.296988 -0.578460 -0.296988  1.106667 -0.347351  0.195931\n",
       "three X -0.880656       NaN -0.880656 -0.575937       NaN -0.575937\n",
       "      Y       NaN  0.417582  0.417582       NaN -0.491877 -0.491877\n",
       "      Z -0.373275       NaN -0.373275 -0.931858       NaN -0.931858\n",
       "two   X       NaN -0.183381 -0.183381       NaN  0.966485  0.966485\n",
       "      Y -0.176899       NaN -0.176899 -0.365261       NaN -0.365261\n",
       "      Z       NaN -0.481973 -0.481973       NaN -0.677411 -0.677411\n",
       "All     -0.200304 -0.188873 -0.188873 -0.534335 -0.311230 -0.311230"
      ]
     },
     "execution_count": 28,
     "metadata": {},
     "output_type": "execute_result"
    }
   ],
   "source": [
    "# pivot_table has many additional optional parameters but margins is a useful one:\n",
    "# note that we are also using pivot_table as a method of the dataframe\n",
    "example.pivot_table(index=['A', 'B'], columns='C', \n",
    "                    margins=True, aggfunc=numpy.median)"
   ]
  },
  {
   "cell_type": "markdown",
   "metadata": {},
   "source": [
    "## Exercise 6.4\n",
    "\n",
    "Part A: Using the winequality-red dataset, build a cross tab of the frequency of quality (along rows) and amount of alcohol (along columns, rounded to a whole number).\n",
    "\n",
    "Part B: Generate a pivot table that shows the average density of a wine as a function of the quality and rounded alcohol values."
   ]
  },
  {
   "cell_type": "code",
   "execution_count": null,
   "metadata": {
    "collapsed": true
   },
   "outputs": [],
   "source": []
  },
  {
   "cell_type": "markdown",
   "metadata": {},
   "source": [
    "## 6.5 Groupby\n",
    "\n",
    "One of the most powerful features in pandas is the ability to group dataframes by specific values and then perform calculations on those groups. These features are directly stolen from how R does this."
   ]
  },
  {
   "cell_type": "code",
   "execution_count": 29,
   "metadata": {
    "collapsed": false
   },
   "outputs": [
    {
     "data": {
      "text/html": [
       "<div>\n",
       "<table border=\"1\" class=\"dataframe\">\n",
       "  <thead>\n",
       "    <tr style=\"text-align: right;\">\n",
       "      <th></th>\n",
       "      <th>A</th>\n",
       "      <th>B</th>\n",
       "      <th>C</th>\n",
       "      <th>D</th>\n",
       "    </tr>\n",
       "  </thead>\n",
       "  <tbody>\n",
       "    <tr>\n",
       "      <th>0</th>\n",
       "      <td>foo</td>\n",
       "      <td>one</td>\n",
       "      <td>0.146088</td>\n",
       "      <td>-0.442216</td>\n",
       "    </tr>\n",
       "    <tr>\n",
       "      <th>1</th>\n",
       "      <td>bar</td>\n",
       "      <td>one</td>\n",
       "      <td>1.324349</td>\n",
       "      <td>0.410504</td>\n",
       "    </tr>\n",
       "    <tr>\n",
       "      <th>2</th>\n",
       "      <td>foo</td>\n",
       "      <td>two</td>\n",
       "      <td>-0.348405</td>\n",
       "      <td>0.232167</td>\n",
       "    </tr>\n",
       "    <tr>\n",
       "      <th>3</th>\n",
       "      <td>bar</td>\n",
       "      <td>three</td>\n",
       "      <td>-0.334014</td>\n",
       "      <td>-1.023866</td>\n",
       "    </tr>\n",
       "    <tr>\n",
       "      <th>4</th>\n",
       "      <td>foo</td>\n",
       "      <td>two</td>\n",
       "      <td>0.472632</td>\n",
       "      <td>-1.054217</td>\n",
       "    </tr>\n",
       "    <tr>\n",
       "      <th>5</th>\n",
       "      <td>bar</td>\n",
       "      <td>two</td>\n",
       "      <td>-0.918816</td>\n",
       "      <td>-0.091757</td>\n",
       "    </tr>\n",
       "    <tr>\n",
       "      <th>6</th>\n",
       "      <td>foo</td>\n",
       "      <td>one</td>\n",
       "      <td>-0.355082</td>\n",
       "      <td>1.524157</td>\n",
       "    </tr>\n",
       "    <tr>\n",
       "      <th>7</th>\n",
       "      <td>foo</td>\n",
       "      <td>three</td>\n",
       "      <td>-1.786135</td>\n",
       "      <td>-0.232815</td>\n",
       "    </tr>\n",
       "  </tbody>\n",
       "</table>\n",
       "</div>"
      ],
      "text/plain": [
       "     A      B         C         D\n",
       "0  foo    one  0.146088 -0.442216\n",
       "1  bar    one  1.324349  0.410504\n",
       "2  foo    two -0.348405  0.232167\n",
       "3  bar  three -0.334014 -1.023866\n",
       "4  foo    two  0.472632 -1.054217\n",
       "5  bar    two -0.918816 -0.091757\n",
       "6  foo    one -0.355082  1.524157\n",
       "7  foo  three -1.786135 -0.232815"
      ]
     },
     "execution_count": 29,
     "metadata": {},
     "output_type": "execute_result"
    }
   ],
   "source": [
    "df = pandas.DataFrame({'A' : ['foo', 'bar', 'foo', 'bar', \n",
    "                              'foo', 'bar', 'foo', 'foo'],\n",
    "                       'B' : ['one', 'one', 'two', 'three', \n",
    "                              'two', 'two', 'one', 'three'],\n",
    "                       'C' : numpy.random.randn(8),\n",
    "                       'D' : numpy.random.randn(8)})\n",
    "df"
   ]
  },
  {
   "cell_type": "code",
   "execution_count": 30,
   "metadata": {
    "collapsed": false
   },
   "outputs": [
    {
     "data": {
      "text/html": [
       "<div>\n",
       "<table border=\"1\" class=\"dataframe\">\n",
       "  <thead>\n",
       "    <tr style=\"text-align: right;\">\n",
       "      <th></th>\n",
       "      <th></th>\n",
       "      <th>C</th>\n",
       "      <th>D</th>\n",
       "    </tr>\n",
       "    <tr>\n",
       "      <th>A</th>\n",
       "      <th></th>\n",
       "      <th></th>\n",
       "      <th></th>\n",
       "    </tr>\n",
       "  </thead>\n",
       "  <tbody>\n",
       "    <tr>\n",
       "      <th rowspan=\"8\" valign=\"top\">bar</th>\n",
       "      <th>count</th>\n",
       "      <td>3.000000</td>\n",
       "      <td>3.000000</td>\n",
       "    </tr>\n",
       "    <tr>\n",
       "      <th>mean</th>\n",
       "      <td>0.023840</td>\n",
       "      <td>-0.235039</td>\n",
       "    </tr>\n",
       "    <tr>\n",
       "      <th>std</th>\n",
       "      <td>1.163611</td>\n",
       "      <td>0.727841</td>\n",
       "    </tr>\n",
       "    <tr>\n",
       "      <th>min</th>\n",
       "      <td>-0.918816</td>\n",
       "      <td>-1.023866</td>\n",
       "    </tr>\n",
       "    <tr>\n",
       "      <th>25%</th>\n",
       "      <td>-0.626415</td>\n",
       "      <td>-0.557811</td>\n",
       "    </tr>\n",
       "    <tr>\n",
       "      <th>50%</th>\n",
       "      <td>-0.334014</td>\n",
       "      <td>-0.091757</td>\n",
       "    </tr>\n",
       "    <tr>\n",
       "      <th>75%</th>\n",
       "      <td>0.495167</td>\n",
       "      <td>0.159374</td>\n",
       "    </tr>\n",
       "    <tr>\n",
       "      <th>max</th>\n",
       "      <td>1.324349</td>\n",
       "      <td>0.410504</td>\n",
       "    </tr>\n",
       "    <tr>\n",
       "      <th rowspan=\"8\" valign=\"top\">foo</th>\n",
       "      <th>count</th>\n",
       "      <td>5.000000</td>\n",
       "      <td>5.000000</td>\n",
       "    </tr>\n",
       "    <tr>\n",
       "      <th>mean</th>\n",
       "      <td>-0.374180</td>\n",
       "      <td>0.005415</td>\n",
       "    </tr>\n",
       "    <tr>\n",
       "      <th>std</th>\n",
       "      <td>0.863484</td>\n",
       "      <td>0.966688</td>\n",
       "    </tr>\n",
       "    <tr>\n",
       "      <th>min</th>\n",
       "      <td>-1.786135</td>\n",
       "      <td>-1.054217</td>\n",
       "    </tr>\n",
       "    <tr>\n",
       "      <th>25%</th>\n",
       "      <td>-0.355082</td>\n",
       "      <td>-0.442216</td>\n",
       "    </tr>\n",
       "    <tr>\n",
       "      <th>50%</th>\n",
       "      <td>-0.348405</td>\n",
       "      <td>-0.232815</td>\n",
       "    </tr>\n",
       "    <tr>\n",
       "      <th>75%</th>\n",
       "      <td>0.146088</td>\n",
       "      <td>0.232167</td>\n",
       "    </tr>\n",
       "    <tr>\n",
       "      <th>max</th>\n",
       "      <td>0.472632</td>\n",
       "      <td>1.524157</td>\n",
       "    </tr>\n",
       "  </tbody>\n",
       "</table>\n",
       "</div>"
      ],
      "text/plain": [
       "                  C         D\n",
       "A                            \n",
       "bar count  3.000000  3.000000\n",
       "    mean   0.023840 -0.235039\n",
       "    std    1.163611  0.727841\n",
       "    min   -0.918816 -1.023866\n",
       "    25%   -0.626415 -0.557811\n",
       "    50%   -0.334014 -0.091757\n",
       "    75%    0.495167  0.159374\n",
       "    max    1.324349  0.410504\n",
       "foo count  5.000000  5.000000\n",
       "    mean  -0.374180  0.005415\n",
       "    std    0.863484  0.966688\n",
       "    min   -1.786135 -1.054217\n",
       "    25%   -0.355082 -0.442216\n",
       "    50%   -0.348405 -0.232815\n",
       "    75%    0.146088  0.232167\n",
       "    max    0.472632  1.524157"
      ]
     },
     "execution_count": 30,
     "metadata": {},
     "output_type": "execute_result"
    }
   ],
   "source": [
    "# group by a single column\n",
    "df.groupby('A').describe()"
   ]
  },
  {
   "cell_type": "code",
   "execution_count": 31,
   "metadata": {
    "collapsed": false
   },
   "outputs": [
    {
     "data": {
      "text/html": [
       "<div>\n",
       "<table border=\"1\" class=\"dataframe\">\n",
       "  <thead>\n",
       "    <tr style=\"text-align: right;\">\n",
       "      <th></th>\n",
       "      <th></th>\n",
       "      <th></th>\n",
       "      <th>C</th>\n",
       "      <th>D</th>\n",
       "    </tr>\n",
       "    <tr>\n",
       "      <th>A</th>\n",
       "      <th>B</th>\n",
       "      <th></th>\n",
       "      <th></th>\n",
       "      <th></th>\n",
       "    </tr>\n",
       "  </thead>\n",
       "  <tbody>\n",
       "    <tr>\n",
       "      <th rowspan=\"24\" valign=\"top\">bar</th>\n",
       "      <th rowspan=\"8\" valign=\"top\">one</th>\n",
       "      <th>count</th>\n",
       "      <td>1.000000</td>\n",
       "      <td>1.000000</td>\n",
       "    </tr>\n",
       "    <tr>\n",
       "      <th>mean</th>\n",
       "      <td>1.324349</td>\n",
       "      <td>0.410504</td>\n",
       "    </tr>\n",
       "    <tr>\n",
       "      <th>std</th>\n",
       "      <td>NaN</td>\n",
       "      <td>NaN</td>\n",
       "    </tr>\n",
       "    <tr>\n",
       "      <th>min</th>\n",
       "      <td>1.324349</td>\n",
       "      <td>0.410504</td>\n",
       "    </tr>\n",
       "    <tr>\n",
       "      <th>25%</th>\n",
       "      <td>1.324349</td>\n",
       "      <td>0.410504</td>\n",
       "    </tr>\n",
       "    <tr>\n",
       "      <th>50%</th>\n",
       "      <td>1.324349</td>\n",
       "      <td>0.410504</td>\n",
       "    </tr>\n",
       "    <tr>\n",
       "      <th>75%</th>\n",
       "      <td>1.324349</td>\n",
       "      <td>0.410504</td>\n",
       "    </tr>\n",
       "    <tr>\n",
       "      <th>max</th>\n",
       "      <td>1.324349</td>\n",
       "      <td>0.410504</td>\n",
       "    </tr>\n",
       "    <tr>\n",
       "      <th rowspan=\"8\" valign=\"top\">three</th>\n",
       "      <th>count</th>\n",
       "      <td>1.000000</td>\n",
       "      <td>1.000000</td>\n",
       "    </tr>\n",
       "    <tr>\n",
       "      <th>mean</th>\n",
       "      <td>-0.334014</td>\n",
       "      <td>-1.023866</td>\n",
       "    </tr>\n",
       "    <tr>\n",
       "      <th>std</th>\n",
       "      <td>NaN</td>\n",
       "      <td>NaN</td>\n",
       "    </tr>\n",
       "    <tr>\n",
       "      <th>min</th>\n",
       "      <td>-0.334014</td>\n",
       "      <td>-1.023866</td>\n",
       "    </tr>\n",
       "    <tr>\n",
       "      <th>25%</th>\n",
       "      <td>-0.334014</td>\n",
       "      <td>-1.023866</td>\n",
       "    </tr>\n",
       "    <tr>\n",
       "      <th>50%</th>\n",
       "      <td>-0.334014</td>\n",
       "      <td>-1.023866</td>\n",
       "    </tr>\n",
       "    <tr>\n",
       "      <th>75%</th>\n",
       "      <td>-0.334014</td>\n",
       "      <td>-1.023866</td>\n",
       "    </tr>\n",
       "    <tr>\n",
       "      <th>max</th>\n",
       "      <td>-0.334014</td>\n",
       "      <td>-1.023866</td>\n",
       "    </tr>\n",
       "    <tr>\n",
       "      <th rowspan=\"8\" valign=\"top\">two</th>\n",
       "      <th>count</th>\n",
       "      <td>1.000000</td>\n",
       "      <td>1.000000</td>\n",
       "    </tr>\n",
       "    <tr>\n",
       "      <th>mean</th>\n",
       "      <td>-0.918816</td>\n",
       "      <td>-0.091757</td>\n",
       "    </tr>\n",
       "    <tr>\n",
       "      <th>std</th>\n",
       "      <td>NaN</td>\n",
       "      <td>NaN</td>\n",
       "    </tr>\n",
       "    <tr>\n",
       "      <th>min</th>\n",
       "      <td>-0.918816</td>\n",
       "      <td>-0.091757</td>\n",
       "    </tr>\n",
       "    <tr>\n",
       "      <th>25%</th>\n",
       "      <td>-0.918816</td>\n",
       "      <td>-0.091757</td>\n",
       "    </tr>\n",
       "    <tr>\n",
       "      <th>50%</th>\n",
       "      <td>-0.918816</td>\n",
       "      <td>-0.091757</td>\n",
       "    </tr>\n",
       "    <tr>\n",
       "      <th>75%</th>\n",
       "      <td>-0.918816</td>\n",
       "      <td>-0.091757</td>\n",
       "    </tr>\n",
       "    <tr>\n",
       "      <th>max</th>\n",
       "      <td>-0.918816</td>\n",
       "      <td>-0.091757</td>\n",
       "    </tr>\n",
       "    <tr>\n",
       "      <th rowspan=\"24\" valign=\"top\">foo</th>\n",
       "      <th rowspan=\"8\" valign=\"top\">one</th>\n",
       "      <th>count</th>\n",
       "      <td>2.000000</td>\n",
       "      <td>2.000000</td>\n",
       "    </tr>\n",
       "    <tr>\n",
       "      <th>mean</th>\n",
       "      <td>-0.104497</td>\n",
       "      <td>0.540970</td>\n",
       "    </tr>\n",
       "    <tr>\n",
       "      <th>std</th>\n",
       "      <td>0.354381</td>\n",
       "      <td>1.390435</td>\n",
       "    </tr>\n",
       "    <tr>\n",
       "      <th>min</th>\n",
       "      <td>-0.355082</td>\n",
       "      <td>-0.442216</td>\n",
       "    </tr>\n",
       "    <tr>\n",
       "      <th>25%</th>\n",
       "      <td>-0.229790</td>\n",
       "      <td>0.049377</td>\n",
       "    </tr>\n",
       "    <tr>\n",
       "      <th>50%</th>\n",
       "      <td>-0.104497</td>\n",
       "      <td>0.540970</td>\n",
       "    </tr>\n",
       "    <tr>\n",
       "      <th>75%</th>\n",
       "      <td>0.020795</td>\n",
       "      <td>1.032564</td>\n",
       "    </tr>\n",
       "    <tr>\n",
       "      <th>max</th>\n",
       "      <td>0.146088</td>\n",
       "      <td>1.524157</td>\n",
       "    </tr>\n",
       "    <tr>\n",
       "      <th rowspan=\"8\" valign=\"top\">three</th>\n",
       "      <th>count</th>\n",
       "      <td>1.000000</td>\n",
       "      <td>1.000000</td>\n",
       "    </tr>\n",
       "    <tr>\n",
       "      <th>mean</th>\n",
       "      <td>-1.786135</td>\n",
       "      <td>-0.232815</td>\n",
       "    </tr>\n",
       "    <tr>\n",
       "      <th>std</th>\n",
       "      <td>NaN</td>\n",
       "      <td>NaN</td>\n",
       "    </tr>\n",
       "    <tr>\n",
       "      <th>min</th>\n",
       "      <td>-1.786135</td>\n",
       "      <td>-0.232815</td>\n",
       "    </tr>\n",
       "    <tr>\n",
       "      <th>25%</th>\n",
       "      <td>-1.786135</td>\n",
       "      <td>-0.232815</td>\n",
       "    </tr>\n",
       "    <tr>\n",
       "      <th>50%</th>\n",
       "      <td>-1.786135</td>\n",
       "      <td>-0.232815</td>\n",
       "    </tr>\n",
       "    <tr>\n",
       "      <th>75%</th>\n",
       "      <td>-1.786135</td>\n",
       "      <td>-0.232815</td>\n",
       "    </tr>\n",
       "    <tr>\n",
       "      <th>max</th>\n",
       "      <td>-1.786135</td>\n",
       "      <td>-0.232815</td>\n",
       "    </tr>\n",
       "    <tr>\n",
       "      <th rowspan=\"8\" valign=\"top\">two</th>\n",
       "      <th>count</th>\n",
       "      <td>2.000000</td>\n",
       "      <td>2.000000</td>\n",
       "    </tr>\n",
       "    <tr>\n",
       "      <th>mean</th>\n",
       "      <td>0.062114</td>\n",
       "      <td>-0.411025</td>\n",
       "    </tr>\n",
       "    <tr>\n",
       "      <th>std</th>\n",
       "      <td>0.580561</td>\n",
       "      <td>0.909611</td>\n",
       "    </tr>\n",
       "    <tr>\n",
       "      <th>min</th>\n",
       "      <td>-0.348405</td>\n",
       "      <td>-1.054217</td>\n",
       "    </tr>\n",
       "    <tr>\n",
       "      <th>25%</th>\n",
       "      <td>-0.143145</td>\n",
       "      <td>-0.732621</td>\n",
       "    </tr>\n",
       "    <tr>\n",
       "      <th>50%</th>\n",
       "      <td>0.062114</td>\n",
       "      <td>-0.411025</td>\n",
       "    </tr>\n",
       "    <tr>\n",
       "      <th>75%</th>\n",
       "      <td>0.267373</td>\n",
       "      <td>-0.089429</td>\n",
       "    </tr>\n",
       "    <tr>\n",
       "      <th>max</th>\n",
       "      <td>0.472632</td>\n",
       "      <td>0.232167</td>\n",
       "    </tr>\n",
       "  </tbody>\n",
       "</table>\n",
       "</div>"
      ],
      "text/plain": [
       "                        C         D\n",
       "A   B                              \n",
       "bar one   count  1.000000  1.000000\n",
       "          mean   1.324349  0.410504\n",
       "          std         NaN       NaN\n",
       "          min    1.324349  0.410504\n",
       "          25%    1.324349  0.410504\n",
       "          50%    1.324349  0.410504\n",
       "          75%    1.324349  0.410504\n",
       "          max    1.324349  0.410504\n",
       "    three count  1.000000  1.000000\n",
       "          mean  -0.334014 -1.023866\n",
       "          std         NaN       NaN\n",
       "          min   -0.334014 -1.023866\n",
       "          25%   -0.334014 -1.023866\n",
       "          50%   -0.334014 -1.023866\n",
       "          75%   -0.334014 -1.023866\n",
       "          max   -0.334014 -1.023866\n",
       "    two   count  1.000000  1.000000\n",
       "          mean  -0.918816 -0.091757\n",
       "          std         NaN       NaN\n",
       "          min   -0.918816 -0.091757\n",
       "          25%   -0.918816 -0.091757\n",
       "          50%   -0.918816 -0.091757\n",
       "          75%   -0.918816 -0.091757\n",
       "          max   -0.918816 -0.091757\n",
       "foo one   count  2.000000  2.000000\n",
       "          mean  -0.104497  0.540970\n",
       "          std    0.354381  1.390435\n",
       "          min   -0.355082 -0.442216\n",
       "          25%   -0.229790  0.049377\n",
       "          50%   -0.104497  0.540970\n",
       "          75%    0.020795  1.032564\n",
       "          max    0.146088  1.524157\n",
       "    three count  1.000000  1.000000\n",
       "          mean  -1.786135 -0.232815\n",
       "          std         NaN       NaN\n",
       "          min   -1.786135 -0.232815\n",
       "          25%   -1.786135 -0.232815\n",
       "          50%   -1.786135 -0.232815\n",
       "          75%   -1.786135 -0.232815\n",
       "          max   -1.786135 -0.232815\n",
       "    two   count  2.000000  2.000000\n",
       "          mean   0.062114 -0.411025\n",
       "          std    0.580561  0.909611\n",
       "          min   -0.348405 -1.054217\n",
       "          25%   -0.143145 -0.732621\n",
       "          50%    0.062114 -0.411025\n",
       "          75%    0.267373 -0.089429\n",
       "          max    0.472632  0.232167"
      ]
     },
     "execution_count": 31,
     "metadata": {},
     "output_type": "execute_result"
    }
   ],
   "source": [
    "# group by more than one column\n",
    "df.groupby(['A', 'B']).describe()"
   ]
  },
  {
   "cell_type": "code",
   "execution_count": 32,
   "metadata": {
    "collapsed": false
   },
   "outputs": [
    {
     "name": "stdout",
     "output_type": "stream",
     "text": [
      "              C         D\n",
      "B                        \n",
      "one    0.371785  0.497482\n",
      "three -1.060075 -0.628340\n",
      "two   -0.264863 -0.304602\n",
      "\n",
      "              C         D\n",
      "B                        \n",
      "one    0.371785  0.497482\n",
      "two   -0.264863 -0.304602\n",
      "three -1.060075 -0.628340\n"
     ]
    }
   ],
   "source": [
    "# by default, groupby sorts the groups (alphabetically or numerically)\n",
    "print(df.groupby('B').mean())\n",
    "print()\n",
    "print(df.groupby('B', sort=False).mean())"
   ]
  },
  {
   "cell_type": "markdown",
   "metadata": {},
   "source": [
    "### 6.5.1 Accessing groups and iterating\n",
    "\n",
    "The object created by the function groupy() is actually a list that can be iterated across to perform actions on each group of the data. Pandas provides some vectorized functions and others can be written:"
   ]
  },
  {
   "cell_type": "code",
   "execution_count": 33,
   "metadata": {
    "collapsed": false
   },
   "outputs": [
    {
     "name": "stdout",
     "output_type": "stream",
     "text": [
      "     A      B         C         D\n",
      "1  bar    one  1.324349  0.410504\n",
      "3  bar  three -0.334014 -1.023866\n",
      "5  bar    two -0.918816 -0.091757\n"
     ]
    }
   ],
   "source": [
    "# can access a single group\n",
    "print(df.groupby('A').get_group('bar'))"
   ]
  },
  {
   "cell_type": "code",
   "execution_count": 34,
   "metadata": {
    "collapsed": false
   },
   "outputs": [
    {
     "name": "stdout",
     "output_type": "stream",
     "text": [
      "('bar', 'one')\n",
      "     A    B         C         D\n",
      "1  bar  one  1.324349  0.410504\n",
      "('bar', 'three')\n",
      "     A      B         C         D\n",
      "3  bar  three -0.334014 -1.023866\n",
      "('bar', 'two')\n",
      "     A    B         C         D\n",
      "5  bar  two -0.918816 -0.091757\n",
      "('foo', 'one')\n",
      "     A    B         C         D\n",
      "0  foo  one  0.146088 -0.442216\n",
      "6  foo  one -0.355082  1.524157\n",
      "('foo', 'three')\n",
      "     A      B         C         D\n",
      "7  foo  three -1.786135 -0.232815\n",
      "('foo', 'two')\n",
      "     A    B         C         D\n",
      "2  foo  two -0.348405  0.232167\n",
      "4  foo  two  0.472632 -1.054217\n"
     ]
    }
   ],
   "source": [
    "# iterate through all groups\n",
    "for name, group in df.groupby(['A', 'B']):\n",
    "    print(name)\n",
    "    print(group)"
   ]
  },
  {
   "cell_type": "markdown",
   "metadata": {},
   "source": [
    "### 6.5.2 Aggregation\n",
    "\n",
    "Aggregation changes the number of rows or indices within the dataframe. We already saw one way to aggregate a group: describe(). There are many, many others:\n",
    "\n",
    "- count\n",
    "- cumcount\n",
    "- first\n",
    "- head\n",
    "- last\n",
    "- max\n",
    "- mean\n",
    "- median\n",
    "- min\n",
    "- nth\n",
    "- prod\n",
    "- size\n",
    "- sem\n",
    "- std\n",
    "- sum\n",
    "- var\n",
    "- tail\n",
    "- agg\n",
    "- all\n",
    "- any\n",
    "- bfill\n",
    "- corr\n",
    "- count\n",
    "- cov\n",
    "- cummax\n",
    "- cummin\n",
    "- cumprod\n",
    "- cumsum\n",
    "- describe\n",
    "- diff\n",
    "- ffill\n",
    "- fillna\n",
    "- idxmax\n",
    "- idxmin\n",
    "- mad\n",
    "- pct_change\n",
    "- quantile\n",
    "- rank\n",
    "- resample\n",
    "- shift\n",
    "- size\n",
    "- skew\n",
    "- take\n",
    "- tshift\n",
    "- nlargest\n",
    "- nsmallest\n",
    "- value_counts\n",
    "- corrwith\n"
   ]
  },
  {
   "cell_type": "code",
   "execution_count": 35,
   "metadata": {
    "collapsed": false
   },
   "outputs": [
    {
     "name": "stdout",
     "output_type": "stream",
     "text": [
      "A\n",
      "bar    3\n",
      "foo    5\n",
      "dtype: int64\n",
      "\n",
      "       B         C         D\n",
      "A                           \n",
      "bar  two  1.324349  0.410504\n",
      "foo  two  0.472632  1.524157\n",
      "\n",
      "            C                            D                    \n",
      "          sum     mean       std       sum      mean       std\n",
      "A                                                             \n",
      "bar  0.071519  0.02384  1.163611 -0.705118 -0.235039  0.727841\n",
      "foo -1.870902 -0.37418  0.863484  0.027076  0.005415  0.966688\n"
     ]
    }
   ],
   "source": [
    "# a few examples:\n",
    "print(df.groupby('A').size())\n",
    "print()\n",
    "print(df.groupby('A').max())\n",
    "print()\n",
    "print(df.groupby('A').agg([numpy.sum, numpy.mean, numpy.std]))"
   ]
  },
  {
   "cell_type": "markdown",
   "metadata": {},
   "source": [
    "## Exercise 6.5\n",
    "\n",
    "Using the iris dataset, group by the type of flower and compute the correlation between the first four variables in the dataset."
   ]
  },
  {
   "cell_type": "code",
   "execution_count": 36,
   "metadata": {
    "collapsed": false
   },
   "outputs": [],
   "source": [
    "iris = pandas.read_csv(\"iris.txt\", delim_whitespace=True, header=None)\n",
    "iris.columns = [\"sepal_length\", \"sepal_width\", \"petal_length\", \"petal_width\", \"type\"]\n"
   ]
  },
  {
   "cell_type": "markdown",
   "metadata": {},
   "source": [
    "## 6.6 Concatinate, Join, and Merge\n",
    "\n",
    "### 6.6.1 Appending a row or column to a dataframe"
   ]
  },
  {
   "cell_type": "code",
   "execution_count": 37,
   "metadata": {
    "collapsed": false
   },
   "outputs": [
    {
     "name": "stdout",
     "output_type": "stream",
     "text": [
      "          A         B         C         D\n",
      "0  1.293880 -1.446702  1.762905 -0.060412\n",
      "1 -1.016272 -0.921121 -0.525454  0.043935\n",
      "2  1.444647  0.105996 -0.888277  1.198607\n",
      "3  0.786995  1.561960 -0.735969 -0.078286\n",
      "4 -0.429689 -0.289493 -1.087099 -1.248062\n",
      "5 -0.567823  1.017906 -1.603443 -0.507635\n",
      "6  1.424633  0.552400 -0.666904 -0.017415\n",
      "7 -2.015980 -0.769756  1.459848 -0.828240\n",
      "          A         B         C         D\n",
      "0  1.293880 -1.446702  1.762905 -0.060412\n",
      "1 -1.016272 -0.921121 -0.525454  0.043935\n",
      "2  1.444647  0.105996 -0.888277  1.198607\n",
      "3  0.786995  1.561960 -0.735969 -0.078286\n",
      "4 -0.429689 -0.289493 -1.087099 -1.248062\n",
      "5 -0.567823  1.017906 -1.603443 -0.507635\n",
      "6  1.424633  0.552400 -0.666904 -0.017415\n",
      "7 -2.015980 -0.769756  1.459848 -0.828240\n",
      "8  0.786995  1.561960 -0.735969 -0.078286\n"
     ]
    }
   ],
   "source": [
    "# append a row:\n",
    "df = pandas.DataFrame(numpy.random.randn(8, 4), columns=['A','B','C','D'])\n",
    "print(df)\n",
    "s = df.iloc[3]\n",
    "print(df.append(s, ignore_index=True))"
   ]
  },
  {
   "cell_type": "code",
   "execution_count": 38,
   "metadata": {
    "collapsed": false
   },
   "outputs": [
    {
     "name": "stdout",
     "output_type": "stream",
     "text": [
      "          A         B         C         D         E\n",
      "0  1.293880 -1.446702  1.762905 -0.060412  0.692314\n",
      "1 -1.016272 -0.921121 -0.525454  0.043935  0.279933\n",
      "2  1.444647  0.105996 -0.888277  1.198607  0.458337\n",
      "3  0.786995  1.561960 -0.735969 -0.078286  0.801729\n",
      "4 -0.429689 -0.289493 -1.087099 -1.248062  0.744164\n",
      "5 -0.567823  1.017906 -1.603443 -0.507635  0.494574\n",
      "6  1.424633  0.552400 -0.666904 -0.017415  0.643389\n",
      "7 -2.015980 -0.769756  1.459848 -0.828240  0.388584\n"
     ]
    }
   ],
   "source": [
    "# append a column:\n",
    "df['E'] = numpy.random.random(df.shape[0])\n",
    "print(df)"
   ]
  },
  {
   "cell_type": "code",
   "execution_count": 39,
   "metadata": {
    "collapsed": false
   },
   "outputs": [
    {
     "name": "stdout",
     "output_type": "stream",
     "text": [
      "          A         B         C         D\n",
      "0  1.293880 -1.446702  1.762905 -0.060412\n",
      "1 -1.016272 -0.921121 -0.525454  0.043935\n",
      "2  1.444647  0.105996 -0.888277  1.198607\n",
      "3  0.786995  1.561960 -0.735969 -0.078286\n",
      "4 -0.429689 -0.289493 -1.087099 -1.248062\n"
     ]
    }
   ],
   "source": [
    "# delete that column\n",
    "del df['E']\n",
    "print(df.head())"
   ]
  },
  {
   "cell_type": "markdown",
   "metadata": {},
   "source": [
    "### 6.6.2 Concatinate data frames"
   ]
  },
  {
   "cell_type": "code",
   "execution_count": 40,
   "metadata": {
    "collapsed": false
   },
   "outputs": [
    {
     "name": "stdout",
     "output_type": "stream",
     "text": [
      "    A   B   C   D\n",
      "0  A0  B0  C0  D0\n",
      "1  A1  B1  C1  D1\n",
      "2  A2  B2  C2  D2\n",
      "3  A3  B3  C3  D3\n",
      "\n",
      "    A   B   C   D\n",
      "4  A4  B4  C4  D4\n",
      "5  A5  B5  C5  D5\n",
      "6  A6  B6  C6  D6\n",
      "7  A7  B7  C7  D7\n",
      "\n",
      "      A    B    C    D\n",
      "8    A8   B8   C8   D8\n",
      "9    A9   B9   C9   D9\n",
      "10  A10  B10  C10  D10\n",
      "11  A11  B11  C11  D11\n",
      "\n",
      "    E   F   G\n",
      "0  E2  F2  G2\n",
      "1  E3  F3  G3\n",
      "2  E6  F6  G6\n",
      "3  E7  F7  G7\n"
     ]
    }
   ],
   "source": [
    "df1 = pandas.DataFrame({'A': ['A0', 'A1', 'A2', 'A3'],\n",
    "                        'B': ['B0', 'B1', 'B2', 'B3'],\n",
    "                        'C': ['C0', 'C1', 'C2', 'C3'],\n",
    "                        'D': ['D0', 'D1', 'D2', 'D3']},\n",
    "                       index=[0, 1, 2, 3])\n",
    "\n",
    "df2 = pandas.DataFrame({'A': ['A4', 'A5', 'A6', 'A7'],\n",
    "                        'B': ['B4', 'B5', 'B6', 'B7'],\n",
    "                        'C': ['C4', 'C5', 'C6', 'C7'],\n",
    "                        'D': ['D4', 'D5', 'D6', 'D7']},\n",
    "                       index=[4, 5, 6, 7])\n",
    "\n",
    "df3 = pandas.DataFrame({'A': ['A8', 'A9', 'A10', 'A11'],\n",
    "                        'B': ['B8', 'B9', 'B10', 'B11'],\n",
    "                        'C': ['C8', 'C9', 'C10', 'C11'],\n",
    "                        'D': ['D8', 'D9', 'D10', 'D11']},\n",
    "                       index=[8, 9, 10, 11])\n",
    "\n",
    "df4 = pandas.DataFrame({'E': ['E2', 'E3', 'E6', 'E7'],\n",
    "                        'F': ['F2', 'F3', 'F6', 'F7'],\n",
    "                        'G': ['G2', 'G3', 'G6', 'G7']},\n",
    "                       index=[0, 1, 2, 3])\n",
    "print(df1)\n",
    "print()\n",
    "print(df2)\n",
    "print()\n",
    "print(df3)\n",
    "print()\n",
    "print(df4)"
   ]
  },
  {
   "cell_type": "code",
   "execution_count": 41,
   "metadata": {
    "collapsed": false
   },
   "outputs": [
    {
     "data": {
      "text/html": [
       "<div>\n",
       "<table border=\"1\" class=\"dataframe\">\n",
       "  <thead>\n",
       "    <tr style=\"text-align: right;\">\n",
       "      <th></th>\n",
       "      <th>A</th>\n",
       "      <th>B</th>\n",
       "      <th>C</th>\n",
       "      <th>D</th>\n",
       "    </tr>\n",
       "  </thead>\n",
       "  <tbody>\n",
       "    <tr>\n",
       "      <th>0</th>\n",
       "      <td>A0</td>\n",
       "      <td>B0</td>\n",
       "      <td>C0</td>\n",
       "      <td>D0</td>\n",
       "    </tr>\n",
       "    <tr>\n",
       "      <th>1</th>\n",
       "      <td>A1</td>\n",
       "      <td>B1</td>\n",
       "      <td>C1</td>\n",
       "      <td>D1</td>\n",
       "    </tr>\n",
       "    <tr>\n",
       "      <th>2</th>\n",
       "      <td>A2</td>\n",
       "      <td>B2</td>\n",
       "      <td>C2</td>\n",
       "      <td>D2</td>\n",
       "    </tr>\n",
       "    <tr>\n",
       "      <th>3</th>\n",
       "      <td>A3</td>\n",
       "      <td>B3</td>\n",
       "      <td>C3</td>\n",
       "      <td>D3</td>\n",
       "    </tr>\n",
       "    <tr>\n",
       "      <th>4</th>\n",
       "      <td>A4</td>\n",
       "      <td>B4</td>\n",
       "      <td>C4</td>\n",
       "      <td>D4</td>\n",
       "    </tr>\n",
       "    <tr>\n",
       "      <th>5</th>\n",
       "      <td>A5</td>\n",
       "      <td>B5</td>\n",
       "      <td>C5</td>\n",
       "      <td>D5</td>\n",
       "    </tr>\n",
       "    <tr>\n",
       "      <th>6</th>\n",
       "      <td>A6</td>\n",
       "      <td>B6</td>\n",
       "      <td>C6</td>\n",
       "      <td>D6</td>\n",
       "    </tr>\n",
       "    <tr>\n",
       "      <th>7</th>\n",
       "      <td>A7</td>\n",
       "      <td>B7</td>\n",
       "      <td>C7</td>\n",
       "      <td>D7</td>\n",
       "    </tr>\n",
       "    <tr>\n",
       "      <th>8</th>\n",
       "      <td>A8</td>\n",
       "      <td>B8</td>\n",
       "      <td>C8</td>\n",
       "      <td>D8</td>\n",
       "    </tr>\n",
       "    <tr>\n",
       "      <th>9</th>\n",
       "      <td>A9</td>\n",
       "      <td>B9</td>\n",
       "      <td>C9</td>\n",
       "      <td>D9</td>\n",
       "    </tr>\n",
       "    <tr>\n",
       "      <th>10</th>\n",
       "      <td>A10</td>\n",
       "      <td>B10</td>\n",
       "      <td>C10</td>\n",
       "      <td>D10</td>\n",
       "    </tr>\n",
       "    <tr>\n",
       "      <th>11</th>\n",
       "      <td>A11</td>\n",
       "      <td>B11</td>\n",
       "      <td>C11</td>\n",
       "      <td>D11</td>\n",
       "    </tr>\n",
       "  </tbody>\n",
       "</table>\n",
       "</div>"
      ],
      "text/plain": [
       "      A    B    C    D\n",
       "0    A0   B0   C0   D0\n",
       "1    A1   B1   C1   D1\n",
       "2    A2   B2   C2   D2\n",
       "3    A3   B3   C3   D3\n",
       "4    A4   B4   C4   D4\n",
       "5    A5   B5   C5   D5\n",
       "6    A6   B6   C6   D6\n",
       "7    A7   B7   C7   D7\n",
       "8    A8   B8   C8   D8\n",
       "9    A9   B9   C9   D9\n",
       "10  A10  B10  C10  D10\n",
       "11  A11  B11  C11  D11"
      ]
     },
     "execution_count": 41,
     "metadata": {},
     "output_type": "execute_result"
    }
   ],
   "source": [
    "# it is straightforward to build one dataframe\n",
    "# note: this is numpy.concatinate under the hood so it is expensive in time and memory!\n",
    "dfs = [df1, df2, df3]\n",
    "pandas.concat(dfs)"
   ]
  },
  {
   "cell_type": "code",
   "execution_count": 42,
   "metadata": {
    "collapsed": false
   },
   "outputs": [
    {
     "data": {
      "text/html": [
       "<div>\n",
       "<table border=\"1\" class=\"dataframe\">\n",
       "  <thead>\n",
       "    <tr style=\"text-align: right;\">\n",
       "      <th></th>\n",
       "      <th></th>\n",
       "      <th>A</th>\n",
       "      <th>B</th>\n",
       "      <th>C</th>\n",
       "      <th>D</th>\n",
       "    </tr>\n",
       "  </thead>\n",
       "  <tbody>\n",
       "    <tr>\n",
       "      <th rowspan=\"4\" valign=\"top\">x</th>\n",
       "      <th>0</th>\n",
       "      <td>A0</td>\n",
       "      <td>B0</td>\n",
       "      <td>C0</td>\n",
       "      <td>D0</td>\n",
       "    </tr>\n",
       "    <tr>\n",
       "      <th>1</th>\n",
       "      <td>A1</td>\n",
       "      <td>B1</td>\n",
       "      <td>C1</td>\n",
       "      <td>D1</td>\n",
       "    </tr>\n",
       "    <tr>\n",
       "      <th>2</th>\n",
       "      <td>A2</td>\n",
       "      <td>B2</td>\n",
       "      <td>C2</td>\n",
       "      <td>D2</td>\n",
       "    </tr>\n",
       "    <tr>\n",
       "      <th>3</th>\n",
       "      <td>A3</td>\n",
       "      <td>B3</td>\n",
       "      <td>C3</td>\n",
       "      <td>D3</td>\n",
       "    </tr>\n",
       "    <tr>\n",
       "      <th rowspan=\"4\" valign=\"top\">y</th>\n",
       "      <th>4</th>\n",
       "      <td>A4</td>\n",
       "      <td>B4</td>\n",
       "      <td>C4</td>\n",
       "      <td>D4</td>\n",
       "    </tr>\n",
       "    <tr>\n",
       "      <th>5</th>\n",
       "      <td>A5</td>\n",
       "      <td>B5</td>\n",
       "      <td>C5</td>\n",
       "      <td>D5</td>\n",
       "    </tr>\n",
       "    <tr>\n",
       "      <th>6</th>\n",
       "      <td>A6</td>\n",
       "      <td>B6</td>\n",
       "      <td>C6</td>\n",
       "      <td>D6</td>\n",
       "    </tr>\n",
       "    <tr>\n",
       "      <th>7</th>\n",
       "      <td>A7</td>\n",
       "      <td>B7</td>\n",
       "      <td>C7</td>\n",
       "      <td>D7</td>\n",
       "    </tr>\n",
       "    <tr>\n",
       "      <th rowspan=\"4\" valign=\"top\">z</th>\n",
       "      <th>8</th>\n",
       "      <td>A8</td>\n",
       "      <td>B8</td>\n",
       "      <td>C8</td>\n",
       "      <td>D8</td>\n",
       "    </tr>\n",
       "    <tr>\n",
       "      <th>9</th>\n",
       "      <td>A9</td>\n",
       "      <td>B9</td>\n",
       "      <td>C9</td>\n",
       "      <td>D9</td>\n",
       "    </tr>\n",
       "    <tr>\n",
       "      <th>10</th>\n",
       "      <td>A10</td>\n",
       "      <td>B10</td>\n",
       "      <td>C10</td>\n",
       "      <td>D10</td>\n",
       "    </tr>\n",
       "    <tr>\n",
       "      <th>11</th>\n",
       "      <td>A11</td>\n",
       "      <td>B11</td>\n",
       "      <td>C11</td>\n",
       "      <td>D11</td>\n",
       "    </tr>\n",
       "  </tbody>\n",
       "</table>\n",
       "</div>"
      ],
      "text/plain": [
       "        A    B    C    D\n",
       "x 0    A0   B0   C0   D0\n",
       "  1    A1   B1   C1   D1\n",
       "  2    A2   B2   C2   D2\n",
       "  3    A3   B3   C3   D3\n",
       "y 4    A4   B4   C4   D4\n",
       "  5    A5   B5   C5   D5\n",
       "  6    A6   B6   C6   D6\n",
       "  7    A7   B7   C7   D7\n",
       "z 8    A8   B8   C8   D8\n",
       "  9    A9   B9   C9   D9\n",
       "  10  A10  B10  C10  D10\n",
       "  11  A11  B11  C11  D11"
      ]
     },
     "execution_count": 42,
     "metadata": {},
     "output_type": "execute_result"
    }
   ],
   "source": [
    "# more interestingly, we can add pandas indexes\n",
    "result = pandas.concat(dfs, keys=['x', 'y', 'z'])\n",
    "result"
   ]
  },
  {
   "cell_type": "code",
   "execution_count": 43,
   "metadata": {
    "collapsed": false
   },
   "outputs": [
    {
     "data": {
      "text/html": [
       "<div>\n",
       "<table border=\"1\" class=\"dataframe\">\n",
       "  <thead>\n",
       "    <tr style=\"text-align: right;\">\n",
       "      <th></th>\n",
       "      <th>A</th>\n",
       "      <th>B</th>\n",
       "      <th>C</th>\n",
       "      <th>D</th>\n",
       "    </tr>\n",
       "  </thead>\n",
       "  <tbody>\n",
       "    <tr>\n",
       "      <th>4</th>\n",
       "      <td>A4</td>\n",
       "      <td>B4</td>\n",
       "      <td>C4</td>\n",
       "      <td>D4</td>\n",
       "    </tr>\n",
       "    <tr>\n",
       "      <th>5</th>\n",
       "      <td>A5</td>\n",
       "      <td>B5</td>\n",
       "      <td>C5</td>\n",
       "      <td>D5</td>\n",
       "    </tr>\n",
       "    <tr>\n",
       "      <th>6</th>\n",
       "      <td>A6</td>\n",
       "      <td>B6</td>\n",
       "      <td>C6</td>\n",
       "      <td>D6</td>\n",
       "    </tr>\n",
       "    <tr>\n",
       "      <th>7</th>\n",
       "      <td>A7</td>\n",
       "      <td>B7</td>\n",
       "      <td>C7</td>\n",
       "      <td>D7</td>\n",
       "    </tr>\n",
       "  </tbody>\n",
       "</table>\n",
       "</div>"
      ],
      "text/plain": [
       "    A   B   C   D\n",
       "4  A4  B4  C4  D4\n",
       "5  A5  B5  C5  D5\n",
       "6  A6  B6  C6  D6\n",
       "7  A7  B7  C7  D7"
      ]
     },
     "execution_count": 43,
     "metadata": {},
     "output_type": "execute_result"
    }
   ],
   "source": [
    "# can then use these indexes to pull out individual dataframes:\n",
    "result.loc['y']"
   ]
  },
  {
   "cell_type": "markdown",
   "metadata": {},
   "source": [
    "### 6.6.3 Specifying rows or columns for the concatination"
   ]
  },
  {
   "cell_type": "code",
   "execution_count": 44,
   "metadata": {
    "collapsed": false
   },
   "outputs": [
    {
     "name": "stdout",
     "output_type": "stream",
     "text": [
      "     A    B    C    D    E    F    G\n",
      "0   A0   B0   C0   D0  NaN  NaN  NaN\n",
      "1   A1   B1   C1   D1  NaN  NaN  NaN\n",
      "2   A2   B2   C2   D2  NaN  NaN  NaN\n",
      "3   A3   B3   C3   D3  NaN  NaN  NaN\n",
      "0  NaN  NaN  NaN  NaN   E2   F2   G2\n",
      "1  NaN  NaN  NaN  NaN   E3   F3   G3\n",
      "2  NaN  NaN  NaN  NaN   E6   F6   G6\n",
      "3  NaN  NaN  NaN  NaN   E7   F7   G7\n"
     ]
    }
   ],
   "source": [
    "# pandas will default to looking to concatinate rows together\n",
    "print(pandas.concat([df1, df4]))"
   ]
  },
  {
   "cell_type": "code",
   "execution_count": 45,
   "metadata": {
    "collapsed": false
   },
   "outputs": [
    {
     "name": "stdout",
     "output_type": "stream",
     "text": [
      "     A    B    C    D    E    F    G\n",
      "0   A0   B0   C0   D0  NaN  NaN  NaN\n",
      "1   A1   B1   C1   D1  NaN  NaN  NaN\n",
      "2   A2   B2   C2   D2  NaN  NaN  NaN\n",
      "3   A3   B3   C3   D3  NaN  NaN  NaN\n",
      "0  NaN  NaN  NaN  NaN   E2   F2   G2\n",
      "1  NaN  NaN  NaN  NaN   E3   F3   G3\n",
      "2  NaN  NaN  NaN  NaN   E6   F6   G6\n",
      "3  NaN  NaN  NaN  NaN   E7   F7   G7\n",
      "    A   B   C   D   E   F   G\n",
      "0  A0  B0  C0  D0  E2  F2  G2\n",
      "1  A1  B1  C1  D1  E3  F3  G3\n",
      "2  A2  B2  C2  D2  E6  F6  G6\n",
      "3  A3  B3  C3  D3  E7  F7  G7\n"
     ]
    }
   ],
   "source": [
    "# you can specify which axis to merge along:\n",
    "\n",
    "# default behavior\n",
    "print(pandas.concat([df1, df4], axis=0))\n",
    "\n",
    "# concatinate columns with the same index together!\n",
    "print(pandas.concat([df1, df4], axis=1))\n"
   ]
  },
  {
   "cell_type": "code",
   "execution_count": 46,
   "metadata": {
    "collapsed": false
   },
   "outputs": [
    {
     "data": {
      "text/html": [
       "<div>\n",
       "<table border=\"1\" class=\"dataframe\">\n",
       "  <thead>\n",
       "    <tr style=\"text-align: right;\">\n",
       "      <th></th>\n",
       "      <th>A</th>\n",
       "      <th>B</th>\n",
       "      <th>C</th>\n",
       "      <th>D</th>\n",
       "    </tr>\n",
       "  </thead>\n",
       "  <tbody>\n",
       "    <tr>\n",
       "      <th>0</th>\n",
       "      <td>A0</td>\n",
       "      <td>B0</td>\n",
       "      <td>C0</td>\n",
       "      <td>D0</td>\n",
       "    </tr>\n",
       "    <tr>\n",
       "      <th>1</th>\n",
       "      <td>A1</td>\n",
       "      <td>B1</td>\n",
       "      <td>C1</td>\n",
       "      <td>D1</td>\n",
       "    </tr>\n",
       "    <tr>\n",
       "      <th>2</th>\n",
       "      <td>A2</td>\n",
       "      <td>B2</td>\n",
       "      <td>C2</td>\n",
       "      <td>D2</td>\n",
       "    </tr>\n",
       "    <tr>\n",
       "      <th>3</th>\n",
       "      <td>A3</td>\n",
       "      <td>B3</td>\n",
       "      <td>C3</td>\n",
       "      <td>D3</td>\n",
       "    </tr>\n",
       "    <tr>\n",
       "      <th>4</th>\n",
       "      <td>A4</td>\n",
       "      <td>B4</td>\n",
       "      <td>C4</td>\n",
       "      <td>D4</td>\n",
       "    </tr>\n",
       "    <tr>\n",
       "      <th>5</th>\n",
       "      <td>A5</td>\n",
       "      <td>B5</td>\n",
       "      <td>C5</td>\n",
       "      <td>D5</td>\n",
       "    </tr>\n",
       "    <tr>\n",
       "      <th>6</th>\n",
       "      <td>A6</td>\n",
       "      <td>B6</td>\n",
       "      <td>C6</td>\n",
       "      <td>D6</td>\n",
       "    </tr>\n",
       "    <tr>\n",
       "      <th>7</th>\n",
       "      <td>A7</td>\n",
       "      <td>B7</td>\n",
       "      <td>C7</td>\n",
       "      <td>D7</td>\n",
       "    </tr>\n",
       "    <tr>\n",
       "      <th>8</th>\n",
       "      <td>A8</td>\n",
       "      <td>B8</td>\n",
       "      <td>C8</td>\n",
       "      <td>D8</td>\n",
       "    </tr>\n",
       "    <tr>\n",
       "      <th>9</th>\n",
       "      <td>A9</td>\n",
       "      <td>B9</td>\n",
       "      <td>C9</td>\n",
       "      <td>D9</td>\n",
       "    </tr>\n",
       "    <tr>\n",
       "      <th>10</th>\n",
       "      <td>A10</td>\n",
       "      <td>B10</td>\n",
       "      <td>C10</td>\n",
       "      <td>D10</td>\n",
       "    </tr>\n",
       "    <tr>\n",
       "      <th>11</th>\n",
       "      <td>A11</td>\n",
       "      <td>B11</td>\n",
       "      <td>C11</td>\n",
       "      <td>D11</td>\n",
       "    </tr>\n",
       "  </tbody>\n",
       "</table>\n",
       "</div>"
      ],
      "text/plain": [
       "      A    B    C    D\n",
       "0    A0   B0   C0   D0\n",
       "1    A1   B1   C1   D1\n",
       "2    A2   B2   C2   D2\n",
       "3    A3   B3   C3   D3\n",
       "4    A4   B4   C4   D4\n",
       "5    A5   B5   C5   D5\n",
       "6    A6   B6   C6   D6\n",
       "7    A7   B7   C7   D7\n",
       "8    A8   B8   C8   D8\n",
       "9    A9   B9   C9   D9\n",
       "10  A10  B10  C10  D10\n",
       "11  A11  B11  C11  D11"
      ]
     },
     "execution_count": 46,
     "metadata": {},
     "output_type": "execute_result"
    }
   ],
   "source": [
    "# append can also be used but has fewer options:\n",
    "df1.append([df2, df3])"
   ]
  },
  {
   "cell_type": "code",
   "execution_count": 47,
   "metadata": {
    "collapsed": false
   },
   "outputs": [],
   "source": [
    "# if you are performing many concatinations, \n",
    "# it's much more efficient to use list comprehensions to do a single concatination:\n",
    "if False:\n",
    "    dfs = [ process_your_file(f) for f in files ]\n",
    "    result = pandas.concat(dfs)"
   ]
  },
  {
   "cell_type": "markdown",
   "metadata": {},
   "source": [
    "## 6.7 Joins\n",
    "\n",
    "### 6.7.1 Joins using the Concat function\n",
    "\n",
    "Joining data frames is the process of combining two dataframes. This becomes interesting and complex when some (but not all) of the row indicies and column names overlap between the two dataframes."
   ]
  },
  {
   "cell_type": "code",
   "execution_count": 48,
   "metadata": {
    "collapsed": false
   },
   "outputs": [
    {
     "name": "stdout",
     "output_type": "stream",
     "text": [
      "    A   B   C   D\n",
      "0  A0  B0  C0  D0\n",
      "1  A1  B1  C1  D1\n",
      "2  A2  B2  C2  D2\n",
      "3  A3  B3  C3  D3\n",
      "\n",
      "    B   D   F\n",
      "2  B2  D2  F2\n",
      "3  B3  D3  F3\n",
      "6  B6  D6  F6\n",
      "7  B7  D7  F7\n"
     ]
    }
   ],
   "source": [
    "# df5 and df1 share some indicies and names:\n",
    "df5 = pandas.DataFrame({'B': ['B2', 'B3', 'B6', 'B7'],\n",
    "                        'D': ['D2', 'D3', 'D6', 'D7'],\n",
    "                        'F': ['F2', 'F3', 'F6', 'F7']},\n",
    "                       index=[2, 3, 6, 7])\n",
    "print(df1)\n",
    "print()\n",
    "print(df5)"
   ]
  },
  {
   "cell_type": "code",
   "execution_count": 49,
   "metadata": {
    "collapsed": false
   },
   "outputs": [
    {
     "data": {
      "text/html": [
       "<div>\n",
       "<table border=\"1\" class=\"dataframe\">\n",
       "  <thead>\n",
       "    <tr style=\"text-align: right;\">\n",
       "      <th></th>\n",
       "      <th>A</th>\n",
       "      <th>B</th>\n",
       "      <th>C</th>\n",
       "      <th>D</th>\n",
       "      <th>F</th>\n",
       "    </tr>\n",
       "  </thead>\n",
       "  <tbody>\n",
       "    <tr>\n",
       "      <th>0</th>\n",
       "      <td>A0</td>\n",
       "      <td>B0</td>\n",
       "      <td>C0</td>\n",
       "      <td>D0</td>\n",
       "      <td>NaN</td>\n",
       "    </tr>\n",
       "    <tr>\n",
       "      <th>1</th>\n",
       "      <td>A1</td>\n",
       "      <td>B1</td>\n",
       "      <td>C1</td>\n",
       "      <td>D1</td>\n",
       "      <td>NaN</td>\n",
       "    </tr>\n",
       "    <tr>\n",
       "      <th>2</th>\n",
       "      <td>A2</td>\n",
       "      <td>B2</td>\n",
       "      <td>C2</td>\n",
       "      <td>D2</td>\n",
       "      <td>NaN</td>\n",
       "    </tr>\n",
       "    <tr>\n",
       "      <th>3</th>\n",
       "      <td>A3</td>\n",
       "      <td>B3</td>\n",
       "      <td>C3</td>\n",
       "      <td>D3</td>\n",
       "      <td>NaN</td>\n",
       "    </tr>\n",
       "    <tr>\n",
       "      <th>2</th>\n",
       "      <td>NaN</td>\n",
       "      <td>B2</td>\n",
       "      <td>NaN</td>\n",
       "      <td>D2</td>\n",
       "      <td>F2</td>\n",
       "    </tr>\n",
       "    <tr>\n",
       "      <th>3</th>\n",
       "      <td>NaN</td>\n",
       "      <td>B3</td>\n",
       "      <td>NaN</td>\n",
       "      <td>D3</td>\n",
       "      <td>F3</td>\n",
       "    </tr>\n",
       "    <tr>\n",
       "      <th>6</th>\n",
       "      <td>NaN</td>\n",
       "      <td>B6</td>\n",
       "      <td>NaN</td>\n",
       "      <td>D6</td>\n",
       "      <td>F6</td>\n",
       "    </tr>\n",
       "    <tr>\n",
       "      <th>7</th>\n",
       "      <td>NaN</td>\n",
       "      <td>B7</td>\n",
       "      <td>NaN</td>\n",
       "      <td>D7</td>\n",
       "      <td>F7</td>\n",
       "    </tr>\n",
       "  </tbody>\n",
       "</table>\n",
       "</div>"
      ],
      "text/plain": [
       "     A   B    C   D    F\n",
       "0   A0  B0   C0  D0  NaN\n",
       "1   A1  B1   C1  D1  NaN\n",
       "2   A2  B2   C2  D2  NaN\n",
       "3   A3  B3   C3  D3  NaN\n",
       "2  NaN  B2  NaN  D2   F2\n",
       "3  NaN  B3  NaN  D3   F3\n",
       "6  NaN  B6  NaN  D6   F6\n",
       "7  NaN  B7  NaN  D7   F7"
      ]
     },
     "execution_count": 49,
     "metadata": {},
     "output_type": "execute_result"
    }
   ],
   "source": [
    "# the default behavior of concat is to not duplicate column names \n",
    "# but to duplicate row indices\n",
    "pandas.concat([df1, df5])"
   ]
  },
  {
   "cell_type": "code",
   "execution_count": 50,
   "metadata": {
    "collapsed": false
   },
   "outputs": [
    {
     "data": {
      "text/html": [
       "<div>\n",
       "<table border=\"1\" class=\"dataframe\">\n",
       "  <thead>\n",
       "    <tr style=\"text-align: right;\">\n",
       "      <th></th>\n",
       "      <th>A</th>\n",
       "      <th>B</th>\n",
       "      <th>C</th>\n",
       "      <th>D</th>\n",
       "      <th>B</th>\n",
       "      <th>D</th>\n",
       "      <th>F</th>\n",
       "    </tr>\n",
       "  </thead>\n",
       "  <tbody>\n",
       "    <tr>\n",
       "      <th>0</th>\n",
       "      <td>A0</td>\n",
       "      <td>B0</td>\n",
       "      <td>C0</td>\n",
       "      <td>D0</td>\n",
       "      <td>NaN</td>\n",
       "      <td>NaN</td>\n",
       "      <td>NaN</td>\n",
       "    </tr>\n",
       "    <tr>\n",
       "      <th>1</th>\n",
       "      <td>A1</td>\n",
       "      <td>B1</td>\n",
       "      <td>C1</td>\n",
       "      <td>D1</td>\n",
       "      <td>NaN</td>\n",
       "      <td>NaN</td>\n",
       "      <td>NaN</td>\n",
       "    </tr>\n",
       "    <tr>\n",
       "      <th>2</th>\n",
       "      <td>A2</td>\n",
       "      <td>B2</td>\n",
       "      <td>C2</td>\n",
       "      <td>D2</td>\n",
       "      <td>B2</td>\n",
       "      <td>D2</td>\n",
       "      <td>F2</td>\n",
       "    </tr>\n",
       "    <tr>\n",
       "      <th>3</th>\n",
       "      <td>A3</td>\n",
       "      <td>B3</td>\n",
       "      <td>C3</td>\n",
       "      <td>D3</td>\n",
       "      <td>B3</td>\n",
       "      <td>D3</td>\n",
       "      <td>F3</td>\n",
       "    </tr>\n",
       "    <tr>\n",
       "      <th>6</th>\n",
       "      <td>NaN</td>\n",
       "      <td>NaN</td>\n",
       "      <td>NaN</td>\n",
       "      <td>NaN</td>\n",
       "      <td>B6</td>\n",
       "      <td>D6</td>\n",
       "      <td>F6</td>\n",
       "    </tr>\n",
       "    <tr>\n",
       "      <th>7</th>\n",
       "      <td>NaN</td>\n",
       "      <td>NaN</td>\n",
       "      <td>NaN</td>\n",
       "      <td>NaN</td>\n",
       "      <td>B7</td>\n",
       "      <td>D7</td>\n",
       "      <td>F7</td>\n",
       "    </tr>\n",
       "  </tbody>\n",
       "</table>\n",
       "</div>"
      ],
      "text/plain": [
       "     A    B    C    D    B    D    F\n",
       "0   A0   B0   C0   D0  NaN  NaN  NaN\n",
       "1   A1   B1   C1   D1  NaN  NaN  NaN\n",
       "2   A2   B2   C2   D2   B2   D2   F2\n",
       "3   A3   B3   C3   D3   B3   D3   F3\n",
       "6  NaN  NaN  NaN  NaN   B6   D6   F6\n",
       "7  NaN  NaN  NaN  NaN   B7   D7   F7"
      ]
     },
     "execution_count": 50,
     "metadata": {},
     "output_type": "execute_result"
    }
   ],
   "source": [
    "# but the axis parameter can get concat to create duplicate \n",
    "# columns and only unique rows\n",
    "pandas.concat([df1, df5], axis=1)"
   ]
  },
  {
   "cell_type": "code",
   "execution_count": 51,
   "metadata": {
    "collapsed": false
   },
   "outputs": [
    {
     "data": {
      "text/html": [
       "<div>\n",
       "<table border=\"1\" class=\"dataframe\">\n",
       "  <thead>\n",
       "    <tr style=\"text-align: right;\">\n",
       "      <th></th>\n",
       "      <th>A</th>\n",
       "      <th>B</th>\n",
       "      <th>C</th>\n",
       "      <th>D</th>\n",
       "      <th>B</th>\n",
       "      <th>D</th>\n",
       "      <th>F</th>\n",
       "    </tr>\n",
       "  </thead>\n",
       "  <tbody>\n",
       "    <tr>\n",
       "      <th>0</th>\n",
       "      <td>A0</td>\n",
       "      <td>B0</td>\n",
       "      <td>C0</td>\n",
       "      <td>D0</td>\n",
       "      <td>NaN</td>\n",
       "      <td>NaN</td>\n",
       "      <td>NaN</td>\n",
       "    </tr>\n",
       "    <tr>\n",
       "      <th>1</th>\n",
       "      <td>A1</td>\n",
       "      <td>B1</td>\n",
       "      <td>C1</td>\n",
       "      <td>D1</td>\n",
       "      <td>NaN</td>\n",
       "      <td>NaN</td>\n",
       "      <td>NaN</td>\n",
       "    </tr>\n",
       "    <tr>\n",
       "      <th>2</th>\n",
       "      <td>A2</td>\n",
       "      <td>B2</td>\n",
       "      <td>C2</td>\n",
       "      <td>D2</td>\n",
       "      <td>B2</td>\n",
       "      <td>D2</td>\n",
       "      <td>F2</td>\n",
       "    </tr>\n",
       "    <tr>\n",
       "      <th>3</th>\n",
       "      <td>A3</td>\n",
       "      <td>B3</td>\n",
       "      <td>C3</td>\n",
       "      <td>D3</td>\n",
       "      <td>B3</td>\n",
       "      <td>D3</td>\n",
       "      <td>F3</td>\n",
       "    </tr>\n",
       "    <tr>\n",
       "      <th>6</th>\n",
       "      <td>NaN</td>\n",
       "      <td>NaN</td>\n",
       "      <td>NaN</td>\n",
       "      <td>NaN</td>\n",
       "      <td>B6</td>\n",
       "      <td>D6</td>\n",
       "      <td>F6</td>\n",
       "    </tr>\n",
       "    <tr>\n",
       "      <th>7</th>\n",
       "      <td>NaN</td>\n",
       "      <td>NaN</td>\n",
       "      <td>NaN</td>\n",
       "      <td>NaN</td>\n",
       "      <td>B7</td>\n",
       "      <td>D7</td>\n",
       "      <td>F7</td>\n",
       "    </tr>\n",
       "  </tbody>\n",
       "</table>\n",
       "</div>"
      ],
      "text/plain": [
       "     A    B    C    D    B    D    F\n",
       "0   A0   B0   C0   D0  NaN  NaN  NaN\n",
       "1   A1   B1   C1   D1  NaN  NaN  NaN\n",
       "2   A2   B2   C2   D2   B2   D2   F2\n",
       "3   A3   B3   C3   D3   B3   D3   F3\n",
       "6  NaN  NaN  NaN  NaN   B6   D6   F6\n",
       "7  NaN  NaN  NaN  NaN   B7   D7   F7"
      ]
     },
     "execution_count": 51,
     "metadata": {},
     "output_type": "execute_result"
    }
   ],
   "source": [
    "# The default in this case is an outer join:\n",
    "# all rows are retained regardless of each column is present in the row\n",
    "# this can produce NaN values\n",
    "pandas.concat([df1, df5], axis=1, join='outer')"
   ]
  },
  {
   "cell_type": "code",
   "execution_count": 52,
   "metadata": {
    "collapsed": false
   },
   "outputs": [
    {
     "data": {
      "text/html": [
       "<div>\n",
       "<table border=\"1\" class=\"dataframe\">\n",
       "  <thead>\n",
       "    <tr style=\"text-align: right;\">\n",
       "      <th></th>\n",
       "      <th>A</th>\n",
       "      <th>B</th>\n",
       "      <th>C</th>\n",
       "      <th>D</th>\n",
       "      <th>B</th>\n",
       "      <th>D</th>\n",
       "      <th>F</th>\n",
       "    </tr>\n",
       "  </thead>\n",
       "  <tbody>\n",
       "    <tr>\n",
       "      <th>2</th>\n",
       "      <td>A2</td>\n",
       "      <td>B2</td>\n",
       "      <td>C2</td>\n",
       "      <td>D2</td>\n",
       "      <td>B2</td>\n",
       "      <td>D2</td>\n",
       "      <td>F2</td>\n",
       "    </tr>\n",
       "    <tr>\n",
       "      <th>3</th>\n",
       "      <td>A3</td>\n",
       "      <td>B3</td>\n",
       "      <td>C3</td>\n",
       "      <td>D3</td>\n",
       "      <td>B3</td>\n",
       "      <td>D3</td>\n",
       "      <td>F3</td>\n",
       "    </tr>\n",
       "  </tbody>\n",
       "</table>\n",
       "</div>"
      ],
      "text/plain": [
       "    A   B   C   D   B   D   F\n",
       "2  A2  B2  C2  D2  B2  D2  F2\n",
       "3  A3  B3  C3  D3  B3  D3  F3"
      ]
     },
     "execution_count": 52,
     "metadata": {},
     "output_type": "execute_result"
    }
   ],
   "source": [
    "# can also specify an inner join:\n",
    "# each row must have matching columns\n",
    "# this can lead to dropping rows\n",
    "pandas.concat([df1, df5], axis=1, join='inner')"
   ]
  },
  {
   "cell_type": "code",
   "execution_count": 53,
   "metadata": {
    "collapsed": false
   },
   "outputs": [
    {
     "name": "stdout",
     "output_type": "stream",
     "text": [
      "    A   B   C   D\n",
      "0  A0  B0  C0  D0\n",
      "1  A1  B1  C1  D1\n",
      "2  A2  B2  C2  D2\n",
      "3  A3  B3  C3  D3\n",
      "\n",
      "    B   D   F\n",
      "2  B2  D2  F2\n",
      "3  B3  D3  F3\n",
      "6  B6  D6  F6\n",
      "7  B7  D7  F7\n"
     ]
    },
    {
     "data": {
      "text/html": [
       "<div>\n",
       "<table border=\"1\" class=\"dataframe\">\n",
       "  <thead>\n",
       "    <tr style=\"text-align: right;\">\n",
       "      <th></th>\n",
       "      <th>A</th>\n",
       "      <th>B</th>\n",
       "      <th>C</th>\n",
       "      <th>D</th>\n",
       "      <th>F</th>\n",
       "    </tr>\n",
       "  </thead>\n",
       "  <tbody>\n",
       "    <tr>\n",
       "      <th>0</th>\n",
       "      <td>A0</td>\n",
       "      <td>B0</td>\n",
       "      <td>C0</td>\n",
       "      <td>D0</td>\n",
       "      <td>NaN</td>\n",
       "    </tr>\n",
       "    <tr>\n",
       "      <th>1</th>\n",
       "      <td>A1</td>\n",
       "      <td>B1</td>\n",
       "      <td>C1</td>\n",
       "      <td>D1</td>\n",
       "      <td>NaN</td>\n",
       "    </tr>\n",
       "    <tr>\n",
       "      <th>2</th>\n",
       "      <td>A2</td>\n",
       "      <td>B2</td>\n",
       "      <td>C2</td>\n",
       "      <td>D2</td>\n",
       "      <td>NaN</td>\n",
       "    </tr>\n",
       "    <tr>\n",
       "      <th>3</th>\n",
       "      <td>A3</td>\n",
       "      <td>B3</td>\n",
       "      <td>C3</td>\n",
       "      <td>D3</td>\n",
       "      <td>NaN</td>\n",
       "    </tr>\n",
       "    <tr>\n",
       "      <th>4</th>\n",
       "      <td>NaN</td>\n",
       "      <td>B2</td>\n",
       "      <td>NaN</td>\n",
       "      <td>D2</td>\n",
       "      <td>F2</td>\n",
       "    </tr>\n",
       "    <tr>\n",
       "      <th>5</th>\n",
       "      <td>NaN</td>\n",
       "      <td>B3</td>\n",
       "      <td>NaN</td>\n",
       "      <td>D3</td>\n",
       "      <td>F3</td>\n",
       "    </tr>\n",
       "    <tr>\n",
       "      <th>6</th>\n",
       "      <td>NaN</td>\n",
       "      <td>B6</td>\n",
       "      <td>NaN</td>\n",
       "      <td>D6</td>\n",
       "      <td>F6</td>\n",
       "    </tr>\n",
       "    <tr>\n",
       "      <th>7</th>\n",
       "      <td>NaN</td>\n",
       "      <td>B7</td>\n",
       "      <td>NaN</td>\n",
       "      <td>D7</td>\n",
       "      <td>F7</td>\n",
       "    </tr>\n",
       "  </tbody>\n",
       "</table>\n",
       "</div>"
      ],
      "text/plain": [
       "     A   B    C   D    F\n",
       "0   A0  B0   C0  D0  NaN\n",
       "1   A1  B1   C1  D1  NaN\n",
       "2   A2  B2   C2  D2  NaN\n",
       "3   A3  B3   C3  D3  NaN\n",
       "4  NaN  B2  NaN  D2   F2\n",
       "5  NaN  B3  NaN  D3   F3\n",
       "6  NaN  B6  NaN  D6   F6\n",
       "7  NaN  B7  NaN  D7   F7"
      ]
     },
     "execution_count": 53,
     "metadata": {},
     "output_type": "execute_result"
    }
   ],
   "source": [
    "# concat can also be told to ignore duplicate indices\n",
    "# this results in new index values being created for conflicts\n",
    "print(df1)\n",
    "print()\n",
    "print(df5)\n",
    "pandas.concat([df1, df5], ignore_index=True)"
   ]
  },
  {
   "cell_type": "markdown",
   "metadata": {},
   "source": [
    "### 6.7.2 Joins using the Join function\n",
    "\n",
    "Join is a convenience function in pandas for joining two dataframes. It is a wrapper around the merge function."
   ]
  },
  {
   "cell_type": "code",
   "execution_count": 54,
   "metadata": {
    "collapsed": false
   },
   "outputs": [
    {
     "name": "stdout",
     "output_type": "stream",
     "text": [
      "     A   B\n",
      "K0  A0  B0\n",
      "K1  A1  B1\n",
      "K2  A2  B2\n",
      "\n",
      "     C   D\n",
      "K0  C0  D0\n",
      "K2  C2  D2\n",
      "K3  C3  D3\n"
     ]
    }
   ],
   "source": [
    "left = pandas.DataFrame({'A': ['A0', 'A1', 'A2'],\n",
    "                         'B': ['B0', 'B1', 'B2']},\n",
    "                        index=['K0', 'K1', 'K2'])\n",
    "right = pandas.DataFrame({'C': ['C0', 'C2', 'C3'],\n",
    "                          'D': ['D0', 'D2', 'D3']},\n",
    "                         index=['K0', 'K2', 'K3'])\n",
    "print(left)\n",
    "print()\n",
    "print(right)"
   ]
  },
  {
   "cell_type": "code",
   "execution_count": 55,
   "metadata": {
    "collapsed": false
   },
   "outputs": [
    {
     "data": {
      "text/html": [
       "<div>\n",
       "<table border=\"1\" class=\"dataframe\">\n",
       "  <thead>\n",
       "    <tr style=\"text-align: right;\">\n",
       "      <th></th>\n",
       "      <th>A</th>\n",
       "      <th>B</th>\n",
       "      <th>C</th>\n",
       "      <th>D</th>\n",
       "    </tr>\n",
       "  </thead>\n",
       "  <tbody>\n",
       "    <tr>\n",
       "      <th>K0</th>\n",
       "      <td>A0</td>\n",
       "      <td>B0</td>\n",
       "      <td>C0</td>\n",
       "      <td>D0</td>\n",
       "    </tr>\n",
       "    <tr>\n",
       "      <th>K1</th>\n",
       "      <td>A1</td>\n",
       "      <td>B1</td>\n",
       "      <td>NaN</td>\n",
       "      <td>NaN</td>\n",
       "    </tr>\n",
       "    <tr>\n",
       "      <th>K2</th>\n",
       "      <td>A2</td>\n",
       "      <td>B2</td>\n",
       "      <td>C2</td>\n",
       "      <td>D2</td>\n",
       "    </tr>\n",
       "  </tbody>\n",
       "</table>\n",
       "</div>"
      ],
      "text/plain": [
       "     A   B    C    D\n",
       "K0  A0  B0   C0   D0\n",
       "K1  A1  B1  NaN  NaN\n",
       "K2  A2  B2   C2   D2"
      ]
     },
     "execution_count": 55,
     "metadata": {},
     "output_type": "execute_result"
    }
   ],
   "source": [
    "# default is a left join: \n",
    "# all indexes from the left dataframe are kept as well as \n",
    "# any indexes in the right that occur in the left\n",
    "left.join(right)"
   ]
  },
  {
   "cell_type": "code",
   "execution_count": 56,
   "metadata": {
    "collapsed": false
   },
   "outputs": [
    {
     "data": {
      "text/html": [
       "<div>\n",
       "<table border=\"1\" class=\"dataframe\">\n",
       "  <thead>\n",
       "    <tr style=\"text-align: right;\">\n",
       "      <th></th>\n",
       "      <th>A</th>\n",
       "      <th>B</th>\n",
       "      <th>C</th>\n",
       "      <th>D</th>\n",
       "    </tr>\n",
       "  </thead>\n",
       "  <tbody>\n",
       "    <tr>\n",
       "      <th>K0</th>\n",
       "      <td>A0</td>\n",
       "      <td>B0</td>\n",
       "      <td>C0</td>\n",
       "      <td>D0</td>\n",
       "    </tr>\n",
       "    <tr>\n",
       "      <th>K2</th>\n",
       "      <td>A2</td>\n",
       "      <td>B2</td>\n",
       "      <td>C2</td>\n",
       "      <td>D2</td>\n",
       "    </tr>\n",
       "    <tr>\n",
       "      <th>K3</th>\n",
       "      <td>NaN</td>\n",
       "      <td>NaN</td>\n",
       "      <td>C3</td>\n",
       "      <td>D3</td>\n",
       "    </tr>\n",
       "  </tbody>\n",
       "</table>\n",
       "</div>"
      ],
      "text/plain": [
       "      A    B   C   D\n",
       "K0   A0   B0  C0  D0\n",
       "K2   A2   B2  C2  D2\n",
       "K3  NaN  NaN  C3  D3"
      ]
     },
     "execution_count": 56,
     "metadata": {},
     "output_type": "execute_result"
    }
   ],
   "source": [
    "# we can also specify a right join\n",
    "left.join(right, how=\"right\")"
   ]
  },
  {
   "cell_type": "code",
   "execution_count": 57,
   "metadata": {
    "collapsed": false
   },
   "outputs": [
    {
     "data": {
      "text/html": [
       "<div>\n",
       "<table border=\"1\" class=\"dataframe\">\n",
       "  <thead>\n",
       "    <tr style=\"text-align: right;\">\n",
       "      <th></th>\n",
       "      <th>A</th>\n",
       "      <th>B</th>\n",
       "      <th>C</th>\n",
       "      <th>D</th>\n",
       "    </tr>\n",
       "  </thead>\n",
       "  <tbody>\n",
       "    <tr>\n",
       "      <th>K0</th>\n",
       "      <td>A0</td>\n",
       "      <td>B0</td>\n",
       "      <td>C0</td>\n",
       "      <td>D0</td>\n",
       "    </tr>\n",
       "    <tr>\n",
       "      <th>K1</th>\n",
       "      <td>A1</td>\n",
       "      <td>B1</td>\n",
       "      <td>NaN</td>\n",
       "      <td>NaN</td>\n",
       "    </tr>\n",
       "    <tr>\n",
       "      <th>K2</th>\n",
       "      <td>A2</td>\n",
       "      <td>B2</td>\n",
       "      <td>C2</td>\n",
       "      <td>D2</td>\n",
       "    </tr>\n",
       "    <tr>\n",
       "      <th>K3</th>\n",
       "      <td>NaN</td>\n",
       "      <td>NaN</td>\n",
       "      <td>C3</td>\n",
       "      <td>D3</td>\n",
       "    </tr>\n",
       "  </tbody>\n",
       "</table>\n",
       "</div>"
      ],
      "text/plain": [
       "      A    B    C    D\n",
       "K0   A0   B0   C0   D0\n",
       "K1   A1   B1  NaN  NaN\n",
       "K2   A2   B2   C2   D2\n",
       "K3  NaN  NaN   C3   D3"
      ]
     },
     "execution_count": 57,
     "metadata": {},
     "output_type": "execute_result"
    }
   ],
   "source": [
    "# or an outer join that keeps all indexes\n",
    "left.join(right, how=\"outer\")"
   ]
  },
  {
   "cell_type": "code",
   "execution_count": 58,
   "metadata": {
    "collapsed": false
   },
   "outputs": [
    {
     "data": {
      "text/html": [
       "<div>\n",
       "<table border=\"1\" class=\"dataframe\">\n",
       "  <thead>\n",
       "    <tr style=\"text-align: right;\">\n",
       "      <th></th>\n",
       "      <th>A</th>\n",
       "      <th>B</th>\n",
       "      <th>C</th>\n",
       "      <th>D</th>\n",
       "    </tr>\n",
       "  </thead>\n",
       "  <tbody>\n",
       "    <tr>\n",
       "      <th>K0</th>\n",
       "      <td>A0</td>\n",
       "      <td>B0</td>\n",
       "      <td>C0</td>\n",
       "      <td>D0</td>\n",
       "    </tr>\n",
       "    <tr>\n",
       "      <th>K2</th>\n",
       "      <td>A2</td>\n",
       "      <td>B2</td>\n",
       "      <td>C2</td>\n",
       "      <td>D2</td>\n",
       "    </tr>\n",
       "  </tbody>\n",
       "</table>\n",
       "</div>"
      ],
      "text/plain": [
       "     A   B   C   D\n",
       "K0  A0  B0  C0  D0\n",
       "K2  A2  B2  C2  D2"
      ]
     },
     "execution_count": 58,
     "metadata": {},
     "output_type": "execute_result"
    }
   ],
   "source": [
    "# or an inner join that keep all complete indexes\n",
    "left.join(right, how=\"inner\")"
   ]
  },
  {
   "cell_type": "markdown",
   "metadata": {},
   "source": [
    "### 6.7.3 Joining by key\n",
    "\n",
    "Often datasets are related by a shared key. These are often referred to as relational datasets or databases. Pandas makes it easy to merge across shared key values."
   ]
  },
  {
   "cell_type": "code",
   "execution_count": 59,
   "metadata": {
    "collapsed": false
   },
   "outputs": [
    {
     "name": "stdout",
     "output_type": "stream",
     "text": [
      "  key   title   year\n",
      "0  A1  Title1  Year1\n",
      "1  A2  Title2  Year2\n",
      "2  A1  Title3  Year3\n",
      "3  A2   Year4  Year4\n",
      "\n",
      "   first_name last_name\n",
      "A1         F1        L1\n",
      "A2         F2        L2\n",
      "A3         F3        L3\n"
     ]
    }
   ],
   "source": [
    "books = pandas.DataFrame({'title': ['Title1', 'Title2', 'Title3', 'Year4'],\n",
    "                         'year': ['Year1', 'Year2', 'Year3', 'Year4'],\n",
    "                         'key': ['A1', 'A2', 'A1', 'A2']})\n",
    "authors = pandas.DataFrame({'first_name': ['F1', 'F2', 'F3'],\n",
    "                          'last_name': ['L1', 'L2', 'L3']},\n",
    "                          index=['A1', 'A2', 'A3'])\n",
    "print(books)\n",
    "print()\n",
    "print(authors)"
   ]
  },
  {
   "cell_type": "code",
   "execution_count": 60,
   "metadata": {
    "collapsed": false
   },
   "outputs": [
    {
     "data": {
      "text/html": [
       "<div>\n",
       "<table border=\"1\" class=\"dataframe\">\n",
       "  <thead>\n",
       "    <tr style=\"text-align: right;\">\n",
       "      <th></th>\n",
       "      <th>key</th>\n",
       "      <th>title</th>\n",
       "      <th>year</th>\n",
       "      <th>first_name</th>\n",
       "      <th>last_name</th>\n",
       "    </tr>\n",
       "  </thead>\n",
       "  <tbody>\n",
       "    <tr>\n",
       "      <th>0</th>\n",
       "      <td>A1</td>\n",
       "      <td>Title1</td>\n",
       "      <td>Year1</td>\n",
       "      <td>F1</td>\n",
       "      <td>L1</td>\n",
       "    </tr>\n",
       "    <tr>\n",
       "      <th>1</th>\n",
       "      <td>A2</td>\n",
       "      <td>Title2</td>\n",
       "      <td>Year2</td>\n",
       "      <td>F2</td>\n",
       "      <td>L2</td>\n",
       "    </tr>\n",
       "    <tr>\n",
       "      <th>2</th>\n",
       "      <td>A1</td>\n",
       "      <td>Title3</td>\n",
       "      <td>Year3</td>\n",
       "      <td>F1</td>\n",
       "      <td>L1</td>\n",
       "    </tr>\n",
       "    <tr>\n",
       "      <th>3</th>\n",
       "      <td>A2</td>\n",
       "      <td>Year4</td>\n",
       "      <td>Year4</td>\n",
       "      <td>F2</td>\n",
       "      <td>L2</td>\n",
       "    </tr>\n",
       "  </tbody>\n",
       "</table>\n",
       "</div>"
      ],
      "text/plain": [
       "  key   title   year first_name last_name\n",
       "0  A1  Title1  Year1         F1        L1\n",
       "1  A2  Title2  Year2         F2        L2\n",
       "2  A1  Title3  Year3         F1        L1\n",
       "3  A2   Year4  Year4         F2        L2"
      ]
     },
     "execution_count": 60,
     "metadata": {},
     "output_type": "execute_result"
    }
   ],
   "source": [
    "books.join(authors, on=\"key\")"
   ]
  },
  {
   "cell_type": "markdown",
   "metadata": {},
   "source": [
    "### 6.7.4 Joins using the merge function\n",
    "\n",
    "Merge has more options than Join. Specifically, it is possible to specify a key in both dataframes to merge based on, to specify multiple keys within each dataframe, etc.\n",
    "\n",
    "One really nice feature is to include a new column indicating which dataframe the row came from."
   ]
  },
  {
   "cell_type": "code",
   "execution_count": 61,
   "metadata": {
    "collapsed": false
   },
   "outputs": [
    {
     "data": {
      "text/html": [
       "<div>\n",
       "<table border=\"1\" class=\"dataframe\">\n",
       "  <thead>\n",
       "    <tr style=\"text-align: right;\">\n",
       "      <th></th>\n",
       "      <th>A</th>\n",
       "      <th>B</th>\n",
       "      <th>C</th>\n",
       "      <th>D</th>\n",
       "      <th>F</th>\n",
       "      <th>indicator_column</th>\n",
       "    </tr>\n",
       "  </thead>\n",
       "  <tbody>\n",
       "    <tr>\n",
       "      <th>0</th>\n",
       "      <td>A0</td>\n",
       "      <td>B0</td>\n",
       "      <td>C0</td>\n",
       "      <td>D0</td>\n",
       "      <td>NaN</td>\n",
       "      <td>left_only</td>\n",
       "    </tr>\n",
       "    <tr>\n",
       "      <th>1</th>\n",
       "      <td>A1</td>\n",
       "      <td>B1</td>\n",
       "      <td>C1</td>\n",
       "      <td>D1</td>\n",
       "      <td>NaN</td>\n",
       "      <td>left_only</td>\n",
       "    </tr>\n",
       "    <tr>\n",
       "      <th>2</th>\n",
       "      <td>A2</td>\n",
       "      <td>B2</td>\n",
       "      <td>C2</td>\n",
       "      <td>D2</td>\n",
       "      <td>F2</td>\n",
       "      <td>both</td>\n",
       "    </tr>\n",
       "    <tr>\n",
       "      <th>3</th>\n",
       "      <td>A3</td>\n",
       "      <td>B3</td>\n",
       "      <td>C3</td>\n",
       "      <td>D3</td>\n",
       "      <td>F3</td>\n",
       "      <td>both</td>\n",
       "    </tr>\n",
       "    <tr>\n",
       "      <th>4</th>\n",
       "      <td>NaN</td>\n",
       "      <td>B6</td>\n",
       "      <td>NaN</td>\n",
       "      <td>D6</td>\n",
       "      <td>F6</td>\n",
       "      <td>right_only</td>\n",
       "    </tr>\n",
       "    <tr>\n",
       "      <th>5</th>\n",
       "      <td>NaN</td>\n",
       "      <td>B7</td>\n",
       "      <td>NaN</td>\n",
       "      <td>D7</td>\n",
       "      <td>F7</td>\n",
       "      <td>right_only</td>\n",
       "    </tr>\n",
       "  </tbody>\n",
       "</table>\n",
       "</div>"
      ],
      "text/plain": [
       "     A   B    C   D    F indicator_column\n",
       "0   A0  B0   C0  D0  NaN        left_only\n",
       "1   A1  B1   C1  D1  NaN        left_only\n",
       "2   A2  B2   C2  D2   F2             both\n",
       "3   A3  B3   C3  D3   F3             both\n",
       "4  NaN  B6  NaN  D6   F6       right_only\n",
       "5  NaN  B7  NaN  D7   F7       right_only"
      ]
     },
     "execution_count": 61,
     "metadata": {},
     "output_type": "execute_result"
    }
   ],
   "source": [
    "pandas.merge(df1, df5, how='outer', indicator='indicator_column')"
   ]
  },
  {
   "cell_type": "markdown",
   "metadata": {},
   "source": [
    "## Exercise 6.7\n",
    "\n",
    "Read in the three iris datasets (a, b, and c) and combine them into a single dataframe. Add a column to indicate which dataset they came from.\n",
    "\n",
    "Did you use concatinate, merge, join, or another function? Why? What aspects of the data would make you change your choice?"
   ]
  },
  {
   "cell_type": "code",
   "execution_count": null,
   "metadata": {
    "collapsed": true
   },
   "outputs": [],
   "source": []
  },
  {
   "cell_type": "markdown",
   "metadata": {},
   "source": [
    "## 6.8 Time series\n",
    "\n",
    "Pandas has incredibly powerful tools for processing data based on time series."
   ]
  },
  {
   "cell_type": "code",
   "execution_count": 62,
   "metadata": {
    "collapsed": false
   },
   "outputs": [
    {
     "name": "stdout",
     "output_type": "stream",
     "text": [
      "DatetimeIndex: 192 entries, 2011-01-01 00:00:00 to 2011-01-08 23:00:00\n",
      "Freq: H\n",
      "2011-01-01 00:00:00    231\n",
      "2011-01-01 01:00:00    288\n",
      "2011-01-01 02:00:00    269\n",
      "2011-01-01 03:00:00    372\n",
      "2011-01-01 04:00:00     56\n",
      "2011-01-01 05:00:00    122\n",
      "2011-01-01 06:00:00    318\n",
      "2011-01-01 07:00:00    491\n",
      "2011-01-01 08:00:00    408\n",
      "2011-01-01 09:00:00    383\n",
      "Freq: H, dtype: int64\n"
     ]
    }
   ],
   "source": [
    "# create a range of dates\n",
    "rng = pandas.date_range('1/1/2011', periods=24*8, freq='H')\n",
    "print(rng.summary())\n",
    "\n",
    "# a series of numbers with those dates as an index\n",
    "ts = pandas.Series(numpy.random.randint(0, 500, len(rng)), index=rng)\n",
    "print(ts.head(10))"
   ]
  },
  {
   "cell_type": "code",
   "execution_count": 63,
   "metadata": {
    "collapsed": false
   },
   "outputs": [
    {
     "name": "stdout",
     "output_type": "stream",
     "text": [
      "2011-01-01 00:00:00+00:00    231\n",
      "2011-01-01 01:00:00+00:00    288\n",
      "2011-01-01 02:00:00+00:00    269\n",
      "2011-01-01 03:00:00+00:00    372\n",
      "2011-01-01 04:00:00+00:00     56\n",
      "Freq: H, dtype: int64\n",
      "2010-12-31 19:00:00-05:00    231\n",
      "2010-12-31 20:00:00-05:00    288\n",
      "2010-12-31 21:00:00-05:00    269\n",
      "2010-12-31 22:00:00-05:00    372\n",
      "2010-12-31 23:00:00-05:00     56\n",
      "Freq: H, dtype: int64\n"
     ]
    }
   ],
   "source": [
    "# convert time zone\n",
    "ts_utc = ts.tz_localize('UTC')\n",
    "print(ts_utc.head())\n",
    "\n",
    "# convert to another time zone\n",
    "print(ts_utc.tz_convert('US/Eastern').head())"
   ]
  },
  {
   "cell_type": "markdown",
   "metadata": {},
   "source": [
    "### 6.9.1 Transform the time increments"
   ]
  },
  {
   "cell_type": "code",
   "execution_count": 64,
   "metadata": {
    "collapsed": false
   },
   "outputs": [
    {
     "name": "stdout",
     "output_type": "stream",
     "text": [
      "2011-01-01 00:00:00    231\n",
      "2011-01-01 00:45:00    231\n",
      "2011-01-01 01:30:00    288\n",
      "2011-01-01 02:15:00    269\n",
      "2011-01-01 03:00:00    372\n",
      "2011-01-01 03:45:00    372\n",
      "2011-01-01 04:30:00     56\n",
      "2011-01-01 05:15:00    122\n",
      "2011-01-01 06:00:00    318\n",
      "2011-01-01 06:45:00    318\n",
      "Freq: 45T, dtype: int64\n"
     ]
    }
   ],
   "source": [
    "# recode the frequency of the time steps\n",
    "# fill in missing data from the previous step\n",
    "print(ts.asfreq('45Min', method='pad').head(10))"
   ]
  },
  {
   "cell_type": "code",
   "execution_count": 69,
   "metadata": {
    "collapsed": false
   },
   "outputs": [
    {
     "name": "stdout",
     "output_type": "stream",
     "text": [
      "2011-01-01    256.750000\n",
      "2011-01-02    270.208333\n",
      "2011-01-03    248.333333\n",
      "2011-01-04    254.041667\n",
      "2011-01-05    267.583333\n",
      "2011-01-06    251.583333\n",
      "2011-01-07    197.666667\n",
      "2011-01-08    203.666667\n",
      "Freq: D, dtype: float64\n"
     ]
    }
   ],
   "source": [
    "# bin the timestamps into days (from hours) and return the mean value \n",
    "print(ts.resample('D').mean())"
   ]
  },
  {
   "cell_type": "code",
   "execution_count": 71,
   "metadata": {
    "collapsed": false
   },
   "outputs": [
    {
     "name": "stdout",
     "output_type": "stream",
     "text": [
      "2011-01-01 00:00:00    231.000000\n",
      "2011-01-01 01:00:00    259.500000\n",
      "2011-01-01 02:00:00    262.666667\n",
      "2011-01-01 03:00:00    290.000000\n",
      "2011-01-01 04:00:00    243.200000\n",
      "2011-01-01 05:00:00    221.400000\n",
      "2011-01-01 06:00:00    227.400000\n",
      "2011-01-01 07:00:00    271.800000\n",
      "2011-01-01 08:00:00    279.000000\n",
      "2011-01-01 09:00:00    344.400000\n",
      "Freq: H, dtype: float64\n",
      "\n",
      "2011-01-01 00:00:00    231.0\n",
      "2011-01-01 01:00:00    288.0\n",
      "2011-01-01 02:00:00    288.0\n",
      "2011-01-01 03:00:00    372.0\n",
      "2011-01-01 04:00:00    372.0\n",
      "2011-01-01 05:00:00    372.0\n",
      "2011-01-01 06:00:00    318.0\n",
      "2011-01-01 07:00:00    491.0\n",
      "2011-01-01 08:00:00    491.0\n",
      "2011-01-01 09:00:00    491.0\n",
      "Freq: H, dtype: float64\n"
     ]
    }
   ],
   "source": [
    "# compute rolling means\n",
    "lag = ts.rolling(window=5, min_periods=1,center=False).mean()\n",
    "print(lag.head(10))\n",
    "print()\n",
    "\n",
    "# compute rolling max\n",
    "roll_max = ts.rolling(3, min_periods=1).max()\n",
    "print(roll_max.head(10))\n",
    "\n",
    "# 10+ rolling functions in pandas \n",
    "# including a rolling_apply that takes an arbitrary function"
   ]
  },
  {
   "cell_type": "markdown",
   "metadata": {},
   "source": [
    "### 6.8.2 Converting from strings to timestamps"
   ]
  },
  {
   "cell_type": "code",
   "execution_count": 72,
   "metadata": {
    "collapsed": false
   },
   "outputs": [
    {
     "name": "stdout",
     "output_type": "stream",
     "text": [
      "0   2009-07-31\n",
      "1   2010-01-10\n",
      "2          NaT\n",
      "dtype: datetime64[ns]\n",
      "\n",
      "DatetimeIndex(['2005-11-23', '2010-12-31'], dtype='datetime64[ns]', freq=None)\n",
      "\n",
      "DatetimeIndex(['2012-01-04 10:00:00'], dtype='datetime64[ns]', freq=None)\n",
      "\n",
      "DatetimeIndex(['2012-01-14', '2012-01-14'], dtype='datetime64[ns]', freq=None)\n",
      "\n",
      "DatetimeIndex(['2012-10-08 18:15:05', '2012-10-09 18:15:05',\n",
      "               '2012-10-10 18:15:05', '2012-10-11 18:15:05',\n",
      "               '2012-10-12 18:15:05'],\n",
      "              dtype='datetime64[ns]', freq=None)\n"
     ]
    }
   ],
   "source": [
    "# converting \n",
    "print(pandas.to_datetime(pandas.Series(['Jul 31, 2009', '2010-01-10', None])))\n",
    "print()\n",
    "print(pandas.to_datetime(['2005/11/23', '2010.12.31']))\n",
    "print()\n",
    "\n",
    "# European style dates:\n",
    "print(pandas.to_datetime(['04-01-2012 10:00'], dayfirst=True))\n",
    "print()\n",
    "print(pandas.to_datetime(['14-01-2012', '01-14-2012'], dayfirst=True))\n",
    "print()\n",
    "\n",
    "# from epochs:\n",
    "print(pandas.to_datetime([1349720105, 1349806505, 1349892905, \n",
    "                          1349979305, 1350065705], unit='s'))"
   ]
  },
  {
   "cell_type": "markdown",
   "metadata": {},
   "source": [
    "## Exercise 6.8"
   ]
  }
 ],
 "metadata": {
  "kernelspec": {
   "display_name": "Python 3",
   "language": "python",
   "name": "python3"
  },
  "language_info": {
   "codemirror_mode": {
    "name": "ipython",
    "version": 3
   },
   "file_extension": ".py",
   "mimetype": "text/x-python",
   "name": "python",
   "nbconvert_exporter": "python",
   "pygments_lexer": "ipython3",
   "version": "3.6.0"
  }
 },
 "nbformat": 4,
 "nbformat_minor": 0
}
