{
 "cells": [
  {
   "cell_type": "markdown",
   "metadata": {},
   "source": [
    "# 2. Multidemensional Arrays"
   ]
  },
  {
   "cell_type": "markdown",
   "metadata": {},
   "source": [
    "## 2.1 Dimensionality of arrays\n",
    "\n",
    "An array is an ordered and structured collection of elements. Arrays are structured around the number of dimensions they contain, as well as how many elements exist along each dimension. Today we will focus on arrays that are more than one dimension.\n",
    "\n",
    "A one-dimensional array that contains six elements looks like:\n",
    "\n",
    "  4 5 6 7 8 9\n",
    "\n",
    "Or we could have a two-dimensional array that contains six elements with two rows and three columns:\n",
    "\n",
    "  4 5 6\n",
    "  \n",
    "  7 8 9"
   ]
  },
  {
   "cell_type": "markdown",
   "metadata": {},
   "source": [
    "## Exercise 2.1\n",
    "\n",
    "Import numpy"
   ]
  },
  {
   "cell_type": "code",
   "execution_count": 1,
   "metadata": {
    "collapsed": true
   },
   "outputs": [],
   "source": [
    "import numpy"
   ]
  },
  {
   "cell_type": "markdown",
   "metadata": {},
   "source": [
    "## 2.2 Creating multidemensional arrays from python lists\n",
    "\n",
    "### 2.2.1 Reviewing one dimensional arrays\n",
    "\n",
    "Last week we focused on creating arrays that contain one dimesion:"
   ]
  },
  {
   "cell_type": "code",
   "execution_count": 2,
   "metadata": {
    "collapsed": false
   },
   "outputs": [
    {
     "name": "stdout",
     "output_type": "stream",
     "text": [
      "[1 2 3]\n"
     ]
    }
   ],
   "source": [
    "b = numpy.array([1, 2, 3])\n",
    "\n",
    "print( b )"
   ]
  },
  {
   "cell_type": "markdown",
   "metadata": {},
   "source": [
    "We have multiple functions to get insight in the dimensionality:\n",
    "- `x.ndim` : the number of dimensions.\n",
    "- `x.shape` : the length of each dimension.\n",
    "- `x.size` : the total number of elements."
   ]
  },
  {
   "cell_type": "code",
   "execution_count": 3,
   "metadata": {
    "collapsed": false
   },
   "outputs": [
    {
     "name": "stdout",
     "output_type": "stream",
     "text": [
      "1 (3,) 3\n"
     ]
    }
   ],
   "source": [
    "print( b.ndim, b.shape, b.size )"
   ]
  },
  {
   "cell_type": "markdown",
   "metadata": {},
   "source": [
    "### 2.2.2 Create two dimensonal arrays\n",
    "\n",
    "When creating two dimensional arrays, the simplist way to do so is based on python structures. Specifically, create the numpy array based off a python list, where each element of the list is another list. In this case the outer list is a list of the rows and each inner list specifies the elements of that row."
   ]
  },
  {
   "cell_type": "code",
   "execution_count": 4,
   "metadata": {
    "collapsed": false
   },
   "outputs": [
    {
     "name": "stdout",
     "output_type": "stream",
     "text": [
      "[[1 3 6 5]\n",
      " [2 4 3 0]]\n",
      "2 (2, 4) 8\n"
     ]
    }
   ],
   "source": [
    "a = numpy.array([[1, 3, 6, 5], [2, 4, 3, 0]])\n",
    "\n",
    "print( a )\n",
    "print( a.ndim, a.shape, a.size )"
   ]
  },
  {
   "cell_type": "markdown",
   "metadata": {},
   "source": [
    "A true 2-dimensional array (also called a matrix) is created only if the number of elements in each row is the same across all rows. Otherwise, a one-dimensional numpy array of python lists is created:"
   ]
  },
  {
   "cell_type": "code",
   "execution_count": 5,
   "metadata": {
    "collapsed": false
   },
   "outputs": [
    {
     "name": "stdout",
     "output_type": "stream",
     "text": [
      "[list([1, 3, 6, 5]) list([2, 4, 3])]\n",
      "1 (2,) 2\n"
     ]
    }
   ],
   "source": [
    "b = numpy.array([[1, 3, 6, 5], [2, 4, 3]])\n",
    "\n",
    "print( b )\n",
    "print( b.ndim, b.shape, b.size )"
   ]
  },
  {
   "cell_type": "markdown",
   "metadata": {},
   "source": [
    "### 2.2.3 N dimensional arrays\n",
    "\n",
    "In general, an array can be $n$-dimensional. One way to think of $n$-dimensional arrays in terms of the bookshelf analogy:\n",
    "\n",
    "- 1d array is a single row of a bookshelf, where a book can be identified by its position in the row\n",
    "- 2d array is the whole bookshelf, where a book can be identified by its row number and its position in the row\n",
    "- 3d array is a room full of bookshelves, where a book can be identified by the number of the bookshelf, row, and position in the row\n",
    "- 4d array is a library with rooms with bookshelves, where a book can be identified by the room, bookshelf, row and position in the row\n",
    "- ...and so on...\n",
    "\n",
    "N-dimensional arrays can be created in the same way as two-dimensional arrays but with more nested lists:"
   ]
  },
  {
   "cell_type": "code",
   "execution_count": 6,
   "metadata": {
    "collapsed": false
   },
   "outputs": [
    {
     "name": "stdout",
     "output_type": "stream",
     "text": [
      "[[[ 1  3]\n",
      "  [ 2  4]]\n",
      "\n",
      " [[11 13]\n",
      "  [12 14]]]\n",
      "Number of dimensions: 3\n",
      "Length of each dimension: (2, 2, 2)\n",
      "The total number of elements: 8\n"
     ]
    }
   ],
   "source": [
    "# create a three dimensional array:\n",
    "z1 = numpy.array([[[1, 3], [2, 4]], [[11, 13], [12, 14]] ])\n",
    "\n",
    "# dimensions/shape/size of the array:\n",
    "print(z1)\n",
    "print( \"Number of dimensions:\", z1.ndim )\n",
    "print( \"Length of each dimension:\", z1.shape )\n",
    "print( \"The total number of elements:\", z1.size )"
   ]
  },
  {
   "cell_type": "markdown",
   "metadata": {},
   "source": [
    "## Exercise 2.2\n",
    "\n",
    "Part A: Create a 2x3x2 three-dimensional array (you decide which values to include)\n",
    "    \n",
    "Part B: Create 2x2x3 three dimensional array.\n",
    "\n",
    "Verify the arrays have the same number of dimensions and elements but different shapes."
   ]
  },
  {
   "cell_type": "code",
   "execution_count": null,
   "metadata": {
    "collapsed": true
   },
   "outputs": [],
   "source": []
  },
  {
   "cell_type": "markdown",
   "metadata": {},
   "source": [
    "## 2.3 Creating N-dimensional arrays using functions\n",
    "\n",
    "Creating arrays by specifying nested lists of elements is tedious. Therefore, there are nice tools for creating mulit-dimensional arrays.\n",
    "\n",
    "### 2.3.1 Creating arrays containing nothing, zeroes, ones\n",
    "\n",
    "An empty array or an array with only zeros or ones can be created with the `empty`, `zeros` and `ones` functions. \n",
    "Be careful with the empty array. This is the fastest way to inialize an array but the content of the empty array can be anything (it will be whatever was already written in that location in memory).\n",
    "\n",
    "The shape of the array is the input for these functions:\n"
   ]
  },
  {
   "cell_type": "code",
   "execution_count": 8,
   "metadata": {
    "collapsed": false
   },
   "outputs": [
    {
     "name": "stdout",
     "output_type": "stream",
     "text": [
      "[  4.94065646e-324   9.88131292e-324   1.48219694e-323] (3,)\n",
      "[[ 0.  0.  0.]\n",
      " [ 0.  0.  0.]] (2, 3)\n",
      "[[[[ 1.  1.]\n",
      "   [ 1.  1.]]\n",
      "\n",
      "  [[ 1.  1.]\n",
      "   [ 1.  1.]]]\n",
      "\n",
      "\n",
      " [[[ 1.  1.]\n",
      "   [ 1.  1.]]\n",
      "\n",
      "  [[ 1.  1.]\n",
      "   [ 1.  1.]]]] (2, 2, 2, 2)\n"
     ]
    }
   ],
   "source": [
    "# create a one-dimensional empty array:\n",
    "a = numpy.empty( (3) )\n",
    "print(a, a.shape)\n",
    "\n",
    "# create two-dimensional array with only zeros:\n",
    "b = numpy.zeros( (2, 3) )\n",
    "print(b, b.shape)\n",
    "\n",
    "# create a four-dimensional array with only ones:\n",
    "c = numpy.ones( (2,2,2,2) )\n",
    "print(c, c.shape)"
   ]
  },
  {
   "cell_type": "markdown",
   "metadata": {},
   "source": [
    "### 2.3.2 Creating identity matrices\n",
    "\n",
    "An identity matrix is a two-dimensional square matrix (same number of rows and columns) in which all values are zeros, except for ones along the diagonal. \n",
    "The identity matrix can be created with the `eye(n)` function. Since the identity matrix is always a square, only one input parameter is needed to create the 2-dimensional matrix."
   ]
  },
  {
   "cell_type": "code",
   "execution_count": 9,
   "metadata": {
    "collapsed": false,
    "scrolled": true
   },
   "outputs": [
    {
     "name": "stdout",
     "output_type": "stream",
     "text": [
      "[[ 1.  0.  0.  0.]\n",
      " [ 0.  1.  0.  0.]\n",
      " [ 0.  0.  1.  0.]\n",
      " [ 0.  0.  0.  1.]]\n"
     ]
    }
   ],
   "source": [
    "# create n by n identity matrix:\n",
    "print( numpy.eye(4) )"
   ]
  },
  {
   "cell_type": "markdown",
   "metadata": {},
   "source": [
    "### 2.3.3 Array stacking\n",
    "\n",
    "More complex arrays can be created by combining two or more one-dimensional arrays. This is called vector stacking. There are two functions to stack arrays and they produce arrays with different shapes:\n",
    "\n",
    "- horizontal stack: `numpy.hstack([x, y, z])`\n",
    "- vertical stack: `numpy.vstack([x, y, z])`"
   ]
  },
  {
   "cell_type": "code",
   "execution_count": 10,
   "metadata": {
    "collapsed": false,
    "scrolled": true
   },
   "outputs": [
    {
     "name": "stdout",
     "output_type": "stream",
     "text": [
      "Horizontal stack: \n",
      "[ 0  1  2  3  4  5  6  7  8  9 10 11 12 13 14]\n",
      "Vertical stack: \n",
      "[[ 0  1  2  3  4]\n",
      " [ 5  6  7  8  9]\n",
      " [10 11 12 13 14]]\n"
     ]
    }
   ],
   "source": [
    "x = numpy.arange(0, 5)                     \n",
    "y = numpy.arange(5, 10)   \n",
    "z = numpy.arange(10, 15)\n",
    "\n",
    "print(\"Horizontal stack: \" )\n",
    "print( numpy.hstack([x, y, z]) )\n",
    "\n",
    "print(\"Vertical stack: \")\n",
    "print( numpy.vstack([x, y, z]) )"
   ]
  },
  {
   "cell_type": "markdown",
   "metadata": {
    "collapsed": true
   },
   "source": [
    "The opposite of vector stacking is to split a two-dimensional array into a list of one-dimensional arrays (vectors). The first argument is the 2D array and the second argument is the number of 1D arrays to create. It is important that that the number of pieces you want is possible given the number of rows or columns. Two different ways of splitting:\n",
    "- Vertical split: `numpy.vsplit(x, N)`\n",
    "- Horizontal split: `numpy.hsplit(x, N)`\n"
   ]
  },
  {
   "cell_type": "code",
   "execution_count": 11,
   "metadata": {
    "collapsed": false,
    "scrolled": false
   },
   "outputs": [
    {
     "name": "stdout",
     "output_type": "stream",
     "text": [
      "[[ 0  1  2  3  4]\n",
      " [ 5  6  7  8  9]\n",
      " [10 11 12 13 14]] (3, 5)\n",
      "\n",
      "Vertical split: \n",
      "[array([[0, 1, 2, 3, 4]]), array([[5, 6, 7, 8, 9]]), array([[10, 11, 12, 13, 14]])]\n",
      "\n",
      "Horizontal split: \n",
      "[array([[ 0],\n",
      "       [ 5],\n",
      "       [10]]), array([[ 1],\n",
      "       [ 6],\n",
      "       [11]]), array([[ 2],\n",
      "       [ 7],\n",
      "       [12]]), array([[ 3],\n",
      "       [ 8],\n",
      "       [13]]), array([[ 4],\n",
      "       [ 9],\n",
      "       [14]])]\n"
     ]
    }
   ],
   "source": [
    "a = numpy.arange(0, 5)                     \n",
    "b = numpy.arange(5, 10)   \n",
    "c = numpy.arange(10, 15)\n",
    "d = numpy.vstack([a, b, c])\n",
    "\n",
    "print(d, d.shape)\n",
    "\n",
    "print(\"\\nVertical split: \")\n",
    "print( numpy.vsplit(d, 3) )\n",
    "\n",
    "print(\"\\nHorizontal split: \")\n",
    "print( numpy.hsplit(d, 5) )"
   ]
  },
  {
   "cell_type": "markdown",
   "metadata": {},
   "source": [
    "## 2.4 Reshaping arrays\n",
    "\n",
    "A 1D array can be converted to an $n$ dimensional array using the `reshape()` function. \n",
    "\n",
    "Note that the the total number of elements in the array have to be the same as the product of the lengths of the dimensions. For example, if the length of the list is 24, then we can reshape it to a 4 by 6 matrix, but also to a 2 by 3 by 4 matrix.\n",
    "\n",
    "Let's assume we have a 2 by 3 by 4 matrix, which we will call z. Since the index in Python starts at 0, the first element of the array is `z[0,0,0]`, but the last element of the array is not z[2, 3, 4] but rather `z[1, 2, 3]`."
   ]
  },
  {
   "cell_type": "code",
   "execution_count": 12,
   "metadata": {
    "collapsed": false
   },
   "outputs": [
    {
     "name": "stdout",
     "output_type": "stream",
     "text": [
      "[[ 2  4  6]\n",
      " [ 8 10 12]]\n",
      "2 (2, 3) 6\n"
     ]
    }
   ],
   "source": [
    "# reshape into a two dimensional array:\n",
    "a = numpy.arange(2, 14, 2).reshape((2, 3))\n",
    "print( a )\n",
    "print( a.ndim, a.shape, a.size)"
   ]
  },
  {
   "cell_type": "code",
   "execution_count": 13,
   "metadata": {
    "collapsed": false
   },
   "outputs": [
    {
     "name": "stdout",
     "output_type": "stream",
     "text": [
      "[[[ 0  1  2  3]\n",
      "  [ 4  5  6  7]\n",
      "  [ 8  9 10 11]]\n",
      "\n",
      " [[12 13 14 15]\n",
      "  [16 17 18 19]\n",
      "  [20 21 22 23]]]\n",
      "Number of dimensions: 3\n",
      "Length of each dimension: (2, 3, 4)\n",
      "The total number of elements: 24\n"
     ]
    }
   ],
   "source": [
    "# reshape into a three dimensional array:\n",
    "z2 = numpy.arange(24).reshape((2, 3, 4))\n",
    "\n",
    "# dimensions/shape/size of the array:\n",
    "print( z2 )\n",
    "print( \"Number of dimensions:\", z2.ndim )\n",
    "print( \"Length of each dimension:\", z2.shape )\n",
    "print( \"The total number of elements:\", z2.size )"
   ]
  },
  {
   "cell_type": "markdown",
   "metadata": {},
   "source": [
    "## Exercise 2.4\n",
    "\n",
    "Redo Exercise 2.2 using reshape."
   ]
  },
  {
   "cell_type": "code",
   "execution_count": null,
   "metadata": {
    "collapsed": true
   },
   "outputs": [],
   "source": []
  },
  {
   "cell_type": "markdown",
   "metadata": {},
   "source": [
    "## 2.5 Creating the other one dimensional array: column vectors\n",
    "\n",
    "The standard one-dimensional numpy array has one row and multiple columns:"
   ]
  },
  {
   "cell_type": "code",
   "execution_count": 14,
   "metadata": {
    "collapsed": false
   },
   "outputs": [
    {
     "name": "stdout",
     "output_type": "stream",
     "text": [
      "[ 0.34403669  0.71724853  0.79961649  0.89316333  0.71325027] 5\n"
     ]
    }
   ],
   "source": [
    "a = numpy.random.random(5)\n",
    "print( a, a.size )"
   ]
  },
  {
   "cell_type": "markdown",
   "metadata": {},
   "source": [
    "For some purposes (linear algebra, matrix multiplication, etc.) it is useful to have a one-dimensional array that consists of multiple rows and one column. \n",
    "\n",
    "This is called a column vector (intead of the standard row vector). Numpy represents column vectors as a two-dimensional array with only one column. They can be created by using the list of lists construction, by specifying a two-dimensional shape to `numpy.zeros` or other functions, or by using the reshape function:"
   ]
  },
  {
   "cell_type": "code",
   "execution_count": 15,
   "metadata": {
    "collapsed": false
   },
   "outputs": [
    {
     "name": "stdout",
     "output_type": "stream",
     "text": [
      "[[1]\n",
      " [2]\n",
      " [3]]\n",
      "2 (3, 1) 3 \n",
      "\n",
      "[[ 0.]\n",
      " [ 0.]\n",
      " [ 0.]]\n",
      "2 (3, 1) 3 \n",
      "\n",
      "[[1]\n",
      " [2]\n",
      " [3]]\n",
      "2 (3, 1) 3 \n",
      "\n"
     ]
    }
   ],
   "source": [
    "a = numpy.array([[1], [2], [3]])\n",
    "print( a )\n",
    "print( a.ndim, a.shape, a.size, \"\\n\" )\n",
    "\n",
    "b = numpy.zeros((3,1))\n",
    "print( b )\n",
    "print( b.ndim, b.shape, b.size, \"\\n\" )\n",
    "\n",
    "c = numpy.array([1,2,3]).reshape((3,1))\n",
    "print( c )\n",
    "print( c.ndim, c.shape, c.size, \"\\n\" )"
   ]
  },
  {
   "cell_type": "markdown",
   "metadata": {},
   "source": [
    "## 2.6 Matrix Indexing\n",
    "\n",
    "For complete information about indexing see\n",
    "http://docs.scipy.org/doc/numpy/user/basics.indexing.html\n",
    "\n",
    "Last week we talked about linear indexing, boolean indexing, and indexing by number. Today we will talk about matrix indexing and how it relates to linear indexing.\n",
    "\n",
    "Linear indexing works when the array is a single dimension:"
   ]
  },
  {
   "cell_type": "code",
   "execution_count": 16,
   "metadata": {
    "collapsed": false
   },
   "outputs": [
    {
     "name": "stdout",
     "output_type": "stream",
     "text": [
      "[-0.09060926 -0.27400251 -0.04690387 -0.31740315  0.42807189  0.33950993\n",
      " -0.3674358   0.49550885  0.10683923]\n",
      "-0.0469038688989\n"
     ]
    }
   ],
   "source": [
    "a = numpy.random.uniform(-0.5, .5, 9)\n",
    "print( a )\n",
    "print( a[2] )"
   ]
  },
  {
   "cell_type": "markdown",
   "metadata": {},
   "source": [
    "But gives slightly confusing results (which we will explain in a bit), when there is more than one dimension:"
   ]
  },
  {
   "cell_type": "code",
   "execution_count": 17,
   "metadata": {
    "collapsed": false
   },
   "outputs": [
    {
     "name": "stdout",
     "output_type": "stream",
     "text": [
      "[[ 0.28170831  0.08316668  0.29155183]\n",
      " [-0.27224755  0.11383073  0.47971962]\n",
      " [-0.11528719  0.24830377 -0.35826978]]\n",
      "[-0.11528719  0.24830377 -0.35826978]\n"
     ]
    }
   ],
   "source": [
    "b = numpy.random.uniform(-0.5, .5, (3,3))\n",
    "print( b )\n",
    "print( b[2] )"
   ]
  },
  {
   "cell_type": "markdown",
   "metadata": {},
   "source": [
    "Instead, to access a single value in a multidimensional array, we need to specify an index along each dimension. This is referred to as Matrix Indexing:"
   ]
  },
  {
   "cell_type": "code",
   "execution_count": 18,
   "metadata": {
    "collapsed": false
   },
   "outputs": [
    {
     "name": "stdout",
     "output_type": "stream",
     "text": [
      "[[-0.25645619  0.0543062  -0.47847811]\n",
      " [ 0.2290951   0.44572004 -0.35197097]\n",
      " [-0.37078143 -0.12718253  0.38193165]]\n",
      "0.445720044459\n"
     ]
    }
   ],
   "source": [
    "c = numpy.random.uniform(-0.5, .5, (3,3))\n",
    "print( c )\n",
    "\n",
    "# Return a value specified by a matrix index\n",
    "print( c[1, 1] )"
   ]
  },
  {
   "cell_type": "markdown",
   "metadata": {},
   "source": [
    "### 2.6.1 Ranged matrix indexing\n",
    "\n",
    "As in one-dimensional arrays, when accessing more than one element, the slicing `\":\"` can be used. As we saw above, if no index is given for a dimension, then the `\":\"` will be assumed.\n",
    "\n",
    "As before, if the index is `[a:b]` then indices that are used are `a` up to but not including `b`."
   ]
  },
  {
   "cell_type": "code",
   "execution_count": 19,
   "metadata": {
    "collapsed": false
   },
   "outputs": [
    {
     "name": "stdout",
     "output_type": "stream",
     "text": [
      "[[[ 0  1  2  3]\n",
      "  [ 4  5  6  7]\n",
      "  [ 8  9 10 11]]\n",
      "\n",
      " [[12 13 14 15]\n",
      "  [16 17 18 19]\n",
      "  [20 21 22 23]]]\n",
      "\n",
      "Slices:\n",
      "[[ 7 11]\n",
      " [19 23]]\n",
      "\n",
      "[[ 8  9 10 11]\n",
      " [20 21 22 23]]\n"
     ]
    }
   ],
   "source": [
    "z = numpy.arange(24).reshape((2, 3, 4))\n",
    "print( z )\n",
    "print()\n",
    "\n",
    "# Print a few slices of a 3-dimensional array:\n",
    "print( \"Slices:\" )\n",
    "print( z[0:2, 1:3, 3] )\n",
    "print()\n",
    "print( z[:, 2, :] )"
   ]
  },
  {
   "cell_type": "markdown",
   "metadata": {},
   "source": [
    "### 2.6.2 Converting linear index to matrix index\n",
    "\n",
    "Some functions, like `argmax`, return a linear index even if the input is a multidimensional array. To convert from a linear index to a matrix index, use the function `numpy.unravel_index()`. The first argument is the linear index and the second argument is the shape of the array for which you want to transform the index. For example: `numpy.unravel_index(linear_index, (2,3))`. "
   ]
  },
  {
   "cell_type": "code",
   "execution_count": 20,
   "metadata": {
    "collapsed": false,
    "scrolled": true
   },
   "outputs": [
    {
     "name": "stdout",
     "output_type": "stream",
     "text": [
      "For a matrix with dimensions (2, 3, 4), the linear index:  10  is equal to matrix index:  (0, 2, 2)\n",
      "[[[ 0  1  2  3]\n",
      "  [ 4  5  6  7]\n",
      "  [ 8  9 10 11]]\n",
      "\n",
      " [[12 13 14 15]\n",
      "  [16 17 18 19]\n",
      "  [20 21 22 23]]]\n",
      "10\n"
     ]
    }
   ],
   "source": [
    "z = numpy.arange(24).reshape((2, 3, 4))\n",
    "\n",
    "# Converting a linear index to a matrix index:\n",
    "linear_index = 10\n",
    "matrix_index = numpy.unravel_index(linear_index, z.shape)\n",
    "\n",
    "print(\"For a matrix with dimensions (2, 3, 4), the linear index: \", linear_index, \" is equal to \\\n",
    "matrix index: \", matrix_index)\n",
    "\n",
    "print( z )\n",
    "print( z[matrix_index] )"
   ]
  },
  {
   "cell_type": "markdown",
   "metadata": {},
   "source": [
    "Alternatively, you can convert your multidimensional array to a one-dimensional array by using the `flatten` property:"
   ]
  },
  {
   "cell_type": "code",
   "execution_count": 21,
   "metadata": {
    "collapsed": false
   },
   "outputs": [
    {
     "name": "stdout",
     "output_type": "stream",
     "text": [
      "[ 0  1  2  3  4  5  6  7  8  9 10 11 12 13 14 15 16 17 18 19 20 21 22 23]\n",
      "10\n"
     ]
    }
   ],
   "source": [
    "z = numpy.arange(24).reshape((2, 3, 4))\n",
    "linear_index = 10\n",
    "\n",
    "a = z.flatten()\n",
    "print( a )\n",
    "print( a[linear_index] )"
   ]
  },
  {
   "cell_type": "markdown",
   "metadata": {},
   "source": [
    "## Exercise 2.6.1\n",
    "\n",
    "Generate a $5\\times 5 \\times 5$ 3D array of random numbers between -10.0 and 10.0. Reshape it to a $5 \\times 25$ matrix. Extract the last 10 elements of the first two rows of this matrix. \n"
   ]
  },
  {
   "cell_type": "code",
   "execution_count": null,
   "metadata": {
    "collapsed": true
   },
   "outputs": [],
   "source": []
  },
  {
   "cell_type": "markdown",
   "metadata": {},
   "source": [
    "## Exercise 2.6.2\n",
    "\n",
    "Create a $4\\times3$ matrix of random numbers between $0$ and $1$. \n",
    "Find the row and column position of the minimum and the maximum value."
   ]
  },
  {
   "cell_type": "code",
   "execution_count": null,
   "metadata": {
    "collapsed": true
   },
   "outputs": [],
   "source": []
  },
  {
   "cell_type": "markdown",
   "metadata": {},
   "source": [
    "## 2.7 Reading array from file and saving arrays to file\n",
    "\n",
    "There are two major numpy based methods for saving objects: saving them as a text file, or as a numpy-specific binary file. The first option is very similar to a csv file, the second preserves the numpy structure (like python's pickle library). The way to use these methods are:\n",
    "\n",
    "- `numpy.savetxt(filename, array)` : save an array to a text file. \n",
    "- `numpy.save(filename, array)` : save an array to a binary file in numpy `.npy` format.\n",
    "\n",
    "The corresponding functions for reading these formats are `numpy.loadtxt()` and `numpy.load()`."
   ]
  },
  {
   "cell_type": "markdown",
   "metadata": {},
   "source": [
    "## Exercise 2.7\n",
    "\n",
    "Part 1: Generate a one dimensional array. Save to disk as a text file, and as a npy file. Create a new array that is based on reading the array back from the text file, and a new array that is based on the npy file. Is the information preserved in both formats?\n",
    "\n",
    "Part 2: Repeat part 1 with a two-dimensional array and then a three-dimensional array. What works and what does not?"
   ]
  },
  {
   "cell_type": "code",
   "execution_count": null,
   "metadata": {
    "collapsed": true
   },
   "outputs": [],
   "source": []
  },
  {
   "cell_type": "code",
   "execution_count": null,
   "metadata": {
    "collapsed": true
   },
   "outputs": [],
   "source": []
  },
  {
   "cell_type": "markdown",
   "metadata": {},
   "source": [
    "## 2.8 Structured arrays\n",
    "\n",
    "A structured array is fundamentally different than a numpy array. Structured arrays are two-dimensional arrays in which each column can be a different datatype. They are particularly useful for loading and working with tabular data with heterogeneous column types. \n",
    "\n",
    "## 2.8.1 Creating structured arrays \n",
    "\n",
    "One of the possible ways to specify a structured array is to use a list of tuples as `dtype`:\n",
    "A tuple is specified with the name of the column and the type of data in each column in the array. For example: "
   ]
  },
  {
   "cell_type": "code",
   "execution_count": 26,
   "metadata": {
    "collapsed": true
   },
   "outputs": [],
   "source": [
    "dtype = [('Name', 'U10'), ('Country', 'U10'), ('Area', 'float64')]"
   ]
  },
  {
   "cell_type": "markdown",
   "metadata": {},
   "source": [
    "The content of the array can then be given as a list of tuples, like so:"
   ]
  },
  {
   "cell_type": "code",
   "execution_count": 27,
   "metadata": {
    "collapsed": false
   },
   "outputs": [
    {
     "name": "stdout",
     "output_type": "stream",
     "text": [
      "[('Amsterdam', 'Netherland',  219.3) ('Paris', 'France',  105.4)\n",
      " ('Barcelona', 'Spain',  101.9)]\n"
     ]
    }
   ],
   "source": [
    "city = numpy.array([('Amsterdam', 'Netherlands', 219.3),\n",
    "                    ('Paris',     'France',      105.4 ),\n",
    "                    ('Barcelona', 'Spain',       101.9 )],\n",
    "                     dtype=dtype)\n",
    "print( city )"
   ]
  },
  {
   "cell_type": "markdown",
   "metadata": {},
   "source": [
    "## Exercise 2.8.1.1\n",
    "\n",
    "Modify the code above to determine what happens when you use a list of lists instead of a list of tuples to define the types? Or when specifying the values in a structured array?"
   ]
  },
  {
   "cell_type": "code",
   "execution_count": null,
   "metadata": {
    "collapsed": true
   },
   "outputs": [],
   "source": []
  },
  {
   "cell_type": "markdown",
   "metadata": {},
   "source": [
    "You can also specify a structured array using a list with one entry for each column in the `dtype` option of the `numpy.loadtxt()` function. `loadtxt()` is a very fast and efficient function that assumes your data is nicely formatted."
   ]
  },
  {
   "cell_type": "markdown",
   "metadata": {},
   "source": [
    "## Exercise 2.8.1.2\n",
    "\n",
    "Uncomment and complete the following code loading the data from file [populations.txt](populations.txt). Load the year column as an `int`, and the other columns as `float`."
   ]
  },
  {
   "cell_type": "code",
   "execution_count": 28,
   "metadata": {
    "collapsed": true
   },
   "outputs": [],
   "source": [
    "#dtype = [('year',  ...\n",
    "#         ('hare',  ...\n",
    "#         ...\n",
    "#          ] \n",
    "#population = numpy.loadtxt(\"populations.txt\", dtype=...)\n",
    "#print( population )"
   ]
  },
  {
   "cell_type": "markdown",
   "metadata": {},
   "source": [
    "Finally, the `numpy.genfromtxt()` is a slower but more powerful tool for building structured arrays that can handle missing data and has more options than `loadtxt()`"
   ]
  },
  {
   "cell_type": "code",
   "execution_count": 30,
   "metadata": {
    "collapsed": false
   },
   "outputs": [
    {
     "name": "stdout",
     "output_type": "stream",
     "text": [
      "[  4000.   6100.   9800.  35200.  59400.  41700.  19000.  13000.   8300.\n",
      "   9100.   7400.   8000.  12300.  19500.  45700.  51100.  29700.  15800.\n",
      "   9700.  10100.   8600.]\n"
     ]
    }
   ],
   "source": [
    "population = numpy.genfromtxt(\"populations.txt\", \n",
    "             names=True,\n",
    "             dtype=['int','float','float','float'])\n",
    "\n",
    "# Print the  lynx column\n",
    "print( population['lynx'] )"
   ]
  },
  {
   "cell_type": "markdown",
   "metadata": {},
   "source": [
    "### 2.8.2 Dimensionality of structured arrays\n",
    "\n",
    "Despite structured arrays consisting of rows and columns, structured arrays are treated as one-dimensional arrays by numpy. The data type is a list with one tuple for each column:\n"
   ]
  },
  {
   "cell_type": "code",
   "execution_count": 31,
   "metadata": {
    "collapsed": false
   },
   "outputs": [
    {
     "name": "stdout",
     "output_type": "stream",
     "text": [
      "(3,)\n",
      "[('Name', '<U10'), ('Country', '<U10'), ('Area', '<f8')]\n"
     ]
    }
   ],
   "source": [
    "# Print information about the array\n",
    "print( city.shape )\n",
    "print( city.dtype )"
   ]
  },
  {
   "cell_type": "markdown",
   "metadata": {},
   "source": [
    "### 2.8.3 Indexing structured arrays\n",
    "\n",
    "The rows in a structured array can be accessed by standard array indexing. The columns of the array are indexed by using the column names that are specified when the array was created."
   ]
  },
  {
   "cell_type": "code",
   "execution_count": 32,
   "metadata": {
    "collapsed": false
   },
   "outputs": [
    {
     "name": "stdout",
     "output_type": "stream",
     "text": [
      "('Amsterdam', 'Netherland',  219.3)\n",
      "[('Amsterdam', 'Netherland',  219.3) ('Paris', 'France',  105.4)]\n",
      "[ 219.3  105.4  101.9]\n",
      "[('Amsterdam',  219.3) ('Paris',  105.4) ('Barcelona',  101.9)]\n"
     ]
    }
   ],
   "source": [
    "# Access first row\n",
    "print( city[0] )\n",
    "\n",
    "# Access first two rows\n",
    "print( city[0:2] )\n",
    "\n",
    "# Access column by name\n",
    "print( city['Area'] )\n",
    "\n",
    "# Access two columns using list of names\n",
    "print( city[['Name', 'Area']] )"
   ]
  },
  {
   "cell_type": "markdown",
   "metadata": {},
   "source": [
    "You can also access the column names using the `.dtype.names` property which can also be used to modify the names of the columns:"
   ]
  },
  {
   "cell_type": "code",
   "execution_count": 33,
   "metadata": {
    "collapsed": false
   },
   "outputs": [
    {
     "name": "stdout",
     "output_type": "stream",
     "text": [
      "('Name', 'Country', 'Area')\n",
      "[ 219.3  105.4  101.9]\n"
     ]
    }
   ],
   "source": [
    "print( city.dtype.names )\n",
    "\n",
    "city.dtype.names = ('name', 'country', 'area')\n",
    "print( city['area'] )"
   ]
  },
  {
   "cell_type": "markdown",
   "metadata": {},
   "source": [
    "## Exercise 2.8.3.1\n",
    "\n",
    "Uncomment and complete the following code to print years with the smallest number of hares, lynxes and carrots in the \n",
    "populations dataset."
   ]
  },
  {
   "cell_type": "code",
   "execution_count": 34,
   "metadata": {
    "collapsed": true
   },
   "outputs": [],
   "source": [
    "#for species in [....]:\n",
    "#    index = ...\n",
    "#    year = ...\n",
    "#    print(\"Least # of {} in year {}\".format(species, year))"
   ]
  },
  {
   "cell_type": "markdown",
   "metadata": {},
   "source": [
    "## Exercise 2.8.3.2\n",
    "Use the population data to\n",
    "\n",
    "1. Select all the years in which there are more than 50000 lynxes;\n",
    "2. Select all the years in which there are more lynxes than hares."
   ]
  },
  {
   "cell_type": "code",
   "execution_count": null,
   "metadata": {
    "collapsed": true
   },
   "outputs": [],
   "source": []
  },
  {
   "cell_type": "markdown",
   "metadata": {},
   "source": [
    "# Extras about arrays"
   ]
  },
  {
   "cell_type": "markdown",
   "metadata": {},
   "source": [
    "### For loops over arrays\n",
    "\n",
    "Most of the time you want to use arrays to avoid loops, but sometimes you want to use a loop. Iterating over a 1-dimensional Numpy array is the same as in base python:"
   ]
  },
  {
   "cell_type": "code",
   "execution_count": 37,
   "metadata": {
    "collapsed": false
   },
   "outputs": [
    {
     "name": "stdout",
     "output_type": "stream",
     "text": [
      "5\n",
      "6\n",
      "7\n",
      "8\n",
      "9\n",
      "Element 5 at index 0\n",
      "Element 6 at index 1\n",
      "Element 7 at index 2\n",
      "Element 8 at index 3\n",
      "Element 9 at index 4\n"
     ]
    }
   ],
   "source": [
    "a = numpy.arange(5, 10)\n",
    "\n",
    "for element in a:\n",
    "    print( element )\n",
    "    \n",
    "for index, element in enumerate(a):\n",
    "    print( \"Element {} at index {}\".format(element, index) )"
   ]
  },
  {
   "cell_type": "markdown",
   "metadata": {},
   "source": [
    "It is also possible to iterate across a multi-dimensional Numpy array. If only one loop is used, then it will iterate over the first dimension and process a Numpy array in each step of the loop."
   ]
  },
  {
   "cell_type": "code",
   "execution_count": 38,
   "metadata": {
    "collapsed": false
   },
   "outputs": [
    {
     "name": "stdout",
     "output_type": "stream",
     "text": [
      "[[[ 0  1  2  3]\n",
      "  [ 4  5  6  7]\n",
      "  [ 8  9 10 11]]\n",
      "\n",
      " [[12 13 14 15]\n",
      "  [16 17 18 19]\n",
      "  [20 21 22 23]]]\n",
      "Print separator\n",
      "[[ 0  1  2  3]\n",
      " [ 4  5  6  7]\n",
      " [ 8  9 10 11]]\n",
      "Print separator\n",
      "[[12 13 14 15]\n",
      " [16 17 18 19]\n",
      " [20 21 22 23]]\n"
     ]
    }
   ],
   "source": [
    "z = numpy.arange(24).reshape((2, 3, 4))\n",
    "print( z )\n",
    "\n",
    "# for loop over the first dimension:\n",
    "for firstdimension in z:\n",
    "    print( \"Print separator\" )\n",
    "    print( firstdimension )"
   ]
  },
  {
   "cell_type": "markdown",
   "metadata": {},
   "source": [
    "If two nested for loops are used, then the loops iterate over the first two dimensions. "
   ]
  },
  {
   "cell_type": "code",
   "execution_count": 39,
   "metadata": {
    "collapsed": false
   },
   "outputs": [
    {
     "name": "stdout",
     "output_type": "stream",
     "text": [
      "Print separator\n",
      "[0 1 2 3]\n",
      "Print separator\n",
      "[4 5 6 7]\n",
      "Print separator\n",
      "[ 8  9 10 11]\n",
      "Print separator\n",
      "[12 13 14 15]\n",
      "Print separator\n",
      "[16 17 18 19]\n",
      "Print separator\n",
      "[20 21 22 23]\n"
     ]
    }
   ],
   "source": [
    "for firstdimension in z:\n",
    "    for seconddimension in firstdimension:\n",
    "        print( \"Print separator\" )\n",
    "        print( seconddimension )"
   ]
  },
  {
   "cell_type": "markdown",
   "metadata": {},
   "source": [
    "The same process occurs for multi-dimensional arrays. For loops will iterate over Numpy arrays or elements, depending on the dimensionality.\n",
    "\n",
    "When you use a for loop over a 3 dimensional array with shape (2, 3, 4) then you will receive exactly 2 iterations and in each iteration a 3 by 4 array is used. \n",
    "When you use two nested for loops over a 3 dimensional array with shape (2, 3, 4) then you will receive exactly 2*3=6 iterations and in each iteration an array of length 4 is used. \n",
    "\n",
    "If you want to loop over all the elements in the array regardless of dimensionality, then you should use the flat method instead of nested loops:"
   ]
  },
  {
   "cell_type": "code",
   "execution_count": 40,
   "metadata": {
    "collapsed": false
   },
   "outputs": [
    {
     "name": "stdout",
     "output_type": "stream",
     "text": [
      "0\n",
      "1\n",
      "2\n",
      "3\n",
      "4\n",
      "5\n",
      "6\n",
      "7\n",
      "8\n",
      "9\n",
      "10\n",
      "11\n",
      "12\n",
      "13\n",
      "14\n",
      "15\n",
      "16\n",
      "17\n",
      "18\n",
      "19\n",
      "20\n",
      "21\n",
      "22\n",
      "23\n"
     ]
    }
   ],
   "source": [
    "for element in z.flat:\n",
    "    print( element )"
   ]
  }
 ],
 "metadata": {
  "kernelspec": {
   "display_name": "Python 3",
   "language": "python",
   "name": "python3"
  },
  "language_info": {
   "codemirror_mode": {
    "name": "ipython",
    "version": 3
   },
   "file_extension": ".py",
   "mimetype": "text/x-python",
   "name": "python",
   "nbconvert_exporter": "python",
   "pygments_lexer": "ipython3",
   "version": "3.6.0"
  },
  "name": "_merged"
 },
 "nbformat": 4,
 "nbformat_minor": 1
}
