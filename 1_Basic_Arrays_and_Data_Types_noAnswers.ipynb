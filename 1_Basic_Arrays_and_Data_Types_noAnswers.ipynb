{
 "cells": [
  {
   "cell_type": "markdown",
   "metadata": {},
   "source": [
    "# 1. Basic Arrays and Data Types"
   ]
  },
  {
   "cell_type": "code",
   "execution_count": 4,
   "metadata": {},
   "outputs": [],
   "source": [
    "import numpy"
   ]
  },
  {
   "cell_type": "markdown",
   "metadata": {},
   "source": [
    "## 1.1 What is an array?\n",
    "\n",
    "An array is an ordered and structured collection of elements. Arrays are structured around the number of dimensions they contain, as well as how many elements exist along each dimension. Today we will focus on arrays that are only one dimension.\n",
    "\n",
    "For example, we can have a one-dimensional array that contains six elements:\n",
    "\n",
    "  4 5 6 7 8 9\n"
   ]
  },
  {
   "cell_type": "markdown",
   "metadata": {},
   "source": [
    "### 1.1.1 Why numpy arrays and not just python lists or tuples?\n",
    "\n",
    "Numpy arrays are structured in memory very differently from python lists or tuples. The full array is stored within a single large block in the computer's memory, thus making it much quicker to do many operations. Especially when the number of elements in the array becomes large."
   ]
  },
  {
   "cell_type": "markdown",
   "metadata": {},
   "source": [
    "## 1.2 Creating an array\n",
    "\n",
    "Perhaps the most straightforward way to create a numpy array is by passing a python list or a tuple to the `numpy.array` function. "
   ]
  },
  {
   "cell_type": "code",
   "execution_count": 3,
   "metadata": {},
   "outputs": [
    {
     "name": "stdout",
     "output_type": "stream",
     "text": [
      "[1 3 5 7 9]\n",
      "[2 4 6 8]\n",
      "[11 12 13 14 15]\n"
     ]
    }
   ],
   "source": [
    "# create a numpy array from a python list:\n",
    "my_list = [1, 3, 5, 7, 9]\n",
    "print( numpy.array(my_list) )\n",
    "\n",
    "# or without pre-specifying the python list:\n",
    "print( numpy.array( [2, 4, 6, 8] ) )\n",
    "\n",
    "# numpy arrays can also be created based on python tuples:\n",
    "print( numpy.array( (11, 12, 13, 14, 15) ) )"
   ]
  },
  {
   "cell_type": "markdown",
   "metadata": {},
   "source": [
    "## 1.2.1 Creating arrays based on range\n",
    "\n",
    "Numpy has a function which is similar to the `range()` function which is `arange(a, b, s)`, where $a$ is the start point, $b$ is the end point and $s$ is the step size. The function can have integers or floats as inputs.\n",
    "\n",
    "Another function to create a range is the `linspace(a, b, i)` function, where $a$ is the start point, $b$ is the end point, and $i$ is the number of items.\n",
    "\n",
    "The advantage of the `linspace` function is that you can specify the number of items and the advantage of the `arange` function is that you can specify the step size."
   ]
  },
  {
   "cell_type": "code",
   "execution_count": 4,
   "metadata": {},
   "outputs": [
    {
     "name": "stdout",
     "output_type": "stream",
     "text": [
      "[  1.    3.1   5.2   7.3   9.4  11.5]\n",
      "[ 0.    0.25  0.5   0.75  1.    1.25  1.5   1.75  2.  ]\n"
     ]
    }
   ],
   "source": [
    "# fixed step size:\n",
    "x = numpy.arange(1, 11.9, 2.1)\n",
    "print( x )\n",
    "\n",
    "# fixed number of items:\n",
    "y = numpy.linspace(0, 2, 9)\n",
    "print( y )"
   ]
  },
  {
   "cell_type": "markdown",
   "metadata": {},
   "source": [
    "## 1.2.2 Creating arrays of random values\n",
    "\n",
    "If we want to create an array with random numbers we can use the `numpy.random.random` function, this function returns an array with numbers between 0 and 1.\n",
    "\n",
    "The expression `numpy.random.uniform(x, y, z)` returns an array with `z` random numbers uniformly drawn from the interval between `x` and `y`."
   ]
  },
  {
   "cell_type": "code",
   "execution_count": 5,
   "metadata": {},
   "outputs": [
    {
     "name": "stdout",
     "output_type": "stream",
     "text": [
      "[ 0.16631777  0.03131789  0.55566663  0.234745  ]\n",
      "[ 9.2635129   7.08976559  8.55498765  6.60740643  5.24548956]\n"
     ]
    }
   ],
   "source": [
    "# create array with random numbers between 0 and 1:\n",
    "print( numpy.random.random(4) )\n",
    "\n",
    "# create array with random numbers between 5 and 10:\n",
    "print( numpy.random.uniform(5, 10, 5) )"
   ]
  },
  {
   "cell_type": "markdown",
   "metadata": {},
   "source": [
    "## Exercise 1.1\n",
    "\n",
    "Create an array of length 15 with equally spaced values from 13 to 99.\n",
    "\n",
    "Create an array that ranges from 0 to 1 in steps of 0.015.\n",
    "\n",
    "Create an array of length 10,000,000 with random values between 0 and 100.\n"
   ]
  },
  {
   "cell_type": "code",
   "execution_count": null,
   "metadata": {},
   "outputs": [],
   "source": []
  },
  {
   "cell_type": "markdown",
   "metadata": {},
   "source": [
    "For more information about creating arrays: \n",
    "http://docs.scipy.org/doc/numpy/user/basics.creation.html"
   ]
  },
  {
   "cell_type": "markdown",
   "metadata": {},
   "source": [
    "## 1.2.3 Size and shape\n",
    "\n",
    "Often it is really useful to check the size and shape of an array when debugging your code. For an array `a` you can use the property `a.size` to show the total number of elements in the array and the propoerty `a.shape` to see the shape. These can differ when we consider arrays that contain more than one dimension (next week)."
   ]
  },
  {
   "cell_type": "code",
   "execution_count": 6,
   "metadata": {},
   "outputs": [
    {
     "name": "stdout",
     "output_type": "stream",
     "text": [
      "1000000 (1000000,)\n"
     ]
    }
   ],
   "source": [
    "a = numpy.random.uniform(1, 100, 1000000)\n",
    "\n",
    "print(a.size, a.shape)"
   ]
  },
  {
   "cell_type": "markdown",
   "metadata": {},
   "source": [
    "## 1.3 Arrays and data types"
   ]
  },
  {
   "cell_type": "markdown",
   "metadata": {},
   "source": [
    "### 1.3.1 Data types in Python\n",
    "\n",
    "Before discussing Numpy datatypes, first a small list of the data types in Python:\n",
    "\n",
    "##### Immutable types:\n",
    "- boolean (True, False)\n",
    "- int (integer)\n",
    "- float\n",
    "- complex \n",
    "- str (string)\n",
    "- byte\n",
    "- tuple ( )\n",
    "\n",
    "The type of these variables cannot be changed after they are created\n",
    "\n",
    "##### Mutable types:\n",
    "- list [ ]\n",
    "- set\n",
    "- dict { } (dictionary)\n",
    "\n",
    "The type of these variables can be changed after being created"
   ]
  },
  {
   "cell_type": "markdown",
   "metadata": {},
   "source": [
    "### 1.3.2 Data types in Numpy\n",
    "\n",
    "Numpy is based on **arrays**. You can think of an array as a list, or a table, where each cell of the table contains an item of the same **datatype**. The elements of an array must all be the same data type. \n",
    "\n",
    "The 5 basic data types of a numerical variable are:\n",
    "- float (float16, float32, or float64)\n",
    "- integer (int8, int16, int32, or int64)\n",
    "- unsigned integer: this number cannot be negative (uint8, uint16, uint32, or uint64)\n",
    "- boolean (bool)\n",
    "- complex (complex64 or complex128)\n",
    "- string (for example <U3 or <U64, where the number indicates the maximum length of the strings)\n",
    "\n",
    "The data type of the array `x` can be obtained with the `x.dtype` function. \n",
    "\n",
    "#### 1.3.2.1 Memory Details\n",
    "\n",
    "The numbers 8, 16, 32, 64, 128 in the name of datatypes are used to indicate the amount of memory storage.\n",
    "\n",
    "For example, the data type `int8` only uses 1 byte (8 bits) and therefore this variable can only store a number in the range of -128 to 127. The data type int16 uses 2 bytes and therefore this variable can store a number in the range of -32768 to 32767. \n",
    "\n",
    "For the unsigned integer, the number can never by negative and therefore the data type uint8 can have a value in the range of 0 to 255, where 255 = 2^8 - 1. \n",
    "\n",
    "### A few examples of different types:\n"
   ]
  },
  {
   "cell_type": "code",
   "execution_count": 7,
   "metadata": {},
   "outputs": [
    {
     "name": "stdout",
     "output_type": "stream",
     "text": [
      "[1 3 5 7 9] int64\n"
     ]
    }
   ],
   "source": [
    "# array with integers:\n",
    "x = numpy.array([1, 3, 5, 7, 9])\n",
    "print( x, x.dtype )"
   ]
  },
  {
   "cell_type": "code",
   "execution_count": 8,
   "metadata": {},
   "outputs": [
    {
     "name": "stdout",
     "output_type": "stream",
     "text": [
      "[ 2.2  4.4  6.6  8.8] float64\n"
     ]
    }
   ],
   "source": [
    "# array with floats:\n",
    "y = numpy.array([2.2, 4.4, 6.6, 8.8])\n",
    "print( y, y.dtype )"
   ]
  },
  {
   "cell_type": "code",
   "execution_count": 9,
   "metadata": {},
   "outputs": [
    {
     "name": "stdout",
     "output_type": "stream",
     "text": [
      "[ True False  True] bool\n"
     ]
    }
   ],
   "source": [
    "# array with booleans:\n",
    "z = numpy.array([True, False, True])\n",
    "print( z, z.dtype )"
   ]
  },
  {
   "cell_type": "code",
   "execution_count": 10,
   "metadata": {},
   "outputs": [
    {
     "name": "stdout",
     "output_type": "stream",
     "text": [
      "['a' 'b' 'cde'] <U3\n"
     ]
    }
   ],
   "source": [
    "# array with strings:\n",
    "x = numpy.array([\"a\", \"b\", \"cde\"])\n",
    "print( x, x.dtype )"
   ]
  },
  {
   "cell_type": "markdown",
   "metadata": {},
   "source": [
    "### 1.3.3 Specifying data types\n",
    "\n",
    "If you initialize an array with multiple data types, the elements are converted to the same type. \n",
    "\n",
    "You can specify the data type of the array when you create the array with the `array()` function using the `dtype` keyword argument. Note that not every combination is possible. For example, when your array contains text then you cannot choose float as data types, because the text cannot be converted to floats, except when the text is exactly representing a floating point number.\n"
   ]
  },
  {
   "cell_type": "code",
   "execution_count": 11,
   "metadata": {},
   "outputs": [
    {
     "name": "stdout",
     "output_type": "stream",
     "text": [
      "['1' '3.4' 'True' '(2.3+4.5j)' 'a'] <U64\n"
     ]
    }
   ],
   "source": [
    "# array with mixed data types:\n",
    "x = numpy.array([1, 3.4, True, 2.3+4.5j, \"a\"])\n",
    "print( x, x.dtype )"
   ]
  },
  {
   "cell_type": "code",
   "execution_count": 12,
   "metadata": {},
   "outputs": [
    {
     "name": "stdout",
     "output_type": "stream",
     "text": [
      "[ 9.  8.  7.  6.] float64\n"
     ]
    }
   ],
   "source": [
    "# explicitly specify the data type:\n",
    "y = numpy.array([9, 8, 7, 6], dtype='float')\n",
    "print( y, y.dtype )"
   ]
  },
  {
   "cell_type": "code",
   "execution_count": 13,
   "metadata": {},
   "outputs": [
    {
     "name": "stdout",
     "output_type": "stream",
     "text": [
      "[12  3 24] int64\n"
     ]
    }
   ],
   "source": [
    "# Try to convert strings to integers\n",
    "strings = [\"12\", \"3\", \"24\"]\n",
    "z = numpy.array(strings, dtype='int')\n",
    "print( z, z.dtype )"
   ]
  },
  {
   "cell_type": "code",
   "execution_count": 14,
   "metadata": {},
   "outputs": [
    {
     "ename": "ValueError",
     "evalue": "invalid literal for int() with base 10: 'one'",
     "output_type": "error",
     "traceback": [
      "\u001b[0;31m---------------------------------------------------------------------------\u001b[0m",
      "\u001b[0;31mValueError\u001b[0m                                Traceback (most recent call last)",
      "\u001b[0;32m<ipython-input-14-299ef5c71d29>\u001b[0m in \u001b[0;36m<module>\u001b[0;34m()\u001b[0m\n\u001b[1;32m      1\u001b[0m \u001b[0mnumerals\u001b[0m \u001b[0;34m=\u001b[0m \u001b[0;34m[\u001b[0m\u001b[0;34m\"one\"\u001b[0m\u001b[0;34m,\u001b[0m \u001b[0;34m\"two\"\u001b[0m\u001b[0;34m,\u001b[0m \u001b[0;34m\"three\"\u001b[0m\u001b[0;34m]\u001b[0m\u001b[0;34m\u001b[0m\u001b[0m\n\u001b[0;32m----> 2\u001b[0;31m \u001b[0ma\u001b[0m \u001b[0;34m=\u001b[0m \u001b[0mnumpy\u001b[0m\u001b[0;34m.\u001b[0m\u001b[0marray\u001b[0m\u001b[0;34m(\u001b[0m\u001b[0mnumerals\u001b[0m\u001b[0;34m,\u001b[0m \u001b[0mdtype\u001b[0m\u001b[0;34m=\u001b[0m\u001b[0;34m'int'\u001b[0m\u001b[0;34m)\u001b[0m\u001b[0;34m\u001b[0m\u001b[0m\n\u001b[0m\u001b[1;32m      3\u001b[0m \u001b[0mprint\u001b[0m \u001b[0;34m(\u001b[0m\u001b[0ma\u001b[0m\u001b[0;34m,\u001b[0m \u001b[0ma\u001b[0m\u001b[0;34m.\u001b[0m\u001b[0mdtype\u001b[0m\u001b[0;34m)\u001b[0m\u001b[0;34m\u001b[0m\u001b[0m\n",
      "\u001b[0;31mValueError\u001b[0m: invalid literal for int() with base 10: 'one'"
     ]
    }
   ],
   "source": [
    "numerals = [\"one\", \"two\", \"three\"]\n",
    "a = numpy.array(numerals, dtype='int')\n",
    "print( a, a.dtype )"
   ]
  },
  {
   "cell_type": "markdown",
   "metadata": {},
   "source": [
    "### 1.3.4 Converting to a different data type\n",
    "\n",
    "use the astype() function to convert an existing Numpy array to a different type."
   ]
  },
  {
   "cell_type": "code",
   "execution_count": 16,
   "metadata": {},
   "outputs": [
    {
     "name": "stdout",
     "output_type": "stream",
     "text": [
      "[1 3 5 7 9] int64\n",
      "[ 1.  3.  5.  7.  9.] float64\n"
     ]
    }
   ],
   "source": [
    "# convert an array with integers to the data type float:\n",
    "x = numpy.array([1, 3, 5, 7, 9])\n",
    "print( x, x.dtype )\n",
    "\n",
    "g = x.astype('float')\n",
    "print( g, g.dtype )"
   ]
  },
  {
   "cell_type": "code",
   "execution_count": 17,
   "metadata": {},
   "outputs": [
    {
     "name": "stdout",
     "output_type": "stream",
     "text": [
      "['1.4' '3.4' '5.4'] <U3\n",
      "[ 1.4  3.4  5.4] float64\n"
     ]
    }
   ],
   "source": [
    "# convert an array with strings to float:\n",
    "y = numpy.array([\"1.4\", \"3.4\", \"5.4\"])\n",
    "print( y, y.dtype )\n",
    "\n",
    "h = y.astype('float')\n",
    "print( h, h.dtype )"
   ]
  },
  {
   "cell_type": "markdown",
   "metadata": {},
   "source": [
    "Sometimes, the data types are converted but the content is slightly changed. \n",
    "For example, when converting from float to integer, then the numbers are rounded down (floor). \n",
    "For example, when converting an array with only zeros and ones to the data type Boolean than the 0 is converted to False and the 1 is converted to True. "
   ]
  },
  {
   "cell_type": "code",
   "execution_count": 18,
   "metadata": {},
   "outputs": [
    {
     "name": "stdout",
     "output_type": "stream",
     "text": [
      "[ 2.2  3.2  2.8] float64\n",
      "[2 3 2] int64\n"
     ]
    }
   ],
   "source": [
    "# from float to integer\n",
    "x = numpy.array([2.2, 3.2, 2.8])\n",
    "print( x, x.dtype )\n",
    "\n",
    "a = x.astype('int')\n",
    "print( a, a.dtype )"
   ]
  },
  {
   "cell_type": "code",
   "execution_count": 19,
   "metadata": {},
   "outputs": [
    {
     "name": "stdout",
     "output_type": "stream",
     "text": [
      "[0 1 1 0] int64\n",
      "[False  True  True False] bool\n"
     ]
    }
   ],
   "source": [
    "# from 0-1 to boolean\n",
    "x = numpy.array([0, 1, 1, 0])\n",
    "print(x, x.dtype)\n",
    "a = x.astype('bool')\n",
    "print(a, a.dtype)"
   ]
  },
  {
   "cell_type": "markdown",
   "metadata": {},
   "source": [
    "Not every data type can be converted to all other data types. Some examples:\n"
   ]
  },
  {
   "cell_type": "code",
   "execution_count": 20,
   "metadata": {},
   "outputs": [
    {
     "ename": "ValueError",
     "evalue": "invalid literal for int() with base 10: 'true'",
     "output_type": "error",
     "traceback": [
      "\u001b[0;31m---------------------------------------------------------------------------\u001b[0m",
      "\u001b[0;31mValueError\u001b[0m                                Traceback (most recent call last)",
      "\u001b[0;32m<ipython-input-20-dc0c08956249>\u001b[0m in \u001b[0;36m<module>\u001b[0;34m()\u001b[0m\n\u001b[1;32m      1\u001b[0m \u001b[0;31m# from string to boolean\u001b[0m\u001b[0;34m\u001b[0m\u001b[0;34m\u001b[0m\u001b[0m\n\u001b[1;32m      2\u001b[0m \u001b[0mx\u001b[0m \u001b[0;34m=\u001b[0m \u001b[0mnumpy\u001b[0m\u001b[0;34m.\u001b[0m\u001b[0marray\u001b[0m\u001b[0;34m(\u001b[0m\u001b[0;34m[\u001b[0m\u001b[0;34m\"true\"\u001b[0m\u001b[0;34m,\u001b[0m \u001b[0;34m\"false\"\u001b[0m\u001b[0;34m]\u001b[0m\u001b[0;34m)\u001b[0m\u001b[0;34m\u001b[0m\u001b[0m\n\u001b[0;32m----> 3\u001b[0;31m \u001b[0ma\u001b[0m \u001b[0;34m=\u001b[0m \u001b[0mx\u001b[0m\u001b[0;34m.\u001b[0m\u001b[0mastype\u001b[0m\u001b[0;34m(\u001b[0m\u001b[0;34m'bool'\u001b[0m\u001b[0;34m)\u001b[0m\u001b[0;34m\u001b[0m\u001b[0m\n\u001b[0m\u001b[1;32m      4\u001b[0m \u001b[0mprint\u001b[0m\u001b[0;34m(\u001b[0m \u001b[0ma\u001b[0m\u001b[0;34m,\u001b[0m \u001b[0ma\u001b[0m\u001b[0;34m.\u001b[0m\u001b[0mdtype\u001b[0m \u001b[0;34m)\u001b[0m\u001b[0;34m\u001b[0m\u001b[0m\n",
      "\u001b[0;31mValueError\u001b[0m: invalid literal for int() with base 10: 'true'"
     ]
    }
   ],
   "source": [
    "# from string to boolean\n",
    "x = numpy.array([\"true\", \"false\"])\n",
    "a = x.astype('bool')\n",
    "print( a, a.dtype )"
   ]
  },
  {
   "cell_type": "code",
   "execution_count": 21,
   "metadata": {
    "scrolled": true
   },
   "outputs": [
    {
     "ename": "ValueError",
     "evalue": "invalid literal for int() with base 10: 'a'",
     "output_type": "error",
     "traceback": [
      "\u001b[0;31m---------------------------------------------------------------------------\u001b[0m",
      "\u001b[0;31mValueError\u001b[0m                                Traceback (most recent call last)",
      "\u001b[0;32m<ipython-input-21-f00e364380ea>\u001b[0m in \u001b[0;36m<module>\u001b[0;34m()\u001b[0m\n\u001b[1;32m      2\u001b[0m \u001b[0mx\u001b[0m \u001b[0;34m=\u001b[0m \u001b[0mnumpy\u001b[0m\u001b[0;34m.\u001b[0m\u001b[0marray\u001b[0m\u001b[0;34m(\u001b[0m\u001b[0;34m[\u001b[0m\u001b[0;34m\"a\"\u001b[0m\u001b[0;34m,\u001b[0m \u001b[0;34m\"b\"\u001b[0m\u001b[0;34m,\u001b[0m \u001b[0;34m\"c\"\u001b[0m\u001b[0;34m]\u001b[0m\u001b[0;34m)\u001b[0m\u001b[0;34m\u001b[0m\u001b[0m\n\u001b[1;32m      3\u001b[0m \u001b[0;31m#x = numpy.array([\"1\", \"2\"])\u001b[0m\u001b[0;34m\u001b[0m\u001b[0;34m\u001b[0m\u001b[0m\n\u001b[0;32m----> 4\u001b[0;31m \u001b[0ma\u001b[0m \u001b[0;34m=\u001b[0m \u001b[0mx\u001b[0m\u001b[0;34m.\u001b[0m\u001b[0mastype\u001b[0m\u001b[0;34m(\u001b[0m\u001b[0;34m'bool'\u001b[0m\u001b[0;34m)\u001b[0m\u001b[0;34m\u001b[0m\u001b[0m\n\u001b[0m\u001b[1;32m      5\u001b[0m \u001b[0mprint\u001b[0m\u001b[0;34m(\u001b[0m \u001b[0ma\u001b[0m\u001b[0;34m,\u001b[0m \u001b[0ma\u001b[0m\u001b[0;34m.\u001b[0m\u001b[0mdtype\u001b[0m \u001b[0;34m)\u001b[0m\u001b[0;34m\u001b[0m\u001b[0m\n",
      "\u001b[0;31mValueError\u001b[0m: invalid literal for int() with base 10: 'a'"
     ]
    }
   ],
   "source": [
    "# from non-numeric strings to integer\n",
    "x = numpy.array([\"a\", \"b\", \"c\"])\n",
    "#x = numpy.array([\"1\", \"2\"])\n",
    "a = x.astype('bool')\n",
    "print( a, a.dtype )"
   ]
  },
  {
   "cell_type": "markdown",
   "metadata": {},
   "source": [
    "## Exercise 1.2\n",
    "\n",
    "Part A) Create an array named `a` of length 5 containing random values between 1 and 10. Determine the type of `a`. Convert `a` to an array of type `<U8`, which is a string that uses 8 bytes, and then convert it back to an array of float values. Describe what happens to the values.\n",
    "\n",
    "Part B) Convert the resulting array from of Part A into an array of integers. Then convert it back to float values. Describe what happens to the values."
   ]
  },
  {
   "cell_type": "code",
   "execution_count": null,
   "metadata": {},
   "outputs": [],
   "source": []
  },
  {
   "cell_type": "markdown",
   "metadata": {},
   "source": [
    "## 1.4 Indexing arrays\n",
    "\n",
    "Indexing, as you might remember from Data Processing or Intro to R, involves selecting a subset of an array. There are many ways to address content in an array and we will discuss 3 here (for more complete information about indexing see\n",
    "http://docs.scipy.org/doc/numpy/user/basics.indexing.html) and more next week:"
   ]
  },
  {
   "cell_type": "markdown",
   "metadata": {},
   "source": [
    "### 1.4.1 Linear indexing\n",
    "\n",
    "Indexing in a 1-dimensional array is the same as the indexing in a Python list (we will revisit this next week when we discuss multi-dimensional arrays).\n",
    "\n",
    "When accessing more than one element from an array, the slicing `\":\"` can be used, and this works similar as it works with python lists.\n",
    "If the index is `[a:b]` then indices that are used are `a` up to but not including `b`. \n"
   ]
  },
  {
   "cell_type": "code",
   "execution_count": 23,
   "metadata": {},
   "outputs": [
    {
     "name": "stdout",
     "output_type": "stream",
     "text": [
      "[0 1 2 3 4 5 6 7 8 9]\n",
      "[0 1 2 3 4 5 6 7 8 9]\n",
      "[3 4 5]\n",
      "[0 1 2 3]\n"
     ]
    }
   ],
   "source": [
    "a = numpy.arange(10)\n",
    "\n",
    "print( a )\n",
    "print( a[:] )\n",
    "print( a[3:6] )\n",
    "print( a[:4] )"
   ]
  },
  {
   "cell_type": "markdown",
   "metadata": {},
   "source": [
    "Some functions return linear indexes. Two examples are the `argmin` and `argmax` functions:"
   ]
  },
  {
   "cell_type": "code",
   "execution_count": 24,
   "metadata": {},
   "outputs": [
    {
     "name": "stdout",
     "output_type": "stream",
     "text": [
      "[ 0.35455843  0.28424377  0.19526181 -0.08488424 -0.05738835  0.10225253\n",
      "  0.11434307  0.41496516 -0.23599021  0.18925508 -0.2678831  -0.43501644]\n",
      "7\n",
      "0.414965162489\n"
     ]
    }
   ],
   "source": [
    "a = numpy.random.uniform(-0.5, .5, 12)\n",
    "print( a )\n",
    "\n",
    "# Print the index of the maximum value\n",
    "max_value = numpy.argmax(a)\n",
    "print( max_value )\n",
    "\n",
    "print( a[max_value] )"
   ]
  },
  {
   "cell_type": "markdown",
   "metadata": {},
   "source": [
    "## Exercise 1.3\n",
    "\n",
    "Build an array of 10,000,000 random values between 0 and 1. Print the minimum value of the array as well as the five values that occur before the minimum."
   ]
  },
  {
   "cell_type": "code",
   "execution_count": null,
   "metadata": {},
   "outputs": [],
   "source": []
  },
  {
   "cell_type": "markdown",
   "metadata": {},
   "source": [
    "### 1.4.2 Boolean indexing\n",
    "\n",
    "Return all values in the array for which the index is True."
   ]
  },
  {
   "cell_type": "code",
   "execution_count": 26,
   "metadata": {},
   "outputs": [
    {
     "name": "stdout",
     "output_type": "stream",
     "text": [
      "[False False  True  True  True  True  True  True False  True False  True\n",
      "  True False False  True  True  True False  True  True False  True False\n",
      "  True]\n",
      "[ 0.16883431  0.38054613  0.11656546  0.26608041  0.22479248  0.00765304\n",
      "  0.43948191  0.15957886  0.12361741  0.45781249  0.3733486   0.33505375\n",
      "  0.42694833  0.35379198  0.03713069  0.41881297]\n"
     ]
    }
   ],
   "source": [
    "a = numpy.random.uniform(-0.5, .5, 25)\n",
    "\n",
    "# Create a boolean index for positive numbers in array a\n",
    "index = a > 0.0\n",
    "print( index )\n",
    "\n",
    "# Print all the positive numbers\n",
    "print( a[index] )"
   ]
  },
  {
   "cell_type": "markdown",
   "metadata": {},
   "source": [
    "### 1.4.3 Indexing with an array of indices\n",
    "\n",
    "Specify a separate array in which you store the indices as integers and you will return exactly the elements of the array with these indices. "
   ]
  },
  {
   "cell_type": "code",
   "execution_count": 27,
   "metadata": {},
   "outputs": [
    {
     "name": "stdout",
     "output_type": "stream",
     "text": [
      "[ 0.          0.11111111  0.22222222  0.33333333  0.44444444  0.55555556\n",
      "  0.66666667  0.77777778  0.88888889  1.        ]\n",
      "[ 0.22222222  0.33333333  0.55555556  0.77777778]\n"
     ]
    }
   ],
   "source": [
    "b = numpy.linspace(0, 1, 10)\n",
    "print( b )\n",
    "\n",
    "# Print numbers at prime indices\n",
    "index = numpy.array([ 2, 3, 5, 7])\n",
    "print( b[index] )"
   ]
  },
  {
   "cell_type": "markdown",
   "metadata": {},
   "source": [
    "## Exercise 1.4\n",
    "\n",
    "Draw 1,000,000 samples from a normal distribution with a mean of 1 and a standard deviation of 0.5. Compute the proportion of samples that are below 0.\n"
   ]
  },
  {
   "cell_type": "code",
   "execution_count": null,
   "metadata": {},
   "outputs": [],
   "source": []
  },
  {
   "cell_type": "markdown",
   "metadata": {},
   "source": [
    "## Exercise 1.5\n",
    "\n",
    "Build an array with 10,000 random values between 0 and 1. Determine the value of the entry that is the largest value of all entries whose index is divisable by 5.\n"
   ]
  },
  {
   "cell_type": "code",
   "execution_count": null,
   "metadata": {},
   "outputs": [],
   "source": []
  }
 ],
 "metadata": {
  "kernelspec": {
   "display_name": "Python 3",
   "language": "python",
   "name": "python3"
  },
  "language_info": {
   "codemirror_mode": {
    "name": "ipython",
    "version": 3
   },
   "file_extension": ".py",
   "mimetype": "text/x-python",
   "name": "python",
   "nbconvert_exporter": "python",
   "pygments_lexer": "ipython3",
   "version": "3.5.3"
  },
  "name": "_merged"
 },
 "nbformat": 4,
 "nbformat_minor": 1
}
