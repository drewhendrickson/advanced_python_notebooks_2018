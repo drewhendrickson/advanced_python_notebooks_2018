{
 "cells": [
  {
   "cell_type": "code",
   "execution_count": 1,
   "metadata": {},
   "outputs": [],
   "source": [
    "import numpy\n",
    "from scipy.linalg import inv"
   ]
  },
  {
   "cell_type": "markdown",
   "metadata": {},
   "source": [
    "# 3c Building Linear Regression \n",
    "\n",
    "In the following steps you'll implement linear regression using linear algebra operations. \n",
    "\n",
    "I think a fair question is why would you want to do this? There are tons of packages that compute linear regression weights.\n",
    "\n",
    "Well, first, linear regression is a critical model in data science and it is often THE baseline all other predictive models are compared against. And really understanding it at the level where the values are calculated is something that reading about it can never give you.\n",
    "\n",
    "Second, building a foundational predictive model from basic linear algebra tools is fantastic practice if you want to implement a variant of regression (or any other model) based on a mathematical description."
   ]
  },
  {
   "cell_type": "markdown",
   "metadata": {},
   "source": [
    "## 3c.1 Defining the structure\n",
    "\n",
    "Linear regression, at it's core, is about finding the best set of weights $\\beta$, that when multipled by a vector of predictor values $x$, produces a prediction $\\hat{y}$ that are very close to the true value $y$."
   ]
  },
  {
   "cell_type": "markdown",
   "metadata": {},
   "source": [
    "Generally, this is written like this:\n",
    "\n",
    "$$\n",
    "\\hat{y} = \\beta_0 + x\\beta\n",
    "$$\n",
    "\n",
    "This formulation can be simplified (or made more matrix friendly) by adding an additional element to $x$ with the value of 1. Thus, the intercept $\\beta_0$ is no longer a separate value, but becomes an additional entry in the vector $\\beta$:\n",
    "\n",
    "$$\n",
    "\\hat{y} = x\\beta\n",
    "$$"
   ]
  },
  {
   "cell_type": "markdown",
   "metadata": {},
   "source": [
    "Now that we have created this representation for regression, note that this is merely matrix multiplication.\n",
    "\n",
    "Let's go a step further. Instead of thinking of $x$ as a vector with $M+1$ predictors (including the extra 1 for $\\beta_0$, let's consider $X$ which is an $N \\times (M+1)$ matrix containing the $M+1$ predictors for all $N$ data points.\n",
    "\n",
    "This matrix notation changes $\\hat{y}$ from a single value to a vector of predicted values with $N$ values. $\\beta$ remains a vector of $M+1$ weights.\n",
    "\n",
    "Now we have:\n",
    "\n",
    "$$\n",
    "\\hat{y} = X\\beta\n",
    "$$"
   ]
  },
  {
   "cell_type": "markdown",
   "metadata": {},
   "source": [
    "## 3c.2 Calculating $\\hat{y}$ by finding the best fitting $\\beta$ values\n",
    "\n",
    "In order to calculate $\\hat{y}$ the vector $\\beta$ must be calculated based on the matrix of predictor variables $X$, the outcome values $y$, and the measure of error.\n",
    "\n",
    "Error in Ordinary Least Squares Regression is calculated as the sum of squared error:\n",
    "\n",
    "$$\n",
    "SSE = (y - \\hat{y})^2\n",
    "$$"
   ]
  },
  {
   "cell_type": "markdown",
   "metadata": {},
   "source": [
    "Therefore, the best fitting model occurs when SSE is minimized, and if you plug the equation for $\\hat{y}$ into the equation for SSE and find the minimum of that value:\n",
    "\n",
    "$$\n",
    "argmin(SSE) = argmin((y - X\\beta)^2)\n",
    "$$\n",
    "\n",
    "with some algebreic transformations it turns out we can derive this equation for the $\\beta$ values that will minimize SSE:\n",
    "\n",
    "$$\n",
    "\\beta = (X^TX)^{-1}X^Ty\n",
    "$$\n"
   ]
  },
  {
   "cell_type": "markdown",
   "metadata": {},
   "source": [
    "## 3c.3 Working through an example of finding optimal $\\beta$ values\n",
    "\n",
    "Let's work through an example of finding the best fitting $\\beta$ values given a set of predictors $X$ and outcome variables $y$.\n",
    "\n",
    "We will work with the winequality dataset. It has 12 columns of numeric values, and our goal will be to predict the final column (quality) based on the first 11."
   ]
  },
  {
   "cell_type": "code",
   "execution_count": 2,
   "metadata": {},
   "outputs": [
    {
     "name": "stdout",
     "output_type": "stream",
     "text": [
      "[('fixed_acidity', '<f8'), ('volatile_acidity', '<f8'), ('citric_acid', '<f8'), ('residual_sugar', '<f8'), ('chlorides', '<f8'), ('free_sulfur_dioxide', '<f8'), ('total_sulfur_dioxide', '<f8'), ('density', '<f8'), ('pH', '<f8'), ('sulphates', '<f8'), ('alcohol', '<f8'), ('quality', '<f8')]\n",
      "(1599,)\n"
     ]
    }
   ],
   "source": [
    "# Load winequality as a structured array\n",
    "# the linear regression analysis will predict the final column (quality) based on the other 11 column values\n",
    "data = numpy.genfromtxt(\"winequality-red.csv\", names=True, delimiter=';')\n",
    "print(data.dtype)\n",
    "print(data.shape)"
   ]
  },
  {
   "cell_type": "code",
   "execution_count": 3,
   "metadata": {},
   "outputs": [
    {
     "name": "stdout",
     "output_type": "stream",
     "text": [
      "(1599, 12)\n"
     ]
    }
   ],
   "source": [
    "# Convert the array into a matrix\n",
    "Xy = data.view((data.dtype[0], len(data.dtype.names)))\n",
    "print(Xy.shape)"
   ]
  },
  {
   "cell_type": "code",
   "execution_count": 4,
   "metadata": {},
   "outputs": [],
   "source": [
    "# Extract y from Xy\n",
    "# use the copy() function to create a new variable in memory\n",
    "y = Xy[:,-1:].copy()\n",
    "\n",
    "# Extract X from Xy\n",
    "# and change the values in the final column to 1 for the intercept\n",
    "X = Xy\n",
    "X[:,-1:] = 1"
   ]
  },
  {
   "cell_type": "code",
   "execution_count": 5,
   "metadata": {},
   "outputs": [
    {
     "name": "stdout",
     "output_type": "stream",
     "text": [
      "(1599, 12)\n",
      "(1599, 1)\n"
     ]
    }
   ],
   "source": [
    "# verify shape\n",
    "print(X.shape)\n",
    "print(y.shape)"
   ]
  },
  {
   "cell_type": "code",
   "execution_count": 6,
   "metadata": {},
   "outputs": [
    {
     "name": "stdout",
     "output_type": "stream",
     "text": [
      "[[  7.40000000e+00   7.00000000e-01   0.00000000e+00   1.90000000e+00\n",
      "    7.60000000e-02   1.10000000e+01   3.40000000e+01   9.97800000e-01\n",
      "    3.51000000e+00   5.60000000e-01   9.40000000e+00   1.00000000e+00]\n",
      " [  7.80000000e+00   8.80000000e-01   0.00000000e+00   2.60000000e+00\n",
      "    9.80000000e-02   2.50000000e+01   6.70000000e+01   9.96800000e-01\n",
      "    3.20000000e+00   6.80000000e-01   9.80000000e+00   1.00000000e+00]\n",
      " [  7.80000000e+00   7.60000000e-01   4.00000000e-02   2.30000000e+00\n",
      "    9.20000000e-02   1.50000000e+01   5.40000000e+01   9.97000000e-01\n",
      "    3.26000000e+00   6.50000000e-01   9.80000000e+00   1.00000000e+00]\n",
      " [  1.12000000e+01   2.80000000e-01   5.60000000e-01   1.90000000e+00\n",
      "    7.50000000e-02   1.70000000e+01   6.00000000e+01   9.98000000e-01\n",
      "    3.16000000e+00   5.80000000e-01   9.80000000e+00   1.00000000e+00]]\n",
      "[[ 5.]\n",
      " [ 5.]\n",
      " [ 5.]\n",
      " [ 6.]]\n"
     ]
    }
   ],
   "source": [
    "# check values\n",
    "print(X[:4,])\n",
    "print(y[:4])"
   ]
  },
  {
   "cell_type": "markdown",
   "metadata": {},
   "source": [
    "## Exercise 3c.3.1\n",
    "\n",
    "Implement function `fit` which takes a matrix of predictors and a vector of targets, and returns the vector of regression coefficients computed according to the OLS formula.\n",
    "Apply this function to the winequality data."
   ]
  },
  {
   "cell_type": "code",
   "execution_count": 7,
   "metadata": {},
   "outputs": [],
   "source": [
    "def fit(X, y):\n",
    "    return ..."
   ]
  },
  {
   "cell_type": "markdown",
   "metadata": {},
   "source": [
    "## Exercise 3c.3.2\n",
    "\n",
    "Implement function `predict` which takes a vector of coefficients $\\beta$ and a matrix of predictors values $X$, and returns the predicted values $\\hat{y}$ according to the regression formula. Apply this function to the coefficients from the previous exercise."
   ]
  },
  {
   "cell_type": "code",
   "execution_count": 8,
   "metadata": {},
   "outputs": [],
   "source": [
    "def predict(beta, X):\n",
    "    return ..."
   ]
  },
  {
   "cell_type": "markdown",
   "metadata": {},
   "source": [
    "## Exercise 3c.3.3\n",
    "\n",
    "Define the following two functions to quantify how well the regression is able to predict the targets:\n",
    "- `mse` - mean squared error, defined as the mean of the squared difference between each prediction and true target: $$MSE(y, \\hat{y}) = \\frac{1}{N}\\sum_{i=1}^N (y_i-\\hat{y}_i)^2$$\n",
    "- `mae` - mean absolute error, defined as the mean of the absolute difference between each prediction and true target: $$MAE(y, \\hat{y}) = \\frac{1}{N}\\sum_{i=1}^N abs(y_i-\\hat{y}_i)$$\n",
    "\n",
    "Check how well your regression functions predict the targets in winequality according to these error measures."
   ]
  },
  {
   "cell_type": "code",
   "execution_count": 9,
   "metadata": {},
   "outputs": [],
   "source": [
    "def mse(y, y_hat):\n",
    "    return ..."
   ]
  },
  {
   "cell_type": "code",
   "execution_count": 10,
   "metadata": {},
   "outputs": [],
   "source": [
    "def mae(y, y_hat):\n",
    "    return ..."
   ]
  },
  {
   "cell_type": "code",
   "execution_count": null,
   "metadata": {},
   "outputs": [],
   "source": []
  },
  {
   "cell_type": "markdown",
   "metadata": {},
   "source": [
    "## Exercise 3c.3.4\n",
    "\n",
    "Load the iris data and extract the first three columns into a predictor matrix, and the fourth column into a target vector. Apply the functions `fit` and `predict` to this data, and check the MSE and MAE of your predictions."
   ]
  },
  {
   "cell_type": "code",
   "execution_count": null,
   "metadata": {},
   "outputs": [],
   "source": []
  }
 ],
 "metadata": {
  "kernelspec": {
   "display_name": "Python 3",
   "language": "python",
   "name": "python3"
  },
  "language_info": {
   "codemirror_mode": {
    "name": "ipython",
    "version": 3
   },
   "file_extension": ".py",
   "mimetype": "text/x-python",
   "name": "python",
   "nbconvert_exporter": "python",
   "pygments_lexer": "ipython3",
   "version": "3.5.3"
  },
  "name": "_merged"
 },
 "nbformat": 4,
 "nbformat_minor": 1
}
