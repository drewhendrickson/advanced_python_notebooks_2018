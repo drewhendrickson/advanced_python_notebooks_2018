{
 "cells": [
  {
   "cell_type": "markdown",
   "metadata": {},
   "source": [
    "# 3b Linear algebra"
   ]
  },
  {
   "cell_type": "markdown",
   "metadata": {},
   "source": [
    "## 3b.1 Basic operations\n",
    "\n",
    "Linear algebra is a branch of mathematics dealing with vector spaces. Linear algebra operations are very useful when manipulating numeric datasets. Using these operations often allows us to avoid writing explicit loops, and thus make our code more readable, more concise, and faster to execute. Linear algebra is deeply connected to vectorization but has specific mathematical properties. Many machine learning algorithms and methods are specified to be effieciently performed using linear algebra, and we will introduce a few in the following sections.\n",
    "\n",
    "## Exercise 3b.1"
   ]
  },
  {
   "cell_type": "code",
   "execution_count": 2,
   "metadata": {},
   "outputs": [],
   "source": [
    "import numpy"
   ]
  },
  {
   "cell_type": "markdown",
   "metadata": {},
   "source": [
    "## 3b.2 Vector Multiplication (using dot product)\n",
    "\n",
    "The dot product between two vectors returns a scalar value that is the sum of multiplying each element of the two vectors together. The dot product is often used for calculating physical relationships (like the amount of work done or the power exerted) or when computing the similarity between vectors (see lecture 4 on distance measures)."
   ]
  },
  {
   "cell_type": "markdown",
   "metadata": {},
   "source": [
    "In numpy the dot product (or scalar product) between two vectors (one-dimensional arrays) is treated as\n",
    "a special case of multi-dimensional array multiplication. \n",
    "\n",
    "The definition of the dot product between two vectors $a$ and $b$ is:\n",
    "\n",
    "$$\\langle a, b\\rangle = \\sum_{i=1}^N ab$$\n",
    "\n",
    "Other notations that you will come across for this operation are:\n",
    "\n",
    "$a \\cdot b$\n",
    "\n",
    "$a^T b$"
   ]
  },
  {
   "cell_type": "markdown",
   "metadata": {},
   "source": [
    "In order to compute the dot product between two vectors a and b, we use:\n",
    "\n",
    "```python\n",
    "numpy.dot(a, b)\n",
    "```\n",
    "or\n",
    "```python\n",
    "a.dot(b)\n",
    "```"
   ]
  },
  {
   "cell_type": "markdown",
   "metadata": {},
   "source": [
    "## Exercise 3b.2\n",
    "\n",
    "Create two vectors of length 100 consisting of random values between -10 and 10. Compute:\n",
    "- elementwise product between them\n",
    "- dot product between them\n"
   ]
  },
  {
   "cell_type": "code",
   "execution_count": null,
   "metadata": {
    "collapsed": true
   },
   "outputs": [],
   "source": []
  },
  {
   "cell_type": "markdown",
   "metadata": {},
   "source": [
    "## 3b.3 Matrix multiplication (using dot product)\n",
    "\n",
    "Matrix multiplication does not produce a single scalar. Instead, it produces a full matrix of values calculated using the same dot product formula from above. Each column in the first matrix is paired with a row in the second matrix and the dot product between those two vectors is a value in the resulting matrix. \n",
    "Because of this, the number of columns in the first matrix needs to be equal to the number of rows in the second matrix. For matrices $A_{m\\times n}$ and $B_{n \\times p}$, the resulting matrix will be $C_{m \\times p}$. The value of each entry in the resulting matrix $C$ is the result of computing the dot product between a row from $A$ and a column from $B$:\n",
    "\n",
    "![](https://upload.wikimedia.org/wikipedia/commons/thumb/e/eb/Matrix_multiplication_diagram_2.svg/470px-Matrix_multiplication_diagram_2.svg.png)"
   ]
  },
  {
   "cell_type": "markdown",
   "metadata": {},
   "source": [
    "The equation for calculating each cell is the same as the vector dot product formula:\n",
    "\n",
    "$$\n",
    "C_{i,j} = \\sum_{k=1}^n A_{i,k}B_{k,j}\n",
    "$$"
   ]
  },
  {
   "cell_type": "markdown",
   "metadata": {},
   "source": [
    "In order to compute the dot product between two matricies a and b, we use:\n",
    "\n",
    "```python\n",
    "numpy.dot(A, B)\n",
    "```\n",
    "or\n",
    "\n",
    "```python\n",
    "A.dot(B)\n",
    "```"
   ]
  },
  {
   "cell_type": "markdown",
   "metadata": {},
   "source": [
    "## Exercise 3b.3\n",
    "\n",
    "- Create a random matrix $A_{3\\times 4}$ and another random matrix $B_{4 \\times 2}$. Multiply AB.  \n",
    "- Create a random matrix $C_{3\\times 3}$ and $D_{3\\times3}$. Multiply CD. Multiply DC. Is matrix multiplication commutative?\n",
    "- Create a identity matrix $I_{3\\times 3}$.  Multiply IC, CI, DI, ID. What do you notice?\n",
    "- What will be the result of multiplying a matrix $Z_{m\\times n}$ by a matrix $O_{n \\times p}$ whose all entries are zero? Check your answer using some examples.\n"
   ]
  },
  {
   "cell_type": "code",
   "execution_count": null,
   "metadata": {
    "collapsed": true
   },
   "outputs": [],
   "source": []
  },
  {
   "cell_type": "markdown",
   "metadata": {},
   "source": [
    "## 3b.4 Transpose\n",
    "\n",
    "We have already encountered matrix transpose when we discussed reshaping numpy arrays. Transposing a matrix simply means making the rows into columns and columns into rows. This is often required to align a matrix properly for matrix multiplication.\n",
    "\n",
    "The mathematical notation for the transpose of matrix $A$ is $A^T$. If $A$ is $m \\times n$ then $A^T$ is $n \\times m$. The values are:\n",
    "\n",
    "$$A^T_{i,j} = A_{j,i}$$\n",
    "\n",
    "The function to compute the transpose of matrix A is either `numpy.transpose(A)` or simply `A.T`."
   ]
  },
  {
   "cell_type": "markdown",
   "metadata": {},
   "source": [
    "## 3b.5 Inverse\n",
    "\n",
    "When using scalar values, dividing by a number $n$ is straightforward: it mearly requires multiplying by $\\frac{1}{n}$. This value is the multiplicative inverse (aka reciprocal) $n$ is $\\frac{1}{n}$ and can also written as $n^{-1}$. \n",
    "\n",
    "The inverse has certain properties, including:\n",
    "- $n^{-1}n = 1$\n",
    "- $(n^{-1})^{-1} = n$"
   ]
  },
  {
   "cell_type": "markdown",
   "metadata": {},
   "source": [
    "For matricies, there is an analogous concept. The inverse of a matrix $A$ is written $A^{-1}$ and it satisfies three critical properties:\n",
    "\n",
    "- $A^{-1}A = I$ where $I$ is the $m \\times m$ identity matrix\n",
    "- $(A^{-1})^{-1} = A$\n",
    "- $(A^T)^{-1} = (A^{-1})^T$\n",
    "\n",
    "Not all matrices are invertible: a matrix needs to be square (that is, the number of rows must equal the number of columns), and its [determinant](https://en.wikipedia.org/wiki/Determinant) needs to be non-zero. "
   ]
  },
  {
   "cell_type": "markdown",
   "metadata": {},
   "source": [
    "Computing the inverse of a matrix is critical for many data science techniques, including computing the best fitting parameter weights for ordinary least squares linear regression (an example we will look at next). \n",
    "\n",
    "Surprisingly, numpy does have an inverse function. Instead, we will use the function `inv` from the `linalg` submodule of the `scipy` package.\n"
   ]
  },
  {
   "cell_type": "code",
   "execution_count": 3,
   "metadata": {},
   "outputs": [
    {
     "name": "stdout",
     "output_type": "stream",
     "text": [
      "[[ 0.67157492  0.59570437  0.05014716]\n",
      " [ 0.19629943  0.23241896  0.43308784]\n",
      " [ 0.20548254  0.88270923  0.25071074]]\n",
      "[[ 1.72705903  0.5601077  -1.31299892]\n",
      " [-0.21201821 -0.84250941  1.49779257]\n",
      " [-0.66901822  2.50726584 -0.20867464]]\n"
     ]
    }
   ],
   "source": [
    "from scipy.linalg import inv\n",
    "A = numpy.random.uniform(0,1,(3,3))\n",
    "print(A)\n",
    "print(inv(A))"
   ]
  },
  {
   "cell_type": "markdown",
   "metadata": {},
   "source": [
    "## Exercise 3b.4\n",
    "\n",
    "Generate a $4 \\times 5$ matrix of random values (called A).\n",
    "\n",
    "Verify the shape and values of $A^T$ match what is specified in 3b.4.\n",
    "\n",
    "First, guess would be the outcome of $(A^T)^T$? Check your guess."
   ]
  },
  {
   "cell_type": "code",
   "execution_count": null,
   "metadata": {
    "collapsed": true
   },
   "outputs": [],
   "source": []
  },
  {
   "cell_type": "markdown",
   "metadata": {},
   "source": [
    "## Exercise 3b.5\n",
    "\n",
    "Generate a $3 \\times 3$ matrix of random values named A.\n",
    "\n",
    "Part A: Verify that $A^{-1}A = I$, where $I$ is the $m \\times m$ identity matrix\n",
    "\n",
    "Part B: Verify that $(A^{-1})^{-1} = A$\n",
    "\n",
    "Part C: Verify that $(A^T)^{-1} = (A^{-1})^T$"
   ]
  },
  {
   "cell_type": "code",
   "execution_count": null,
   "metadata": {
    "collapsed": true
   },
   "outputs": [],
   "source": []
  }
 ],
 "metadata": {
  "kernelspec": {
   "display_name": "Python 3",
   "language": "python",
   "name": "python3"
  },
  "language_info": {
   "codemirror_mode": {
    "name": "ipython",
    "version": 3
   },
   "file_extension": ".py",
   "mimetype": "text/x-python",
   "name": "python",
   "nbconvert_exporter": "python",
   "pygments_lexer": "ipython3",
   "version": "3.5.3"
  },
  "name": "_merged"
 },
 "nbformat": 4,
 "nbformat_minor": 1
}
