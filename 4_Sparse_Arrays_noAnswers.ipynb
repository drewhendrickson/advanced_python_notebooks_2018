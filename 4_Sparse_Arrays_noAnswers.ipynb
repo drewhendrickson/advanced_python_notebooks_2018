{
 "cells": [
  {
   "cell_type": "markdown",
   "metadata": {},
   "source": [
    "## SciPy\n",
    "\n",
    "In this notebook in addition to NumPy we'll also be using SciPy. SciPy is a library for (mathematical) functions that are often used in scientific research.\n",
    "It consists of function for optimization, interpolation, integration, linear algebra, statistics and other topics.\n",
    "SciPy also has functions to work with sparse matrices.\n",
    "Since we will work in this notebook with the sparse submodule of the SciPy package we have to import this module separately.\n",
    "\n",
    "For more information about SciPy visit the following website:\n",
    "http://docs.scipy.org/doc/scipy/reference/tutorial/index.html"
   ]
  },
  {
   "cell_type": "code",
   "execution_count": 1,
   "metadata": {
    "collapsed": true
   },
   "outputs": [],
   "source": [
    "import numpy\n",
    "import scipy\n",
    "import scipy.sparse"
   ]
  },
  {
   "cell_type": "markdown",
   "metadata": {},
   "source": [
    "# 4 Sparse matrices\n",
    "\n",
    "\n",
    "\n",
    "## Dense versus sparse matrices\n",
    "\n",
    "\n",
    "Sparseness can refer to either the **content** of a matrix, or to the **representation** of a matrix in the program.\n",
    "\n",
    "### Content\n",
    "\n",
    "A dense matrix is a matrix with a lot of nonzero elements.\n",
    "A sparse matrix is the opposite and contains of a lot of zeros. \n",
    "\n",
    "The level of sparsity or density is an indication of how sparse or dense the matrix is.\n",
    "The sparsity/density can be computed by dividing the number of nonzero elements by the total number of elements.\n",
    "When this number is low, then the matrix contains a lot of zeros and therefore the matrix is called sparse.\n",
    "When this number is high, then the matrix contains no or only a few zeros and therefore the matrix is called dense."
   ]
  },
  {
   "cell_type": "markdown",
   "metadata": {},
   "source": [
    "### Representation\n",
    "\n",
    "When a matrix contains only a few nonzero elements then a specialized sparse representation of the matrix can be used. A sparse representation is a represenation in which only the nonzero elements are stored, while the zeros are implicit.\n",
    "\n",
    "This type of representation can have multiple benefits, especially when matricies become large.\n",
    "The major advantages of using a sparse matrix representation are:\n",
    "- Memory: less memory is needed to store the matrix since the zero elements are not stored.\n",
    "- Efficiency: using a sparse matrix in functions or loops can speed up the process in comparison with using a dense representation of the matrix since the zero elements are skipped in the sparse representation."
   ]
  },
  {
   "cell_type": "markdown",
   "metadata": {},
   "source": [
    "### When to use sparse matrix representations in data science: \n",
    "\n",
    "When the data content is sparse:\n",
    "\n",
    "- Matrices containing only diagonal entries (e.g. Eigenvalues, singular value decomposition, other factorization techniques).\n",
    "- Matricies containing entries only in the upper or lower triangular (e.g. symmetrical similarity values, growth curve information)\n",
    "- Matricies that code the connections between nodes in a network (e.g. social network analysis, physical networks, Biology) \n",
    "- Counting the words in text-based documents. "
   ]
  },
  {
   "cell_type": "markdown",
   "metadata": {},
   "source": [
    "## 4.1 Representations of sparse matrix\n",
    "\n",
    "There are several ways to store sparse matrices in SciPy. Unfortunately there is no sparse matrix representation that can do all tasks efficiently and fast. They generally fall into two groups that specialize in doing one thing really well.\n",
    "\n",
    "First, there are the group of representations that are efficient to build iteratively and modify individual entries. They are:\n",
    "\n",
    "- Dictionary of keys (dok_matrix)\n",
    "- List of lists (lil_matrix)\n",
    "- Coordinate list (coo_matrix)\n",
    "\n",
    "Second, there are the group of representations that are effienct to index particular items and perform matrix operations (including linear algebra). They are:\n",
    "\n",
    "- Compressed sparse column (csc_matrix)\n",
    "- Compressed sparse row (csr_matrix)\n",
    "\n",
    "Finally, there are the more specialized group of representations that are most efficient if the entries are non-randomly positioned in certain ways. They are:\n",
    "\n",
    "- Diagonal storage (dia_matrix)\n",
    "- Block sparse row matrix (bsr_matrix)"
   ]
  },
  {
   "cell_type": "markdown",
   "metadata": {},
   "source": [
    "## 4.2 Formats of Sparse matricies\n",
    "\n",
    "### 4.2.1 Compressed Sparse Row (csr)\n",
    "\n",
    "CSR represents the matrix with three numpy arrays. They contain \n",
    "1. The row indexes of the non-zero entries in the matrix.\n",
    "2. The column indexes of the non-zero entries in the matrix.\n",
    "3. All values in the matrix that are non-zero.\n",
    "\n",
    "Note that the order of the arrays ensures that CSR sparse matricies are sorted by rows, so that all values in the matrix within the same row are consecutive in the sparse matrix. This is not true for entries that are in the same column.\n",
    "\n",
    "Advantages: \n",
    "- Fast row slicing\n",
    "- Efficient computations that operate across rows\n",
    "\n",
    "Disadvantages: \n",
    "- Slow column slicing operations.\n",
    "- Changes to the sparsity structure are expensive (use LIL, COO, or DOK instead). \n"
   ]
  },
  {
   "cell_type": "code",
   "execution_count": 2,
   "metadata": {
    "collapsed": false
   },
   "outputs": [
    {
     "name": "stdout",
     "output_type": "stream",
     "text": [
      "[[0 1 3]\n",
      " [0 1 3]\n",
      " [0 3 2]]\n",
      "\n",
      "  (0, 1)\t1\n",
      "  (0, 2)\t3\n",
      "  (1, 1)\t1\n",
      "  (1, 2)\t3\n",
      "  (2, 1)\t3\n",
      "  (2, 2)\t2\n"
     ]
    }
   ],
   "source": [
    "dense_matrix = numpy.random.randint(4, size=(3,3))\n",
    "\n",
    "cdr = scipy.sparse.csr_matrix(dense_matrix, shape=dense_matrix.shape)\n",
    "\n",
    "print( dense_matrix )\n",
    "print()\n",
    "print( cdr )"
   ]
  },
  {
   "cell_type": "markdown",
   "metadata": {},
   "source": [
    "### 4.2.2 Compressed Sparse Column (csc)\n",
    "\n",
    "CSC represents the matrix with three numpy arrays. They contain \n",
    "1. The column indexes of the non-zero entries in the matrix.\n",
    "2. The row indexes of the non-zero entries in the matrix.\n",
    "3. All values in the matrix that are non-zero.\n",
    "\n",
    "Note that the order of the arrays ensures that CSC sparse matricies are sorted by columns, so that all values in the matrix within the same column are consecutive in the sparse matrix. This is not true for entries that are in the same row.\n",
    "\n",
    "Advantages: \n",
    "- Fast column slicing\n",
    "- Efficient computations that operate across columns\n",
    "\n",
    "Disadvantages: \n",
    "- Slow row slicing operations.\n",
    "- Changes to the sparsity structure are expensive. \n"
   ]
  },
  {
   "cell_type": "code",
   "execution_count": 3,
   "metadata": {
    "collapsed": false
   },
   "outputs": [
    {
     "name": "stdout",
     "output_type": "stream",
     "text": [
      "  (0, 1)\t1\n",
      "  (1, 1)\t1\n",
      "  (2, 1)\t3\n",
      "  (0, 2)\t3\n",
      "  (1, 2)\t3\n",
      "  (2, 2)\t2\n"
     ]
    }
   ],
   "source": [
    "csc = scipy.sparse.csc_matrix(dense_matrix, shape=dense_matrix.shape)\n",
    "print( csc)"
   ]
  },
  {
   "cell_type": "markdown",
   "metadata": {},
   "source": [
    "### 4.2.3 Dictionary of Keys (dok)\n",
    "\n",
    "The dictionary of keys sparse matrix representation is a dictionary format where every key in the dictionary represents the row and column indices of the element and the value in the dictionary represents the value of the element at that particular position. Elements with value 0 are not present in the dictionary, but they are assumed to be implicitly zero. \n",
    "\n",
    "The Scipy dictionary of keys differs in a few critical ways from dictionaries in vanilla python.\n",
    "- In scipy the total number of possible rows and columns must be specified at initialization. This can be changed but requires a full copy in memory. \n",
    "- Also, the rows and columns in a scipy DOK sparse matrix must be integers. Unlike in vanilla python where keys can be strings, values along either dimension cannot be arbitrary types ."
   ]
  },
  {
   "cell_type": "code",
   "execution_count": 4,
   "metadata": {
    "collapsed": false
   },
   "outputs": [
    {
     "name": "stdout",
     "output_type": "stream",
     "text": [
      "  (1, 2)\t2\n",
      "  (3, 2)\t6\n",
      "  (1, 3)\t3\n",
      "  (3, 3)\t9\n",
      "  (4, 1)\t4\n",
      "  (3, 1)\t3\n",
      "  (4, 4)\t16\n",
      "  (2, 1)\t2\n",
      "  (2, 4)\t8\n",
      "  (2, 3)\t6\n",
      "  (1, 4)\t4\n",
      "  (4, 3)\t12\n",
      "  (2, 2)\t4\n",
      "  (4, 2)\t8\n",
      "  (3, 4)\t12\n",
      "  (1, 1)\t1\n"
     ]
    }
   ],
   "source": [
    "# Create a dok matrix incrementally\n",
    "\n",
    "S = scipy.sparse.dok_matrix((5, 5), dtype=numpy.int32)\n",
    "for i in range(5):\n",
    "    for j in range(5):\n",
    "        S[i,j] = i*j\n",
    "print(S)"
   ]
  },
  {
   "cell_type": "markdown",
   "metadata": {},
   "source": [
    "## Exercise 4.2\n",
    "\n",
    "In this exercise we will learn how to build a document-term matrix.\n",
    "We'll build two functions.\n",
    "\n",
    "- Create function `word_index`  which takes a list of words, and returns a dictionary mapping each unique word to an index. For example:\n",
    "```python\n",
    "word_index(\"A rose is a rose\".split())\n",
    "```\n",
    "```\n",
    "{'A': 0, 'a': 3, 'is': 2, 'rose': 1}\n",
    "```\n",
    "- Create function `word_count` which takes a list of texts (where each text is a list of words), and returns two values:\n",
    "   - a `dok_matrix` which counts how many times each word occurs in each text. The matrix should be $M\\times N$, where $M$ is the number of texts and  $N$ is the total number of unique words. \n",
    "   - a vanilla python dictionary that maps from words to column indicies in the dok_matrix. This should have $N$ entries.\n",
    "\n",
    "Example:\n",
    "\n",
    "```python\n",
    "text = ['All human beings are born free and equal in dignity and rights'.split(),\n",
    "       'They are endowed with reason and conscience and should act towards one another in a spirit of brotherhood'.split()]\n",
    "vocab, M = word_count(text)\n",
    "print(M[0, vocab['and']])\n",
    "print(M[1, vocab['reason']])\n",
    "```       \n",
    "Output:\n",
    "```\n",
    "2.0\n",
    "1.0\n",
    "```"
   ]
  },
  {
   "cell_type": "code",
   "execution_count": 10,
   "metadata": {
    "collapsed": true
   },
   "outputs": [],
   "source": [
    "def word_index(x):\n",
    "    return "
   ]
  },
  {
   "cell_type": "code",
   "execution_count": 11,
   "metadata": {
    "collapsed": false
   },
   "outputs": [
    {
     "name": "stdout",
     "output_type": "stream",
     "text": [
      "None\n",
      "None\n",
      "None\n"
     ]
    }
   ],
   "source": [
    "# Testing word_index()\n",
    "\n",
    "print(word_index(\"A rose is a rose\".split()))\n",
    "print(word_index(\"I love Data Processing Advanced lectures\".split()))\n",
    "print(word_index(\"do be do be do\".split()))\n",
    "    "
   ]
  },
  {
   "cell_type": "code",
   "execution_count": 12,
   "metadata": {
    "collapsed": true
   },
   "outputs": [],
   "source": [
    "# use this for testing!\n",
    "text = ['All human beings are born free and equal in dignity and rights'.split(),\n",
    "       'They are endowed with reason and conscience and should act towards one another in a spirit of brotherhood'.split()]"
   ]
  },
  {
   "cell_type": "code",
   "execution_count": 13,
   "metadata": {
    "collapsed": true
   },
   "outputs": [],
   "source": [
    "def word_count(x):\n",
    "    return "
   ]
  },
  {
   "cell_type": "code",
   "execution_count": 14,
   "metadata": {
    "collapsed": false
   },
   "outputs": [
    {
     "ename": "TypeError",
     "evalue": "'NoneType' object is not iterable",
     "output_type": "error",
     "traceback": [
      "\u001b[0;31m---------------------------------------------------------------------------\u001b[0m",
      "\u001b[0;31mTypeError\u001b[0m                                 Traceback (most recent call last)",
      "\u001b[0;32m<ipython-input-14-9c88c6131fb2>\u001b[0m in \u001b[0;36m<module>\u001b[0;34m()\u001b[0m\n\u001b[1;32m      1\u001b[0m \u001b[0;31m# test the results!\u001b[0m\u001b[0;34m\u001b[0m\u001b[0;34m\u001b[0m\u001b[0m\n\u001b[0;32m----> 2\u001b[0;31m \u001b[0mvocab\u001b[0m\u001b[0;34m,\u001b[0m \u001b[0mM\u001b[0m \u001b[0;34m=\u001b[0m \u001b[0mword_count\u001b[0m\u001b[0;34m(\u001b[0m\u001b[0mtext\u001b[0m\u001b[0;34m)\u001b[0m\u001b[0;34m\u001b[0m\u001b[0m\n\u001b[0m\u001b[1;32m      3\u001b[0m \u001b[0mprint\u001b[0m\u001b[0;34m(\u001b[0m\u001b[0mM\u001b[0m\u001b[0;34m[\u001b[0m\u001b[0;36m0\u001b[0m\u001b[0;34m,\u001b[0m \u001b[0mvocab\u001b[0m\u001b[0;34m[\u001b[0m\u001b[0;34m'and'\u001b[0m\u001b[0;34m]\u001b[0m\u001b[0;34m]\u001b[0m\u001b[0;34m)\u001b[0m\u001b[0;34m\u001b[0m\u001b[0m\n\u001b[1;32m      4\u001b[0m \u001b[0mprint\u001b[0m\u001b[0;34m(\u001b[0m\u001b[0mM\u001b[0m\u001b[0;34m[\u001b[0m\u001b[0;36m1\u001b[0m\u001b[0;34m,\u001b[0m \u001b[0mvocab\u001b[0m\u001b[0;34m[\u001b[0m\u001b[0;34m'reason'\u001b[0m\u001b[0;34m]\u001b[0m\u001b[0;34m]\u001b[0m\u001b[0;34m)\u001b[0m\u001b[0;34m\u001b[0m\u001b[0m\n",
      "\u001b[0;31mTypeError\u001b[0m: 'NoneType' object is not iterable"
     ]
    }
   ],
   "source": [
    "# test the results!\n",
    "vocab, M = word_count(text)\n",
    "print(M[0, vocab['and']])\n",
    "print(M[1, vocab['reason']])"
   ]
  },
  {
   "cell_type": "markdown",
   "metadata": {},
   "source": [
    "## 4.3 Sparse matrix conversion\n",
    "\n",
    "Since no single sparse matrix representation is best for all types of analysis, it is often more efficient to create one type of sparse matrix and then convert into a different representation. Every sparse matrix representation in Scipy can be converted into any other representation, though this step can often be very computationally expensive and slow.\n",
    "\n",
    "However, many times you might end up creating a sparse matrix incrementally, using `dok` or `lil` and then converting it to `csc` or `csr` for efficient matrix multiplication or inversion.\n",
    "\n",
    "All of the details about Scipy sparse matrix representations can be found online:  http://docs.scipy.org/doc/scipy/reference/sparse.html"
   ]
  },
  {
   "cell_type": "markdown",
   "metadata": {},
   "source": [
    "### 4.3.1 Converting to dense scipy matricies or a numpy array\n",
    "\n",
    "Some calculations require a dense matrix. Any scipy.sparse matrix can be convered to a scipy.dense matrix (THIS IS NOT A NUMPY array!) or a Numpy array:\n",
    "\n",
    "- `x.todense()`:  convert sparse matrix to densely represented matrix (not the same as a numpy array!)\n",
    "- `x.toarray()`: convert sparse matrix into a regular numpy array"
   ]
  },
  {
   "cell_type": "code",
   "execution_count": 15,
   "metadata": {
    "collapsed": false
   },
   "outputs": [
    {
     "name": "stdout",
     "output_type": "stream",
     "text": [
      "  (0, 1)\t0.721553583297\n",
      "  (2, 0)\t0.301882208207\n",
      "  (2, 2)\t0.706715211385\n",
      "Dense matrix: \n",
      " [[ 0.          0.72155358  0.        ]\n",
      " [ 0.          0.          0.        ]\n",
      " [ 0.30188221  0.          0.70671521]]\n",
      "Numpy array: \n",
      " [[ 0.          0.72155358  0.        ]\n",
      " [ 0.          0.          0.        ]\n",
      " [ 0.30188221  0.          0.70671521]]\n"
     ]
    }
   ],
   "source": [
    "x = scipy.sparse.rand(3, 3, density=0.4, format=\"dok\")\n",
    "print( x )\n",
    "\n",
    "# transform to dense matrix:\n",
    "print(\"Dense matrix: \\n\", x.todense())\n",
    "\n",
    "# transform to numpy array:\n",
    "print(\"Numpy array: \\n\", x.toarray())\n"
   ]
  },
  {
   "cell_type": "markdown",
   "metadata": {},
   "source": [
    "### 4.3.2 Check matrix properties\n",
    "\n",
    "When you want to check whether or not the matrix is a sparse format then the following function can be helpful:\n",
    "- `scipy.sparse.issparse(x)`\n",
    "- `scipy.sparse.isspmatrix(x)`\n",
    "- `scipy.sparse.isspmatrix_dok(x) / scipy.sparse.isspmatrix_lil(x) / scipy.sparse.isspmatrix_coo(x)`: the function is the same for all different formats and everytime the three letters abbreviations are used. \n",
    "\n",
    "All these functions return True in the case where the matrix is sparse and of the particular type and False otherwise.\n",
    "\n",
    "You can also use the X.getformat() to get the format of a sparse matrix (X)."
   ]
  },
  {
   "cell_type": "code",
   "execution_count": 16,
   "metadata": {
    "collapsed": false
   },
   "outputs": [
    {
     "name": "stdout",
     "output_type": "stream",
     "text": [
      "Is sparse? True\n",
      "Is Dictionary of Keys format? False\n",
      "Is Coordinate lists format? True\n",
      "Type of sparse matrix is:  coo\n"
     ]
    }
   ],
   "source": [
    "R = scipy.sparse.rand(5, 5, density=0.2, format=\"coo\", dtype=numpy.float32)\n",
    "\n",
    "print( \"Is sparse?\", scipy.sparse.issparse(R) )\n",
    "print( \"Is Dictionary of Keys format?\", scipy.sparse.isspmatrix_dok(R) )\n",
    "print( \"Is Coordinate lists format?\", scipy.sparse.isspmatrix_coo(R) )\n",
    "print( \"Type of sparse matrix is: \", R.getformat() )"
   ]
  },
  {
   "cell_type": "markdown",
   "metadata": {},
   "source": [
    "## 4.4 Functions to create a sparse matrix\n",
    "\n",
    "Scipy.sparse has three functions that create sparse matricies with particular properties. Each of these functions can be passed a parameter `format` to indicate which representational format to create. Three letters abbreviations of the sparse representations are used: `dok, lil, coo, csr, csc, bsr, and dia`. \n"
   ]
  },
  {
   "cell_type": "code",
   "execution_count": 17,
   "metadata": {
    "collapsed": false
   },
   "outputs": [
    {
     "name": "stdout",
     "output_type": "stream",
     "text": [
      "  (3, 3)\t1\n",
      "  (0, 0)\t1\n",
      "  (1, 1)\t1\n",
      "  (4, 4)\t1\n",
      "  (2, 2)\t1\n"
     ]
    }
   ],
   "source": [
    "# Create a sparse identity matrix\n",
    "E = scipy.sparse.eye(5, 5, 0, dtype=numpy.int32, format=\"dok\" )\n",
    "print(E)"
   ]
  },
  {
   "cell_type": "code",
   "execution_count": 18,
   "metadata": {
    "collapsed": false
   },
   "outputs": [
    {
     "name": "stdout",
     "output_type": "stream",
     "text": [
      "  (1, 3)\t0.927421\n",
      "  (2, 0)\t0.97118\n",
      "  (3, 1)\t0.829393\n",
      "  (3, 0)\t0.548979\n",
      "  (4, 2)\t0.85739\n"
     ]
    }
   ],
   "source": [
    "# Create a sparse random matrix with values from a uniform distribution\n",
    "R = scipy.sparse.rand(5, 5, density=0.2, format=\"coo\", dtype=numpy.float32)\n",
    "print(R)"
   ]
  },
  {
   "cell_type": "code",
   "execution_count": 19,
   "metadata": {
    "collapsed": false
   },
   "outputs": [
    {
     "name": "stdout",
     "output_type": "stream",
     "text": [
      "  (15, 11)\t32.0\n",
      "  (7, 28)\t22.0\n",
      "  (25, 29)\t33.0\n",
      "  (28, 31)\t35.0\n",
      "  (17, 22)\t29.0\n",
      "  (6, 17)\t33.0\n"
     ]
    }
   ],
   "source": [
    "# Create a sparse random matrix from an aribrary distribution\n",
    "from scipy import stats\n",
    "values = stats.poisson(25, loc=10).rvs\n",
    "\n",
    "S = scipy.sparse.random(30, 40, density=0.005, data_rvs=values)\n",
    "print(S)"
   ]
  },
  {
   "cell_type": "markdown",
   "metadata": {},
   "source": [
    "## 4.5 Using sparse representations\n",
    "\n",
    "You can use sparse matrix represenations in normal mathematical transformations, such as addition, substraction, division, multiplication, and matrix power. These computations treat the _missing_ values in a sparse matrix as values that are 0. So often these operations result in a matrix that has many more values than the original sparse matrix."
   ]
  },
  {
   "cell_type": "code",
   "execution_count": 20,
   "metadata": {
    "collapsed": false
   },
   "outputs": [
    {
     "name": "stdout",
     "output_type": "stream",
     "text": [
      "x=\n",
      "  (0, 2)\t0.664303\n",
      "  (0, 3)\t0.512953\n",
      "  (1, 0)\t0.0546204\n",
      "  (1, 2)\t0.817975\n",
      "  (2, 1)\t0.971419\n",
      "  (3, 0)\t0.280275\n",
      "  (3, 1)\t0.688567\n",
      "  (3, 3)\t0.178408\n",
      "y=\n",
      "  (0, 1)\t0.783285\n",
      "  (0, 2)\t0.832496\n",
      "  (0, 3)\t0.272266\n",
      "  (1, 1)\t0.0945226\n",
      "  (1, 3)\t0.066404\n",
      "  (3, 0)\t0.531283\n",
      "  (3, 1)\t0.167371\n",
      "  (3, 3)\t0.0787933\n",
      "x+y=\n",
      "  (0, 1)\t0.783285\n",
      "  (0, 2)\t1.4968\n",
      "  (0, 3)\t0.785219\n",
      "  (1, 0)\t0.0546204\n",
      "  (1, 1)\t0.0945226\n",
      "  (1, 2)\t0.817975\n",
      "  (1, 3)\t0.066404\n",
      "  (2, 1)\t0.971419\n",
      "  (3, 0)\t0.811558\n",
      "  (3, 1)\t0.855937\n",
      "  (3, 3)\t0.257202\n",
      "x*y\n",
      "  (0, 3)\t0.0404173\n",
      "  (0, 1)\t0.0858534\n",
      "  (0, 0)\t0.272523\n",
      "  (1, 3)\t0.0148713\n",
      "  (1, 2)\t0.0454712\n",
      "  (1, 1)\t0.0427833\n",
      "  (2, 3)\t0.0645061\n",
      "  (2, 1)\t0.091821\n",
      "  (3, 0)\t0.0947853\n",
      "  (3, 3)\t0.13609\n",
      "  (3, 2)\t0.233328\n",
      "  (3, 1)\t0.314481\n"
     ]
    }
   ],
   "source": [
    "# mathematical transformations with sparse matrices\n",
    "x = scipy.sparse.rand(4, 4, density=0.5, format=\"csr\", dtype=numpy.float32)\n",
    "y = scipy.sparse.rand(4, 4, density=0.5, format=\"csr\", dtype=numpy.float32)\n",
    "print(\"x=\")\n",
    "print(x)\n",
    "print(\"y=\")\n",
    "print(y)\n",
    "print(\"x+y=\")\n",
    "print(x+y)\n",
    "print(\"x*y\")\n",
    "print(x*y) # this is the dot product!"
   ]
  },
  {
   "cell_type": "markdown",
   "metadata": {},
   "source": [
    "## 4.6 Often used functions applied to sparse matrices\n",
    "\n",
    "The major question when using sparse matricies in compuations and functions is will the sparse representation be preserved. Scipy has a number of other useful functions that preserve the sparse representation:\n",
    "\n",
    "- Calculating the mean of the matrix: `X.mean(axis=0)` can be used to calculate the mean of sparse matrix `X`. This function does not destroy the sparse matrix structure.\n",
    "\n",
    "- Calculating the minimum or maximum of the matrix without destroying the sparse structure. `x.minimum()` will give the minimum over the matrix. \n",
    "\n",
    "Other functions that can be applied to sparse matrices (where x is a sparse matrix):\n",
    "- `x.transpose()` or `x.T`: return the transpose of the matrix as a sparse matrix.\n",
    "- `x.sum(axis=)`: calculate the sum over the matrix or the sum over one axis.\n",
    "- `x.nonzero()`: return the indices of the non-zero elements.\n",
    "- `x.reshape(shape)`: reshape the array to another shape.\n",
    "- `x.multiply(y)`: element-wise multiplication of x with another matrix y (be careful with the shape).\n",
    "\n",
    "Full list: http://docs.scipy.org/doc/scipy/reference/sparse.html"
   ]
  },
  {
   "cell_type": "code",
   "execution_count": 21,
   "metadata": {
    "collapsed": false
   },
   "outputs": [
    {
     "name": "stdout",
     "output_type": "stream",
     "text": [
      "  (1, 2)\t0.170079393408\n",
      "  (9, 0)\t0.156633296229\n",
      "  (0, 0)\t0.884019301449\n",
      "  (1, 4)\t0.960966063284\n",
      "  (3, 3)\t0.198362467611\n",
      "  (8, 1)\t0.921679696658\n",
      "  (5, 1)\t0.982333066849\n",
      "  (0, 3)\t0.948206573725\n",
      "  (5, 2)\t0.317467421357\n",
      "  (7, 2)\t0.239370151012\n",
      "Mean over the total matrix:  0.115582348632\n",
      "Mean for every column:  [[ 0.10406526  0.19040128  0.0726917   0.1146569   0.09609661]]\n",
      "Total sum of the matrix: 5.77911743158\n"
     ]
    }
   ],
   "source": [
    "# create a random 10 by 5 sparse matrix with density 0.4 in the dictionary of keys format \n",
    "x = scipy.sparse.rand(10, 5, density=0.2, format=\"dok\")\n",
    "\n",
    "print( x )\n",
    "\n",
    "# calculate the mean without destroying the sparse structure\n",
    "print(\"Mean over the total matrix: \", x.mean())\n",
    "print(\"Mean for every column: \", x.mean(axis=0))\n",
    "\n",
    "# calculate the sum over the matrix\n",
    "print(\"Total sum of the matrix:\", x.sum())"
   ]
  },
  {
   "cell_type": "code",
   "execution_count": 22,
   "metadata": {
    "collapsed": false
   },
   "outputs": [
    {
     "name": "stdout",
     "output_type": "stream",
     "text": [
      "Transpose:\n",
      "  (2, 7)\t0.239370151012\n",
      "  (1, 5)\t0.982333066849\n",
      "  (1, 8)\t0.921679696658\n",
      "  (0, 0)\t0.884019301449\n",
      "  (3, 3)\t0.198362467611\n",
      "  (0, 9)\t0.156633296229\n",
      "  (2, 5)\t0.317467421357\n",
      "  (4, 1)\t0.960966063284\n",
      "  (3, 0)\t0.948206573725\n",
      "  (2, 1)\t0.170079393408\n",
      "Multiply pointwise:\n",
      "  (0, 0)\t0.739298220389\n",
      "  (7, 2)\t0.179705992924\n"
     ]
    }
   ],
   "source": [
    "# transpose a sparse matrix\n",
    "print( \"Transpose:\" )\n",
    "print( x.transpose() )\n",
    "\n",
    "# multiply element-wise\n",
    "y = scipy.sparse.rand(10, 5, density=0.2, format=\"dok\")\n",
    "print( \"Multiply pointwise:\" )\n",
    "print( x.multiply(y) )"
   ]
  },
  {
   "cell_type": "markdown",
   "metadata": {
    "collapsed": true
   },
   "source": [
    "### 4.6.1 Warning: Sparse matrix dot product \n",
    "\n",
    "When using sparse matrices you should not use the code: `numpy.dot(x,y)` to get the dot product between a matrix x and a vector y. Use `x.dot(y)` instead.\n",
    "\n",
    "Sparse matrices are not supported in `numpy.dot(x,y)` and therefore this can lead to errors. \n",
    "Reference: http://docs.scipy.org/doc/scipy/reference/sparse.html#matrix-vector-product\n"
   ]
  },
  {
   "cell_type": "code",
   "execution_count": 23,
   "metadata": {
    "collapsed": false
   },
   "outputs": [
    {
     "name": "stdout",
     "output_type": "stream",
     "text": [
      "Scipy version:\n",
      "[17  0 20]\n",
      "\n",
      "Numpy version:\n",
      "[ <3x3 sparse matrix of type '<class 'numpy.int64'>'\n",
      "\twith 5 stored elements in Dictionary Of Keys format>\n",
      " <3x3 sparse matrix of type '<class 'numpy.int64'>'\n",
      "\twith 5 stored elements in Dictionary Of Keys format>\n",
      " <3x3 sparse matrix of type '<class 'numpy.int64'>'\n",
      "\twith 5 stored elements in Dictionary Of Keys format>]\n"
     ]
    }
   ],
   "source": [
    "x = scipy.sparse.dok_matrix([[1, 2, 0], [0, 0, 3], [4, 0, 5]])\n",
    "y = numpy.array([5, 6, 0])\n",
    "\n",
    "# the Scipy dot product function works for Scipy sparse matricies\n",
    "print(\"Scipy version:\")\n",
    "print(x.dot(y))\n",
    "print()\n",
    "\n",
    "# the Numpy dot product function does not work for Scipy sparse matricies\n",
    "print(\"Numpy version:\")\n",
    "print(numpy.dot(x, y))"
   ]
  },
  {
   "cell_type": "markdown",
   "metadata": {},
   "source": [
    "## 4.6.2 Adding or subtracting a scalar\n",
    "\n",
    "Adding or subtracting a value from all values of a sparse matrix tends to have very unexpected behavior. In effect, this changes the matrix so that most values are not zero. The matrix representation will remain sparse, but most of the content of the matrix will not be zero and thus not sparse.\n",
    "\n",
    "The same warning holds for any normalization or standardization of a sparse matrix."
   ]
  },
  {
   "cell_type": "code",
   "execution_count": 24,
   "metadata": {
    "collapsed": false
   },
   "outputs": [
    {
     "name": "stdout",
     "output_type": "stream",
     "text": [
      "  (0, 1)\t0.513197147741\n",
      "  (0, 0)\t0.642664707672\n",
      "  (2, 2)\t0.00170471865191\n",
      "So many values!:\n",
      "  (0, 1)\t0.7704341642\n",
      "  (1, 2)\t0.257237016459\n",
      "  (0, 0)\t0.899901724131\n",
      "  (2, 0)\t0.257237016459\n",
      "  (1, 0)\t0.257237016459\n",
      "  (2, 2)\t0.258941735111\n",
      "  (0, 2)\t0.257237016459\n",
      "  (2, 1)\t0.257237016459\n",
      "  (1, 1)\t0.257237016459\n"
     ]
    },
    {
     "ename": "NotImplementedError",
     "evalue": "subtracting a nonzero scalar from a sparse matrix is not supported",
     "output_type": "error",
     "traceback": [
      "\u001b[0;31m---------------------------------------------------------------------------\u001b[0m",
      "\u001b[0;31mNotImplementedError\u001b[0m                       Traceback (most recent call last)",
      "\u001b[0;32m<ipython-input-24-8de9f28404fa>\u001b[0m in \u001b[0;36m<module>\u001b[0;34m()\u001b[0m\n\u001b[1;32m      8\u001b[0m \u001b[0;34m\u001b[0m\u001b[0m\n\u001b[1;32m      9\u001b[0m \u001b[0;31m# but prevents you from doing subtraction because it is not implimented\u001b[0m\u001b[0;34m\u001b[0m\u001b[0;34m\u001b[0m\u001b[0m\n\u001b[0;32m---> 10\u001b[0;31m \u001b[0mprint\u001b[0m\u001b[0;34m(\u001b[0m\u001b[0mx\u001b[0m\u001b[0;34m-\u001b[0m\u001b[0mx\u001b[0m\u001b[0;34m.\u001b[0m\u001b[0mmean\u001b[0m\u001b[0;34m(\u001b[0m\u001b[0;34m)\u001b[0m\u001b[0;34m)\u001b[0m\u001b[0;34m\u001b[0m\u001b[0m\n\u001b[0m",
      "\u001b[0;32m/usr/local/lib/python3.5/dist-packages/scipy/sparse/base.py\u001b[0m in \u001b[0;36m__sub__\u001b[0;34m(self, other)\u001b[0m\n\u001b[1;32m    387\u001b[0m             \u001b[0;32mif\u001b[0m \u001b[0mother\u001b[0m \u001b[0;34m==\u001b[0m \u001b[0;36m0\u001b[0m\u001b[0;34m:\u001b[0m\u001b[0;34m\u001b[0m\u001b[0m\n\u001b[1;32m    388\u001b[0m                 \u001b[0;32mreturn\u001b[0m \u001b[0mself\u001b[0m\u001b[0;34m.\u001b[0m\u001b[0mcopy\u001b[0m\u001b[0;34m(\u001b[0m\u001b[0;34m)\u001b[0m\u001b[0;34m\u001b[0m\u001b[0m\n\u001b[0;32m--> 389\u001b[0;31m             raise NotImplementedError('subtracting a nonzero scalar from a '\n\u001b[0m\u001b[1;32m    390\u001b[0m                                       'sparse matrix is not supported')\n\u001b[1;32m    391\u001b[0m         \u001b[0;32melif\u001b[0m \u001b[0misspmatrix\u001b[0m\u001b[0;34m(\u001b[0m\u001b[0mother\u001b[0m\u001b[0;34m)\u001b[0m\u001b[0;34m:\u001b[0m\u001b[0;34m\u001b[0m\u001b[0m\n",
      "\u001b[0;31mNotImplementedError\u001b[0m: subtracting a nonzero scalar from a sparse matrix is not supported"
     ]
    }
   ],
   "source": [
    "x = scipy.sparse.rand(3, 3, density=0.4, format=\"dok\")\n",
    "\n",
    "print( x )\n",
    "\n",
    "# allows you to add a scalar value to all values in a sparse matrix:\n",
    "print(\"So many values!:\")\n",
    "print(x + 2 * x.mean())\n",
    "\n",
    "# but prevents you from doing subtraction because it is not implimented\n",
    "print(x-x.mean())"
   ]
  },
  {
   "cell_type": "markdown",
   "metadata": {},
   "source": [
    "## Exercise 4.6.1\n",
    "\n",
    "Given a word index dictionary and a document-term matrix returned by `word_count`:\n",
    "\n",
    "Part A: find the most frequent word for each document.\n",
    "\n",
    "Part B: find the document with the most words"
   ]
  },
  {
   "cell_type": "code",
   "execution_count": null,
   "metadata": {
    "collapsed": true
   },
   "outputs": [],
   "source": []
  },
  {
   "cell_type": "markdown",
   "metadata": {},
   "source": [
    "## Exercise 4.6.2\n",
    "\n",
    "Function `f` takes a document-term matrix, and returns another matrix. Analyze the code in `f` and try to figure out what this function is doing and how to interpret the result it returns.\n",
    "```python\n",
    "def f(D):\n",
    "    M = D.minimum(1.0)\n",
    "    return M.dot(M.T)\n",
    "```"
   ]
  },
  {
   "cell_type": "code",
   "execution_count": null,
   "metadata": {
    "collapsed": true
   },
   "outputs": [],
   "source": []
  },
  {
   "cell_type": "markdown",
   "metadata": {},
   "source": [
    "## Exercise 4.6.3\n",
    "\n",
    "- Create a list of texts by reading the first 1000 lines from [coco_val.txt](coco_val.txt). Create matrix A with the document-term matrix from these 1000 sentences. Create another matrix B by converting the matrix A from `dok` format to `csr` format. Use the ipython command `%timeit` to compare whether it's faster to apply function `f` (see above) to matrix A or B.\n",
    "- Create matrix C by converting A to a regular numpy array. Write function `g` which is like `f`, but works on regular numpy array arrays. Use `%timeit` to see how fast g is when applied to matrix C."
   ]
  },
  {
   "cell_type": "code",
   "execution_count": null,
   "metadata": {
    "collapsed": true
   },
   "outputs": [],
   "source": []
  },
  {
   "cell_type": "markdown",
   "metadata": {
    "collapsed": true
   },
   "source": [
    "## Exercise 4.12\n",
    "\n",
    "There are a number of ways of measuring similarity between documents. For this exercise we'll try to use the number of unique words the documents have in common (word overlap).\n",
    "\n",
    "\n",
    "1. Define function `similarity` which takes a document-term matrix, and returns a square matrix where the value in the row $i$ and column $j$ is the word overlap between the $i$th and $j$th document.\n",
    "3. Calculate the overlap similarity matrix for sentences in [coco_val.txt](coco_val.txt). For the first 20 sentences, display the 3 most similar sentences according to this matrix.\n",
    "4. Word overlap is a very simplistic similarity measure. Suggest, and possibly implement, a better way of measuring similarity between documents based on a document-term matrix."
   ]
  },
  {
   "cell_type": "code",
   "execution_count": null,
   "metadata": {
    "collapsed": true
   },
   "outputs": [],
   "source": []
  }
 ],
 "metadata": {
  "kernelspec": {
   "display_name": "Python 3",
   "language": "python",
   "name": "python3"
  },
  "language_info": {
   "codemirror_mode": {
    "name": "ipython",
    "version": 3
   },
   "file_extension": ".py",
   "mimetype": "text/x-python",
   "name": "python",
   "nbconvert_exporter": "python",
   "pygments_lexer": "ipython3",
   "version": "3.6.0"
  },
  "name": "_merged"
 },
 "nbformat": 4,
 "nbformat_minor": 1
}
