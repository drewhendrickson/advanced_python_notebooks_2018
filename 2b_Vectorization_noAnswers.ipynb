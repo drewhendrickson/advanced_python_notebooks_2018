{
 "cells": [
  {
   "cell_type": "markdown",
   "metadata": {},
   "source": [
    "# 2b Vectorized operations"
   ]
  },
  {
   "cell_type": "markdown",
   "metadata": {},
   "source": [
    "## 2b.1 What is vectorization?\n",
    "\n",
    "Vectorizatipon is applying the same operation to every element within an array, or multiple arrays. Numpy performs vectorized operations much faster and utilizing less memory (in most cases) than iterating through each element in a for loop. Vectorized operations are essential to linear algebra, which form the basis of machine learning, data mining, and processing.\n",
    "\n",
    "## Exercise 2b.1\n",
    "\n",
    "Don't forget to import numpy"
   ]
  },
  {
   "cell_type": "code",
   "execution_count": 1,
   "metadata": {
    "collapsed": true
   },
   "outputs": [],
   "source": [
    "import numpy"
   ]
  },
  {
   "cell_type": "markdown",
   "metadata": {},
   "source": [
    "## 2b.2 Examples of how vectorization of a single array can be utilized:\n",
    "\n",
    "Mathematical functions, scalar transformations, other transformations, boolean operations"
   ]
  },
  {
   "cell_type": "markdown",
   "metadata": {},
   "source": [
    "### 2b.2.1 Mathematical functions applied to vectors"
   ]
  },
  {
   "cell_type": "markdown",
   "metadata": {},
   "source": [
    "Numpy has a huge list of mathematical functions can be applied to arrays. These operations are vectorized and thus applied elementwise. Some examples are:\n",
    "\n",
    "- numpy.sqrt(x): square root\n",
    "- numpy.sin(x): sine\n",
    "- numpy.cos(x): cosine\n",
    "- numpy.tan(x): tangent\n",
    "- numpy.exp(x): exponential\n",
    "- numpy.log(x): natural logarithm\n",
    "- numpy.round(x, decimals = 2 ) : round to the nearest integer (check the type!)\n",
    "- numpy.floor(x): round down to an integer\n",
    "- numpy.ceil(x): round up to an integer"
   ]
  },
  {
   "cell_type": "code",
   "execution_count": 2,
   "metadata": {
    "collapsed": false
   },
   "outputs": [
    {
     "name": "stdout",
     "output_type": "stream",
     "text": [
      "x =  [1 2 3 4]\n",
      "sqrt(x) =  [ 1.          1.41421356  1.73205081  2.        ]\n",
      "sin(x) =  [ 0.84147098  0.90929743  0.14112001 -0.7568025 ]\n",
      "cos(x) =  [ 0.54030231 -0.41614684 -0.9899925  -0.65364362]\n",
      "tan(x) =  [ 1.55740772 -2.18503986 -0.14254654  1.15782128]\n",
      "exp(x) =  [  2.71828183   7.3890561   20.08553692  54.59815003]\n",
      "log(x) =  [ 0.          0.69314718  1.09861229  1.38629436]\n"
     ]
    }
   ],
   "source": [
    "x = numpy.array([1, 2, 3, 4])\n",
    "print(\"x = \", x)\n",
    "print(\"sqrt(x) = \", numpy.sqrt(x))\n",
    "print(\"sin(x) = \", numpy.sin(x) )\n",
    "print(\"cos(x) = \", numpy.cos(x) )\n",
    "print(\"tan(x) = \", numpy.tan(x) )\n",
    "print(\"exp(x) = \", numpy.exp(x) )\n",
    "print(\"log(x) = \", numpy.log(x) )"
   ]
  },
  {
   "cell_type": "code",
   "execution_count": 3,
   "metadata": {
    "collapsed": false
   },
   "outputs": [
    {
     "name": "stdout",
     "output_type": "stream",
     "text": [
      "not rounded: [[ 1.37341699  6.3141477   1.80235171  2.23837993  0.58047243]\n",
      " [ 3.12976912  7.66781054  4.39066393  0.34977829  3.19737225]]\n",
      "round: [[ 1.37  6.31  1.8   2.24  0.58]\n",
      " [ 3.13  7.67  4.39  0.35  3.2 ]]\n",
      "floor: [[ 1.  6.  1.  2.  0.]\n",
      " [ 3.  7.  4.  0.  3.]]\n",
      "ceil: [[ 2.  7.  2.  3.  1.]\n",
      " [ 4.  8.  5.  1.  4.]]\n"
     ]
    }
   ],
   "source": [
    "# rounding \n",
    "x = 10*numpy.random.random((2,5))\n",
    "print(\"not rounded:\", x)\n",
    "x1 = numpy.round(x, decimals = 2)\n",
    "print(\"round:\", x1)\n",
    "x2 = numpy.floor(x)\n",
    "print(\"floor:\", x2)\n",
    "x3 = numpy.ceil(x)\n",
    "print(\"ceil:\", x3)"
   ]
  },
  {
   "cell_type": "markdown",
   "metadata": {},
   "source": [
    "### 2b.2.2 Simple scalar transformations\n",
    "\n",
    "Simple mathematical operations can be performed between an array (of any dimensionality) and a scalar value:"
   ]
  },
  {
   "cell_type": "code",
   "execution_count": 4,
   "metadata": {
    "collapsed": false
   },
   "outputs": [
    {
     "name": "stdout",
     "output_type": "stream",
     "text": [
      "x - 2 =  [18 23 28 33]\n",
      "x * 2 =  [40 50 60 70]\n",
      "x **2 =  [ 400  625  900 1225]\n"
     ]
    }
   ],
   "source": [
    "# 1 dimensional\n",
    "x = numpy.array([20, 25, 30, 35])\n",
    "print(\"x - 2 = \", x - 2)\n",
    "print(\"x * 2 = \", x * 2)\n",
    "print(\"x **2 = \", x**2)"
   ]
  },
  {
   "cell_type": "code",
   "execution_count": 5,
   "metadata": {
    "collapsed": false
   },
   "outputs": [
    {
     "name": "stdout",
     "output_type": "stream",
     "text": [
      "[[[0 1]\n",
      "  [2 3]]\n",
      "\n",
      " [[4 5]\n",
      "  [6 7]]]\n",
      "x **2 = \n",
      " [[[ 0  1]\n",
      "  [ 4  9]]\n",
      "\n",
      " [[16 25]\n",
      "  [36 49]]]\n"
     ]
    }
   ],
   "source": [
    "# N dimensional\n",
    "x = numpy.arange(0, 2**3).reshape(2,2,2)\n",
    "print( x )\n",
    "print( \"x **2 = \\n\", x**2)"
   ]
  },
  {
   "cell_type": "markdown",
   "metadata": {},
   "source": [
    "### 2b.2.3 Boolean operations on arrays\n",
    "\n",
    "As we've seen before, Boolean conditions can be applied to every element in an array. This is also a vectorized function. \n",
    "\n",
    "Several different conditions can be used, such as: equal to (==), not equal to (!=), greater than (>= or >), or smaller than (<= or <). "
   ]
  },
  {
   "cell_type": "code",
   "execution_count": 6,
   "metadata": {
    "collapsed": false,
    "scrolled": true
   },
   "outputs": [
    {
     "name": "stdout",
     "output_type": "stream",
     "text": [
      "(x > 15) =  [False  True  True False False  True]\n",
      "(y == 7) =  [ True False False  True False  True]\n"
     ]
    }
   ],
   "source": [
    "# boolean operations on arrays\n",
    "x = numpy.array([10, 20, 30, 14, 15, 16])\n",
    "y = numpy.array([7, 5, 5, 7, 5, 7]) \n",
    "print(\"(x > 15) = \", x>15)\n",
    "print(\"(y == 7) = \", y==7)"
   ]
  },
  {
   "cell_type": "markdown",
   "metadata": {},
   "source": [
    "### 2b.2.4 Other vectorized tranformations\n",
    "\n",
    "Numpy provides other functions that perform vectorized operations across arrays that are not traditional mathematical functions but can be very useful. For example:\n",
    "\n",
    "- numpy.cumsum(x): returns an array containing the cumulative sum of the original elements\n",
    "- numpy.cumsum(x): returns an array containing the cumulative propduct of the original elements\n",
    "- numpy.diff(x): returns an array containing the difference between each subsequent element (changes the number of items!)\n"
   ]
  },
  {
   "cell_type": "code",
   "execution_count": 7,
   "metadata": {
    "collapsed": false
   },
   "outputs": [
    {
     "name": "stdout",
     "output_type": "stream",
     "text": [
      "[1 4 7 2]\n",
      "[ 1  5 12 14]\n",
      "[ 1  4 28 56]\n",
      "[ 3  3 -5]\n"
     ]
    }
   ],
   "source": [
    "x = numpy.array([1, 4, 7, 2])\n",
    "print( x )\n",
    "print( numpy.cumsum(x) )\n",
    "print( numpy.cumprod(x) )\n",
    "print( numpy.diff(x) )\n"
   ]
  },
  {
   "cell_type": "markdown",
   "metadata": {},
   "source": [
    "### 2b.2.5 More complex transformations\n",
    "\n",
    "Mathematical opertions on vectors can be combined to transform all values in the vector. Many of these transformations are very common in machine learning and can be efficiently implemented using vectorized operations. For example:\n",
    "\n",
    "- Standardization: `z = (x - mean(x)) / stdev(x)`. Standardized values (z-scores) have zero mean and unit standard deviation. Standardization is often used before applying machine learning algorithms. \n",
    "\n",
    "- Feature scaling: `y = (x - min(x)) / (max(x) - min(x))`, this brings the score in the range 0 to 1.\n",
    "\n",
    "- Convertion between different scales of measurements. Some examples: from Fahrenheit to Celsius, or from Dollars to Euros, or from Inches to Centimetres. "
   ]
  },
  {
   "cell_type": "markdown",
   "metadata": {},
   "source": [
    "## Exercise 2b.2\n",
    "\n",
    "- Define function `to_cm` which takes a vector of measurements in inches and converts them to centimeters.\n",
    "- Define function `to_celsius` which takes a vector of measurements in Fahrenheit and converts them to Celsius: C = (F-32)/1.8\n"
   ]
  },
  {
   "cell_type": "code",
   "execution_count": 8,
   "metadata": {
    "collapsed": true
   },
   "outputs": [],
   "source": [
    "def to_cm(x):\n",
    "    return ..."
   ]
  },
  {
   "cell_type": "code",
   "execution_count": 9,
   "metadata": {
    "collapsed": true
   },
   "outputs": [],
   "source": [
    "def to_celsius(x):\n",
    "    return ..."
   ]
  },
  {
   "cell_type": "markdown",
   "metadata": {},
   "source": [
    "## 2b.3 Vectorized dimension reduction\n",
    "\n",
    "We have already seen some functions that reduce the dimensionality of an array. For example sum takes as input an array and returns a single value."
   ]
  },
  {
   "cell_type": "code",
   "execution_count": 10,
   "metadata": {
    "collapsed": false
   },
   "outputs": [
    {
     "name": "stdout",
     "output_type": "stream",
     "text": [
      "60\n"
     ]
    }
   ],
   "source": [
    "print( numpy.sum(numpy.array([10, 20, 30])) )"
   ]
  },
  {
   "cell_type": "markdown",
   "metadata": {},
   "source": [
    "Many functions that reduce the number of dimensions can be also applied to a specific subset of dimensions. These functions have an optional parameter which is called `axis`. If no value for `axis` is provided (as is the case above) then the function is applied to the whole array. When `axis=0` then the function is applied to each column and the value for each column is returned. When `axis=1` then the function is applied to each row. The same logic applies in higher dimensions. For example, these functions all take an optional axis parameter:\n",
    "\n",
    "- numpy.sum(x)\n",
    "- numpy.min(x)\n",
    "- numpy.argmin()\n",
    "- numpy.max()\n",
    "- numpy.argmax()\n",
    "- numpy.median(x)\n",
    "- numpy.mean(x)\n",
    "- numpy.average(x, axis= , weights= ) : (weighted) average\n",
    "- numpy.std(x) : standard deviation\n",
    "- numpy.var(x) : variance"
   ]
  },
  {
   "cell_type": "code",
   "execution_count": 11,
   "metadata": {
    "collapsed": false
   },
   "outputs": [
    {
     "name": "stdout",
     "output_type": "stream",
     "text": [
      "sum: 29\n",
      "minimum: 1 and index of minimum: 0\n",
      "maximum: 8 and index of maximum: 5\n"
     ]
    }
   ],
   "source": [
    "x = numpy.array([[1, 6, 5], [2, 7, 8]])\n",
    "\n",
    "# functions applied to the entire array:\n",
    "print(\"sum:\", x.sum())\n",
    "print(\"minimum:\", x.min(), \"and index of minimum:\", x.argmin())\n",
    "print(\"maximum:\", x.max(), \"and index of maximum:\", x.argmax())"
   ]
  },
  {
   "cell_type": "code",
   "execution_count": 12,
   "metadata": {
    "collapsed": false
   },
   "outputs": [
    {
     "name": "stdout",
     "output_type": "stream",
     "text": [
      "column sums: [ 3 13 13]\n",
      "row sums: [12 17]\n",
      "minimum per column: [1 6 5]\n",
      "maximum per row: [6 8]\n"
     ]
    }
   ],
   "source": [
    "# functions applied to only one dimension of the array:\n",
    "print(\"column sums:\", x.sum(axis=0))\n",
    "print(\"row sums:\", x.sum(axis=1))\n",
    "print(\"minimum per column:\", x.min(axis=0))\n",
    "print(\"maximum per row:\", x.max(axis=1))"
   ]
  },
  {
   "cell_type": "markdown",
   "metadata": {},
   "source": [
    "Many similar functions exist which ignore NAN. These functions are called: `nanmedian`, `nanmean`, `nanstd`, `nanvar`, etc. For more statistical functions in numpy: http://docs.scipy.org/doc/numpy/reference/routines.statistics.html"
   ]
  },
  {
   "cell_type": "markdown",
   "metadata": {},
   "source": [
    "## Exercise 2b.3\n",
    "\n",
    "The function `softmax` is often used in machine learning and statistics to convert a vector of arbitrary numbers into a vector of probabilities summing up to 1. Softmax is computed by computing the exponential of each number, and then dividing each number by the sum of the exponentials:\n",
    "\n",
    "$$ \\mathrm{softmax}(x_i): \\frac{\\exp(x_i)}{\\sum_{k=1}^N \\exp(x_k)} $$\n",
    "\n",
    "Implement the softmax function. Verify that in the resulting vector all number are between 0 and 1. Verify that the resulting numbers sum up to $1$. Try implementing a version that relies on for loops and a version that is vectorized.\n",
    "\n"
   ]
  },
  {
   "cell_type": "code",
   "execution_count": 13,
   "metadata": {
    "collapsed": true
   },
   "outputs": [],
   "source": [
    "# assume a one-dimensional array\n",
    "def softmax(x):\n",
    "    return ..."
   ]
  },
  {
   "cell_type": "code",
   "execution_count": 14,
   "metadata": {
    "collapsed": true
   },
   "outputs": [],
   "source": [
    "def for_loop_softmax(x):\n",
    "    return ..."
   ]
  },
  {
   "cell_type": "code",
   "execution_count": 15,
   "metadata": {
    "collapsed": true
   },
   "outputs": [],
   "source": [
    "# try without assuming x is only one dimension\n",
    "# if axis is 0, compute the softmax for each column,\n",
    "# if axis is 1, compute the softmax for each row, etc.\n",
    "# you can assume axis is less than or equal to the number of dimensions\n",
    "def softmax_axis(x, axis=0):\n",
    "    return ..."
   ]
  },
  {
   "cell_type": "markdown",
   "metadata": {},
   "source": [
    "## 2b.4 Vectorized operations on multiple arrays \n",
    "\n",
    "Just as many functions can be applied to a single array, there are other functions that perform vectorized operations on multiple arrays. In this section we will review two classes of functions defined by the relationship between the arrays.\n",
    "\n",
    "\n",
    "### 2b.4.1 Arrays of the same shape\n",
    "\n",
    "The most basic of these functions are the standard mathematical operations: addition, subtraction, multiplication, division and power.\n",
    "\n"
   ]
  },
  {
   "cell_type": "code",
   "execution_count": 16,
   "metadata": {
    "collapsed": false
   },
   "outputs": [
    {
     "name": "stdout",
     "output_type": "stream",
     "text": [
      "y - x =  [ -5 -13  22  -6]\n",
      "x + y =  [15 27 82 74]\n",
      "x * y =  [  50  140 1560 1360]\n",
      "x / y =  [ 2.          2.85714286  0.57692308  1.17647059]\n"
     ]
    }
   ],
   "source": [
    "x = numpy.array([10, 20, 30, 40])\n",
    "y = numpy.array([5, 7, 52, 34])\n",
    "\n",
    "print(\"y - x = \", y - x)\n",
    "print(\"x + y = \", x + y)\n",
    "print(\"x * y = \", x * y)\n",
    "print(\"x / y = \", x / y)"
   ]
  },
  {
   "cell_type": "markdown",
   "metadata": {},
   "source": [
    "These vectorized functions also work for matricies and N-dimensional arrays of the same size."
   ]
  },
  {
   "cell_type": "code",
   "execution_count": 17,
   "metadata": {
    "collapsed": false
   },
   "outputs": [
    {
     "name": "stdout",
     "output_type": "stream",
     "text": [
      "[[ -5 -13 -15]\n",
      " [ 22  -6 -33]]\n",
      "[[15 27 35]\n",
      " [82 74 67]]\n",
      "[[  50  140  250]\n",
      " [1560 1360  850]]\n",
      "[[ 2.          2.85714286  2.5       ]\n",
      " [ 0.57692308  1.17647059  2.94117647]]\n"
     ]
    }
   ],
   "source": [
    "x = numpy.array([[10, 20, 25], [30, 40, 50]])\n",
    "y = numpy.array([[5, 7, 10], [52, 34, 17]])\n",
    "\n",
    "print(y - x)\n",
    "print(x + y)\n",
    "print(x * y)\n",
    "print(x / y)"
   ]
  },
  {
   "cell_type": "markdown",
   "metadata": {},
   "source": [
    "## 2b.4.2 Arrays with different shapes\n",
    "\n",
    "Besides operations between arrays of the same shape, it is sometimes possible to perform operations between arrays of different shapes. In numpy performing vectorized operations on arrays with different shapes is called broadcasting.\n",
    "\n",
    "We've already looked at the most common form of broadcasting: operations that involve an array and a single element. For example:"
   ]
  },
  {
   "cell_type": "code",
   "execution_count": 18,
   "metadata": {
    "collapsed": false
   },
   "outputs": [
    {
     "name": "stdout",
     "output_type": "stream",
     "text": [
      "[27 64]\n"
     ]
    }
   ],
   "source": [
    "print( numpy.array([3,4])**3 )"
   ]
  },
  {
   "cell_type": "markdown",
   "metadata": {},
   "source": [
    "Other combinations are possible and important for linear algebra, statistics, and machine learning. \n",
    "\n",
    "- Operations can occur between an array and a row vector if the number of columns in the array is the same as the length of the row vector."
   ]
  },
  {
   "cell_type": "code",
   "execution_count": 19,
   "metadata": {
    "collapsed": false
   },
   "outputs": [
    {
     "name": "stdout",
     "output_type": "stream",
     "text": [
      "x + y = \n",
      " [[ 6  7  8]\n",
      " [ 9 10 11]]\n",
      "x * y = \n",
      " [[ 5 10 15]\n",
      " [20 25 30]]\n"
     ]
    }
   ],
   "source": [
    "# operations between array and vector\n",
    "x = numpy.array([[1, 2, 3], [4, 5, 6]])\n",
    "y = numpy.array([5, 5, 5]) # row vector\n",
    "\n",
    "print(\"x + y = \\n\", x+y)\n",
    "print(\"x * y = \\n\", x*y)"
   ]
  },
  {
   "cell_type": "markdown",
   "metadata": {},
   "source": [
    "- Operations can also occur between an array and a column vector if the number of rows in the array is the same as the length of the column vector."
   ]
  },
  {
   "cell_type": "code",
   "execution_count": 20,
   "metadata": {
    "collapsed": false
   },
   "outputs": [
    {
     "name": "stdout",
     "output_type": "stream",
     "text": [
      "x + z = \n",
      " [[2 3 4]\n",
      " [6 7 8]]\n",
      "x * z = \n",
      " [[ 1  2  3]\n",
      " [ 8 10 12]]\n"
     ]
    }
   ],
   "source": [
    "# operations between array and vector\n",
    "x = numpy.array([[1, 2, 3], [4, 5, 6]])\n",
    "z = numpy.array([[1], [2]]) # column vector\n",
    "\n",
    "print(\"x + z = \\n\", x+z)\n",
    "print(\"x * z = \\n\", x*z)"
   ]
  },
  {
   "cell_type": "markdown",
   "metadata": {},
   "source": [
    "Broadcasting between two multidimensional arrays of different sizes can be done but is complex. Numpy is smart about figuring out if two arrays can be aligned such that dimensions have the same number of elements to perform the desired operation. \n",
    "\n",
    "Often, however, this can result in unexpected behavior that does not produce an error if arrays are not the dimensionality you expect. Because of this, it is important to confirm the dimensionality of arrays match your expectations throughout your analysis. For more information about Broadcasting:\n",
    "http://docs.scipy.org/doc/numpy/user/basics.broadcasting.html"
   ]
  },
  {
   "cell_type": "markdown",
   "metadata": {},
   "source": [
    "## Exercise 2b.4\n",
    "\n",
    "Generate a numpy array of length 5 containing random integers between 1 and 15. Use the functions `numpy.reshape`, `numpy.ones` and broadcasting to build a two-dimensional array where each element (i, j) is the product of the ith and jth elements of the initial array."
   ]
  },
  {
   "cell_type": "code",
   "execution_count": null,
   "metadata": {
    "collapsed": true
   },
   "outputs": [],
   "source": []
  }
 ],
 "metadata": {
  "kernelspec": {
   "display_name": "Python 3",
   "language": "python",
   "name": "python3"
  },
  "language_info": {
   "codemirror_mode": {
    "name": "ipython",
    "version": 3
   },
   "file_extension": ".py",
   "mimetype": "text/x-python",
   "name": "python",
   "nbconvert_exporter": "python",
   "pygments_lexer": "ipython3",
   "version": "3.6.0"
  },
  "name": "_merged"
 },
 "nbformat": 4,
 "nbformat_minor": 1
}
